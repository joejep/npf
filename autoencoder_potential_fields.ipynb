{
  "cells": [
    {
      "cell_type": "code",
      "execution_count": 15,
      "metadata": {
        "colab": {
          "base_uri": "https://localhost:8080/"
        },
        "id": "2QwO2gAgiJS2",
        "outputId": "98fe50d6-3b70-410d-ed02-00d89d39d8eb"
      },
      "outputs": [],
      "source": [
        "# #@markdown ### **Installing pip packages**\n",
        "# #@markdown - Diffusion Model: [PyTorch](https://pytorch.org) & [HuggingFace diffusers](https://huggingface.co/docs/diffusers/index)\n",
        "# #@markdown - Dataset Loading: [Zarr](https://zarr.readthedocs.io/en/stable/) & numcodecs\n",
        "# #@markdown - Push-T Env: gym, pygame, pymunk & shapely\n",
        "# !python --version\n",
        "# !pip3 install zarr scikit-video torch==1.13.1 torchvision==0.14.1 diffusers==0.18.2 \\\n",
        "# scikit-image==0.19.3 scikit-video==1.1.11 zarr==2.12.0 numcodecs==0.10.2 \\\n",
        "# pygame==2.1.2 pymunk==6.2.1 gym==0.26.2 shapely==1.8.4 \\\n",
        "# &> /dev/null # mute output\n",
        "# # Reinstall pymunk explicitly to ensure it's correctly installed\n",
        "# !pip install pymunk==6.2.1"
      ]
    },
    {
      "cell_type": "code",
      "execution_count": 16,
      "metadata": {
        "colab": {
          "base_uri": "https://localhost:8080/"
        },
        "id": "VrX4VTl5pYNq",
        "outputId": "c691217a-68af-4b89-f5ac-2169b2952d26"
      },
      "outputs": [],
      "source": [
        "#@markdown ### **Imports**\n",
        "# diffusion policy import\n",
        "from typing import Tuple, Sequence, Dict, Union, Optional, Callable\n",
        "import numpy as np\n",
        "import math\n",
        "import torch\n",
        "import torch.nn as nn\n",
        "import torchvision\n",
        "import collections\n",
        "import zarr\n",
        "# from diffusers.schedulers.scheduling_ddpm import DDPMScheduler\n",
        "# from diffusers.training_utils import EMAModel\n",
        "# from diffusers.optimization import get_scheduler\n",
        "from tqdm.auto import tqdm\n",
        "\n",
        "# env import\n",
        "import gym\n",
        "from gym import spaces\n",
        "import pygame\n",
        "import pymunk\n",
        "import pymunk.pygame_util\n",
        "from pymunk.space_debug_draw_options import SpaceDebugColor\n",
        "from pymunk.vec2d import Vec2d\n",
        "import shapely.geometry as sg\n",
        "import cv2\n",
        "import skimage.transform as st\n",
        "from skvideo.io import vwrite\n",
        "from IPython.display import Video\n",
        "# import gdown\n",
        "import os"
      ]
    },
    {
      "cell_type": "code",
      "execution_count": 17,
      "metadata": {
        "cellView": "form",
        "id": "L5E-nR6ornyg"
      },
      "outputs": [],
      "source": [
        "#@markdown ### **Environment**\n",
        "#@markdown Defines a PyMunk-based Push-T environment `PushTEnv`.\n",
        "#@markdown And it's subclass `PushTImageEnv`.\n",
        "#@markdown\n",
        "#@markdown **Goal**: push the gray T-block into the green area.\n",
        "#@markdown\n",
        "#@markdown Adapted from [Implicit Behavior Cloning](https://implicitbc.github.io/)\n",
        "\n",
        "\n",
        "positive_y_is_up: bool = False\n",
        "\"\"\"Make increasing values of y point upwards.\n",
        "\n",
        "When True::\n",
        "\n",
        "    y\n",
        "    ^\n",
        "    |      . (3, 3)\n",
        "    |\n",
        "    |   . (2, 2)\n",
        "    |\n",
        "    +------ > x\n",
        "\n",
        "When False::\n",
        "\n",
        "    +------ > x\n",
        "    |\n",
        "    |   . (2, 2)\n",
        "    |\n",
        "    |      . (3, 3)\n",
        "    v\n",
        "    y\n",
        "\n",
        "\"\"\"\n",
        "\n",
        "def to_pygame(p: Tuple[float, float], surface: pygame.Surface) -> Tuple[int, int]:\n",
        "    \"\"\"Convenience method to convert pymunk coordinates to pygame surface\n",
        "    local coordinates.\n",
        "\n",
        "    Note that in case positive_y_is_up is False, this function wont actually do\n",
        "    anything except converting the point to integers.\n",
        "    \"\"\"\n",
        "    if positive_y_is_up:\n",
        "        return round(p[0]), surface.get_height() - round(p[1])\n",
        "    else:\n",
        "        return round(p[0]), round(p[1])\n",
        "\n",
        "\n",
        "def light_color(color: SpaceDebugColor):\n",
        "    color = np.minimum(1.2 * np.float32([color.r, color.g, color.b, color.a]), np.float32([255]))\n",
        "    color = SpaceDebugColor(r=color[0], g=color[1], b=color[2], a=color[3])\n",
        "    return color\n",
        "\n",
        "class DrawOptions(pymunk.SpaceDebugDrawOptions):\n",
        "    def __init__(self, surface: pygame.Surface) -> None:\n",
        "        \"\"\"Draw a pymunk.Space on a pygame.Surface object.\n",
        "\n",
        "        Typical usage::\n",
        "\n",
        "        >>> import pymunk\n",
        "        >>> surface = pygame.Surface((10,10))\n",
        "        >>> space = pymunk.Space()\n",
        "        >>> options = pymunk.pygame_util.DrawOptions(surface)\n",
        "        >>> space.debug_draw(options)\n",
        "\n",
        "        You can control the color of a shape by setting shape.color to the color\n",
        "        you want it drawn in::\n",
        "\n",
        "        >>> c = pymunk.Circle(None, 10)\n",
        "        >>> c.color = pygame.Color(\"pink\")\n",
        "\n",
        "        See pygame_util.demo.py for a full example\n",
        "\n",
        "        Since pygame uses a coordiante system where y points down (in contrast\n",
        "        to many other cases), you either have to make the physics simulation\n",
        "        with Pymunk also behave in that way, or flip everything when you draw.\n",
        "\n",
        "        The easiest is probably to just make the simulation behave the same\n",
        "        way as Pygame does. In that way all coordinates used are in the same\n",
        "        orientation and easy to reason about::\n",
        "\n",
        "        >>> space = pymunk.Space()\n",
        "        >>> space.gravity = (0, -1000)\n",
        "        >>> body = pymunk.Body()\n",
        "        >>> body.position = (0, 0) # will be positioned in the top left corner\n",
        "        >>> space.debug_draw(options)\n",
        "\n",
        "        To flip the drawing its possible to set the module property\n",
        "        :py:data:`positive_y_is_up` to True. Then the pygame drawing will flip\n",
        "        the simulation upside down before drawing::\n",
        "\n",
        "        >>> positive_y_is_up = True\n",
        "        >>> body = pymunk.Body()\n",
        "        >>> body.position = (0, 0)\n",
        "        >>> # Body will be position in bottom left corner\n",
        "\n",
        "        :Parameters:\n",
        "                surface : pygame.Surface\n",
        "                    Surface that the objects will be drawn on\n",
        "        \"\"\"\n",
        "        self.surface = surface\n",
        "        super(DrawOptions, self).__init__()\n",
        "\n",
        "    def draw_circle(\n",
        "        self,\n",
        "        pos: Vec2d,\n",
        "        angle: float,\n",
        "        radius: float,\n",
        "        outline_color: SpaceDebugColor,\n",
        "        fill_color: SpaceDebugColor,\n",
        "    ) -> None:\n",
        "        p = to_pygame(pos, self.surface)\n",
        "\n",
        "        pygame.draw.circle(self.surface, fill_color.as_int(), p, round(radius), 0)\n",
        "        pygame.draw.circle(self.surface, light_color(fill_color).as_int(), p, round(radius-4), 0)\n",
        "\n",
        "        circle_edge = pos + Vec2d(radius, 0).rotated(angle)\n",
        "        p2 = to_pygame(circle_edge, self.surface)\n",
        "        line_r = 2 if radius > 20 else 1\n",
        "        # pygame.draw.lines(self.surface, outline_color.as_int(), False, [p, p2], line_r)\n",
        "\n",
        "    def draw_segment(self, a: Vec2d, b: Vec2d, color: SpaceDebugColor) -> None:\n",
        "        p1 = to_pygame(a, self.surface)\n",
        "        p2 = to_pygame(b, self.surface)\n",
        "\n",
        "        pygame.draw.aalines(self.surface, color.as_int(), False, [p1, p2])\n",
        "\n",
        "    def draw_fat_segment(\n",
        "        self,\n",
        "        a: Tuple[float, float],\n",
        "        b: Tuple[float, float],\n",
        "        radius: float,\n",
        "        outline_color: SpaceDebugColor,\n",
        "        fill_color: SpaceDebugColor,\n",
        "    ) -> None:\n",
        "        p1 = to_pygame(a, self.surface)\n",
        "        p2 = to_pygame(b, self.surface)\n",
        "\n",
        "        r = round(max(1, radius * 2))\n",
        "        pygame.draw.lines(self.surface, fill_color.as_int(), False, [p1, p2], r)\n",
        "        if r > 2:\n",
        "            orthog = [abs(p2[1] - p1[1]), abs(p2[0] - p1[0])]\n",
        "            if orthog[0] == 0 and orthog[1] == 0:\n",
        "                return\n",
        "            scale = radius / (orthog[0] * orthog[0] + orthog[1] * orthog[1]) ** 0.5\n",
        "            orthog[0] = round(orthog[0] * scale)\n",
        "            orthog[1] = round(orthog[1] * scale)\n",
        "            points = [\n",
        "                (p1[0] - orthog[0], p1[1] - orthog[1]),\n",
        "                (p1[0] + orthog[0], p1[1] + orthog[1]),\n",
        "                (p2[0] + orthog[0], p2[1] + orthog[1]),\n",
        "                (p2[0] - orthog[0], p2[1] - orthog[1]),\n",
        "            ]\n",
        "            pygame.draw.polygon(self.surface, fill_color.as_int(), points)\n",
        "            pygame.draw.circle(\n",
        "                self.surface,\n",
        "                fill_color.as_int(),\n",
        "                (round(p1[0]), round(p1[1])),\n",
        "                round(radius),\n",
        "            )\n",
        "            pygame.draw.circle(\n",
        "                self.surface,\n",
        "                fill_color.as_int(),\n",
        "                (round(p2[0]), round(p2[1])),\n",
        "                round(radius),\n",
        "            )\n",
        "\n",
        "    def draw_polygon(\n",
        "        self,\n",
        "        verts: Sequence[Tuple[float, float]],\n",
        "        radius: float,\n",
        "        outline_color: SpaceDebugColor,\n",
        "        fill_color: SpaceDebugColor,\n",
        "    ) -> None:\n",
        "        ps = [to_pygame(v, self.surface) for v in verts]\n",
        "        ps += [ps[0]]\n",
        "\n",
        "        radius = 2\n",
        "        pygame.draw.polygon(self.surface, light_color(fill_color).as_int(), ps)\n",
        "\n",
        "        if radius > 0:\n",
        "            for i in range(len(verts)):\n",
        "                a = verts[i]\n",
        "                b = verts[(i + 1) % len(verts)]\n",
        "                self.draw_fat_segment(a, b, radius, fill_color, fill_color)\n",
        "\n",
        "    def draw_dot(\n",
        "        self, size: float, pos: Tuple[float, float], color: SpaceDebugColor\n",
        "    ) -> None:\n",
        "        p = to_pygame(pos, self.surface)\n",
        "        pygame.draw.circle(self.surface, color.as_int(), p, round(size), 0)\n",
        "\n",
        "\n",
        "def pymunk_to_shapely(body, shapes):\n",
        "    geoms = list()\n",
        "    for shape in shapes:\n",
        "        if isinstance(shape, pymunk.shapes.Poly):\n",
        "            verts = [body.local_to_world(v) for v in shape.get_vertices()]\n",
        "            verts += [verts[0]]\n",
        "            geoms.append(sg.Polygon(verts))\n",
        "        else:\n",
        "            raise RuntimeError(f'Unsupported shape type {type(shape)}')\n",
        "    geom = sg.MultiPolygon(geoms)\n",
        "    return geom\n",
        "\n",
        "# env\n",
        "class PushTEnv(gym.Env):\n",
        "    metadata = {\"render.modes\": [\"human\", \"rgb_array\"], \"video.frames_per_second\": 10}\n",
        "    reward_range = (0., 1.)\n",
        "\n",
        "    def __init__(self,\n",
        "            legacy=False,\n",
        "            block_cog=None, damping=None,\n",
        "            render_action=True,\n",
        "            render_size=96,\n",
        "            reset_to_state=None\n",
        "        ):\n",
        "        self._seed = None\n",
        "        self.seed()\n",
        "        self.window_size = ws = 512  # The size of the PyGame window\n",
        "        self.render_size = render_size\n",
        "        self.sim_hz = 100\n",
        "        # Local controller params.\n",
        "        self.k_p, self.k_v = 100, 20    # PD control.z\n",
        "        self.control_hz = self.metadata['video.frames_per_second']\n",
        "        # legcay set_state for data compatiblity\n",
        "        self.legacy = legacy\n",
        "\n",
        "        # agent_pos, block_pos, block_angle\n",
        "        self.observation_space = spaces.Box(\n",
        "            low=np.array([0,0,0,0,0], dtype=np.float64),\n",
        "            high=np.array([ws,ws,ws,ws,np.pi*2], dtype=np.float64),\n",
        "            shape=(5,),\n",
        "            dtype=np.float64\n",
        "        )\n",
        "\n",
        "        # positional goal for agent\n",
        "        self.action_space = spaces.Box(\n",
        "            low=np.array([0,0], dtype=np.float64),\n",
        "            high=np.array([ws,ws], dtype=np.float64),\n",
        "            shape=(2,),\n",
        "            dtype=np.float64\n",
        "        )\n",
        "\n",
        "        self.block_cog = block_cog\n",
        "        self.damping = damping\n",
        "        self.render_action = render_action\n",
        "\n",
        "        \"\"\"\n",
        "        If human-rendering is used, `self.window` will be a reference\n",
        "        to the window that we draw to. `self.clock` will be a clock that is used\n",
        "        to ensure that the environment is rendered at the correct framerate in\n",
        "        human-mode. They will remain `None` until human-mode is used for the\n",
        "        first time.\n",
        "        \"\"\"\n",
        "        self.window = None\n",
        "        self.clock = None\n",
        "        self.screen = None\n",
        "\n",
        "        self.space = None\n",
        "        self.teleop = None\n",
        "        self.render_buffer = None\n",
        "        self.latest_action = None\n",
        "        self.reset_to_state = reset_to_state\n",
        "\n",
        "    def reset(self):\n",
        "        seed = self._seed\n",
        "        self._setup()\n",
        "        if self.block_cog is not None:\n",
        "            self.block.center_of_gravity = self.block_cog\n",
        "        if self.damping is not None:\n",
        "            self.space.damping = self.damping\n",
        "\n",
        "        # use legacy RandomState for compatiblity\n",
        "        state = self.reset_to_state\n",
        "        if state is None:\n",
        "            rs = np.random.RandomState(seed=seed)\n",
        "            state = np.array([\n",
        "                rs.randint(50, 450), rs.randint(50, 450),\n",
        "                rs.randint(100, 400), rs.randint(100, 400),\n",
        "                rs.randn() * 2 * np.pi - np.pi\n",
        "                ])\n",
        "        self._set_state(state)\n",
        "\n",
        "        obs = self._get_obs()\n",
        "        info = self._get_info()\n",
        "        return obs, info\n",
        "\n",
        "    def step(self, action):\n",
        "        dt = 1.0 / self.sim_hz\n",
        "        self.n_contact_points = 0\n",
        "        n_steps = self.sim_hz // self.control_hz\n",
        "        if action is not None:\n",
        "            self.latest_action = action\n",
        "            for i in range(n_steps):\n",
        "                # Step PD control.\n",
        "                # self.agent.velocity = self.k_p * (act - self.agent.position)    # P control works too.\n",
        "                acceleration = self.k_p * (action - self.agent.position) + self.k_v * (Vec2d(0, 0) - self.agent.velocity)\n",
        "                self.agent.velocity += acceleration * dt\n",
        "\n",
        "                # Step physics.\n",
        "                self.space.step(dt)\n",
        "\n",
        "        # compute reward\n",
        "        goal_body = self._get_goal_pose_body(self.goal_pose)\n",
        "        goal_geom = pymunk_to_shapely(goal_body, self.block.shapes)\n",
        "        block_geom = pymunk_to_shapely(self.block, self.block.shapes)\n",
        "\n",
        "        intersection_area = goal_geom.intersection(block_geom).area\n",
        "        goal_area = goal_geom.area\n",
        "        coverage = intersection_area / goal_area\n",
        "        reward = np.clip(coverage / self.success_threshold, 0, 1)\n",
        "        done = coverage > self.success_threshold\n",
        "        terminated = done\n",
        "        truncated = done\n",
        "\n",
        "        observation = self._get_obs()\n",
        "        info = self._get_info()\n",
        "\n",
        "        return observation, reward, terminated, truncated, info\n",
        "\n",
        "    def render(self, mode):\n",
        "        return self._render_frame(mode)\n",
        "\n",
        "    def teleop_agent(self):\n",
        "        TeleopAgent = collections.namedtuple('TeleopAgent', ['act'])\n",
        "        def act(obs):\n",
        "            act = None\n",
        "            mouse_position = pymunk.pygame_util.from_pygame(Vec2d(*pygame.mouse.get_pos()), self.screen)\n",
        "            if self.teleop or (mouse_position - self.agent.position).length < 30:\n",
        "                self.teleop = True\n",
        "                act = mouse_position\n",
        "            return act\n",
        "        return TeleopAgent(act)\n",
        "\n",
        "    def _get_obs(self):\n",
        "        obs = np.array(\n",
        "            tuple(self.agent.position) \\\n",
        "            + tuple(self.block.position) \\\n",
        "            + (self.block.angle % (2 * np.pi),))\n",
        "        return obs\n",
        "\n",
        "    def _get_goal_pose_body(self, pose):\n",
        "        mass = 1\n",
        "        inertia = pymunk.moment_for_box(mass, (50, 100))\n",
        "        body = pymunk.Body(mass, inertia)\n",
        "        # preserving the legacy assignment order for compatibility\n",
        "        # the order here dosn't matter somehow, maybe because CoM is aligned with body origin\n",
        "        body.position = pose[:2].tolist()\n",
        "        body.angle = pose[2]\n",
        "        return body\n",
        "\n",
        "    def _get_info(self):\n",
        "        n_steps = self.sim_hz // self.control_hz\n",
        "        n_contact_points_per_step = int(np.ceil(self.n_contact_points / n_steps))\n",
        "        info = {\n",
        "            'pos_agent': np.array(self.agent.position),\n",
        "            'vel_agent': np.array(self.agent.velocity),\n",
        "            'block_pose': np.array(list(self.block.position) + [self.block.angle]),\n",
        "            'goal_pose': self.goal_pose,\n",
        "            'n_contacts': n_contact_points_per_step}\n",
        "        return info\n",
        "\n",
        "    def _render_frame(self, mode):\n",
        "\n",
        "        if self.window is None and mode == \"human\":\n",
        "            pygame.init()\n",
        "            pygame.display.init()\n",
        "            self.window = pygame.display.set_mode((self.window_size, self.window_size))\n",
        "        if self.clock is None and mode == \"human\":\n",
        "            self.clock = pygame.time.Clock()\n",
        "\n",
        "        canvas = pygame.Surface((self.window_size, self.window_size))\n",
        "        canvas.fill((255, 255, 255))\n",
        "        self.screen = canvas\n",
        "\n",
        "        draw_options = DrawOptions(canvas)\n",
        "\n",
        "        # Draw goal pose.\n",
        "        goal_body = self._get_goal_pose_body(self.goal_pose)\n",
        "        for shape in self.block.shapes:\n",
        "            goal_points = [pymunk.pygame_util.to_pygame(goal_body.local_to_world(v), draw_options.surface) for v in shape.get_vertices()]\n",
        "            goal_points += [goal_points[0]]\n",
        "            pygame.draw.polygon(canvas, self.goal_color, goal_points)\n",
        "\n",
        "        # Draw agent and block.\n",
        "        self.space.debug_draw(draw_options)\n",
        "\n",
        "        if mode == \"human\":\n",
        "            # The following line copies our drawings from `canvas` to the visible window\n",
        "            self.window.blit(canvas, canvas.get_rect())\n",
        "            pygame.event.pump()\n",
        "            pygame.display.update()\n",
        "\n",
        "            # the clock is aleady ticked during in step for \"human\"\n",
        "\n",
        "\n",
        "        img = np.transpose(\n",
        "                np.array(pygame.surfarray.pixels3d(canvas)), axes=(1, 0, 2)\n",
        "            )\n",
        "        img = cv2.resize(img, (self.render_size, self.render_size))\n",
        "        if self.render_action:\n",
        "            if self.render_action and (self.latest_action is not None):\n",
        "                action = np.array(self.latest_action)\n",
        "                coord = (action / 512 * 96).astype(np.int32)\n",
        "                marker_size = int(8/96*self.render_size)\n",
        "                thickness = int(1/96*self.render_size)\n",
        "                cv2.drawMarker(img, coord,\n",
        "                    color=(255,0,0), markerType=cv2.MARKER_CROSS,\n",
        "                    markerSize=marker_size, thickness=thickness)\n",
        "        return img\n",
        "\n",
        "\n",
        "    def close(self):\n",
        "        if self.window is not None:\n",
        "            pygame.display.quit()\n",
        "            pygame.quit()\n",
        "\n",
        "    def seed(self, seed=None):\n",
        "        if seed is None:\n",
        "            seed = np.random.randint(0,25536)\n",
        "        self._seed = seed\n",
        "        self.np_random = np.random.default_rng(seed)\n",
        "\n",
        "    def _handle_collision(self, arbiter, space, data):\n",
        "        self.n_contact_points += len(arbiter.contact_point_set.points)\n",
        "\n",
        "    def _set_state(self, state):\n",
        "        if isinstance(state, np.ndarray):\n",
        "            state = state.tolist()\n",
        "        pos_agent = state[:2]\n",
        "        pos_block = state[2:4]\n",
        "        rot_block = state[4]\n",
        "        self.agent.position = pos_agent\n",
        "        # setting angle rotates with respect to center of mass\n",
        "        # therefore will modify the geometric position\n",
        "        # if not the same as CoM\n",
        "        # therefore should be modified first.\n",
        "        if self.legacy:\n",
        "            # for compatiblity with legacy data\n",
        "            self.block.position = pos_block\n",
        "            self.block.angle = rot_block\n",
        "        else:\n",
        "            self.block.angle = rot_block\n",
        "            self.block.position = pos_block\n",
        "\n",
        "        # Run physics to take effect\n",
        "        self.space.step(1.0 / self.sim_hz)\n",
        "\n",
        "    def _set_state_local(self, state_local):\n",
        "        agent_pos_local = state_local[:2]\n",
        "        block_pose_local = state_local[2:]\n",
        "        tf_img_obj = st.AffineTransform(\n",
        "            translation=self.goal_pose[:2],\n",
        "            rotation=self.goal_pose[2])\n",
        "        tf_obj_new = st.AffineTransform(\n",
        "            translation=block_pose_local[:2],\n",
        "            rotation=block_pose_local[2]\n",
        "        )\n",
        "        tf_img_new = st.AffineTransform(\n",
        "            matrix=tf_img_obj.params @ tf_obj_new.params\n",
        "        )\n",
        "        agent_pos_new = tf_img_new(agent_pos_local)\n",
        "        new_state = np.array(\n",
        "            list(agent_pos_new[0]) + list(tf_img_new.translation) \\\n",
        "                + [tf_img_new.rotation])\n",
        "        self._set_state(new_state)\n",
        "        return new_state\n",
        "\n",
        "    def _setup(self):\n",
        "        self.space = pymunk.Space()\n",
        "        self.space.gravity = 0, 0\n",
        "        self.space.damping = 0\n",
        "        self.teleop = False\n",
        "        self.render_buffer = list()\n",
        "\n",
        "        # Add walls.\n",
        "        walls = [\n",
        "            self._add_segment((5, 506), (5, 5), 2),\n",
        "            self._add_segment((5, 5), (506, 5), 2),\n",
        "            self._add_segment((506, 5), (506, 506), 2),\n",
        "            self._add_segment((5, 506), (506, 506), 2)\n",
        "        ]\n",
        "        self.space.add(*walls)\n",
        "\n",
        "        # Add agent, block, and goal zone.\n",
        "        self.agent = self.add_circle((256, 400), 15)\n",
        "        self.block = self.add_tee((256, 300), 0)\n",
        "        self.goal_color = pygame.Color('LightGreen')\n",
        "        self.goal_pose = np.array([256,256,np.pi/4])  # x, y, theta (in radians)\n",
        "\n",
        "        # Add collision handeling\n",
        "        self.collision_handeler = self.space.add_collision_handler(0, 0)\n",
        "        self.collision_handeler.post_solve = self._handle_collision\n",
        "        self.n_contact_points = 0\n",
        "\n",
        "        self.max_score = 50 * 100\n",
        "        self.success_threshold = 0.95    # 95% coverage.\n",
        "\n",
        "    def _add_segment(self, a, b, radius):\n",
        "        shape = pymunk.Segment(self.space.static_body, a, b, radius)\n",
        "        shape.color = pygame.Color('LightGray')    # https://htmlcolorcodes.com/color-names\n",
        "        return shape\n",
        "\n",
        "    def add_circle(self, position, radius):\n",
        "        body = pymunk.Body(body_type=pymunk.Body.KINEMATIC)\n",
        "        body.position = position\n",
        "        body.friction = 1\n",
        "        shape = pymunk.Circle(body, radius)\n",
        "        shape.color = pygame.Color('RoyalBlue')\n",
        "        self.space.add(body, shape)\n",
        "        return body\n",
        "\n",
        "    def add_box(self, position, height, width):\n",
        "        mass = 1\n",
        "        inertia = pymunk.moment_for_box(mass, (height, width))\n",
        "        body = pymunk.Body(mass, inertia)\n",
        "        body.position = position\n",
        "        shape = pymunk.Poly.create_box(body, (height, width))\n",
        "        shape.color = pygame.Color('LightSlateGray')\n",
        "        self.space.add(body, shape)\n",
        "        return body\n",
        "\n",
        "    def add_tee(self, position, angle, scale=30, color='LightSlateGray', mask=pymunk.ShapeFilter.ALL_MASKS()):\n",
        "        mass = 1\n",
        "        length = 4\n",
        "        vertices1 = [(-length*scale/2, scale),\n",
        "                                 ( length*scale/2, scale),\n",
        "                                 ( length*scale/2, 0),\n",
        "                                 (-length*scale/2, 0)]\n",
        "        inertia1 = pymunk.moment_for_poly(mass, vertices=vertices1)\n",
        "        vertices2 = [(-scale/2, scale),\n",
        "                                 (-scale/2, length*scale),\n",
        "                                 ( scale/2, length*scale),\n",
        "                                 ( scale/2, scale)]\n",
        "        inertia2 = pymunk.moment_for_poly(mass, vertices=vertices1)\n",
        "        body = pymunk.Body(mass, inertia1 + inertia2)\n",
        "        shape1 = pymunk.Poly(body, vertices1)\n",
        "        shape2 = pymunk.Poly(body, vertices2)\n",
        "        shape1.color = pygame.Color(color)\n",
        "        shape2.color = pygame.Color(color)\n",
        "        shape1.filter = pymunk.ShapeFilter(mask=mask)\n",
        "        shape2.filter = pymunk.ShapeFilter(mask=mask)\n",
        "        body.center_of_gravity = (shape1.center_of_gravity + shape2.center_of_gravity) / 2\n",
        "        body.position = position\n",
        "        body.angle = angle\n",
        "        body.friction = 1\n",
        "        self.space.add(body, shape1, shape2)\n",
        "        return body\n",
        "\n",
        "\n",
        "class PushTImageEnv(PushTEnv):\n",
        "    metadata = {\"render.modes\": [\"rgb_array\"], \"video.frames_per_second\": 10}\n",
        "\n",
        "    def __init__(self,\n",
        "            legacy=False,\n",
        "            block_cog=None,\n",
        "            damping=None,\n",
        "            render_size=96):\n",
        "        super().__init__(\n",
        "            legacy=legacy,\n",
        "            block_cog=block_cog,\n",
        "            damping=damping,\n",
        "            render_size=render_size,\n",
        "            render_action=False)\n",
        "        ws = self.window_size\n",
        "        self.observation_space = spaces.Dict({\n",
        "            'image': spaces.Box(\n",
        "                low=0,\n",
        "                high=1,\n",
        "                shape=(3,render_size,render_size),\n",
        "                dtype=np.float32\n",
        "            ),\n",
        "            'agent_pos': spaces.Box(\n",
        "                low=0,\n",
        "                high=ws,\n",
        "                shape=(2,),\n",
        "                dtype=np.float32\n",
        "            )\n",
        "        })\n",
        "        self.render_cache = None\n",
        "\n",
        "    def _get_obs(self):\n",
        "        img = super()._render_frame(mode='rgb_array')\n",
        "\n",
        "        agent_pos = np.array(self.agent.position)\n",
        "        img_obs = np.moveaxis(img.astype(np.float32) / 255, -1, 0)\n",
        "        obs = {\n",
        "            'image': img_obs,\n",
        "            'agent_pos': agent_pos\n",
        "        }\n",
        "\n",
        "        # draw action\n",
        "        if self.latest_action is not None:\n",
        "            action = np.array(self.latest_action)\n",
        "            coord = (action / 512 * 96).astype(np.int32)\n",
        "            marker_size = int(8/96*self.render_size)\n",
        "            thickness = int(1/96*self.render_size)\n",
        "            cv2.drawMarker(img, coord,\n",
        "                color=(255,0,0), markerType=cv2.MARKER_CROSS,\n",
        "                markerSize=marker_size, thickness=thickness)\n",
        "        self.render_cache = img\n",
        "\n",
        "        return obs\n",
        "\n",
        "    def render(self, mode):\n",
        "        assert mode == 'rgb_array'\n",
        "\n",
        "        if self.render_cache is None:\n",
        "            self._get_obs()\n",
        "\n",
        "        return self.render_cache\n",
        "\n"
      ]
    },
    {
      "cell_type": "code",
      "execution_count": 18,
      "metadata": {},
      "outputs": [],
      "source": [
        "import torch\n",
        "import matplotlib.pyplot as plt\n",
        "import numpy as np\n",
        "import os # For creating directories if needed\n",
        "\n",
        "def plot_and_save_grayscale(output_2d_tensor, filename=\"grayscale_output.png\", title=\"Autoencoder Output (Grayscale)\"):\n",
        "    plt.ioff()\n",
        "    \"\"\"\n",
        "    Plots a 1xHxW tensor as a grayscale image and saves it.\n",
        "    Scales values from -1.0 to 1.0 to 0.0 to 1.0 for plotting.\n",
        "\n",
        "    Args:\n",
        "        output_2d_tensor (torch.Tensor): The output tensor of shape (1, H, W) or (H, W).\n",
        "                                         Values are expected to be between -1.0 and 1.0.\n",
        "        filename (str): The name of the file to save the plot.\n",
        "        title (str): The title of the plot.\n",
        "    \"\"\"\n",
        "    if output_2d_tensor.dim() == 3 and output_2d_tensor.shape[0] == 1:\n",
        "        # Remove the channel dimension if it's 1\n",
        "        plot_data = output_2d_tensor.squeeze(0).cpu().numpy()\n",
        "    elif output_2d_tensor.dim() == 2:\n",
        "        plot_data = output_2d_tensor.cpu().numpy()\n",
        "    else:\n",
        "        raise ValueError(\"output_2d_tensor must be of shape (1, H, W) or (H, W)\")\n",
        "\n",
        "    # Scale values from [-1, 1] to [0, 1] for typical image display\n",
        "    plot_data_scaled = (plot_data + 1.0) / 2.0\n",
        "\n",
        "    plt.figure(figsize=(6, 6))\n",
        "    plt.imshow(plot_data_scaled, cmap='gray', vmin=0, vmax=1)\n",
        "    plt.title(title)\n",
        "    plt.colorbar(label=\"Scaled Value (0.0 to 1.0)\")\n",
        "    plt.axis('off') # Hide axes for cleaner image\n",
        "    plt.tight_layout()\n",
        "    plt.savefig(filename)\n",
        "    plt.close() # Close the plot to free memory\n",
        "\n",
        "    # print(f\"Grayscale plot saved to {filename}\")\n",
        "\n",
        "def plot_and_save_heatmap(output_2d_tensor, filename=\"heatmap_output.png\", title=\"Autoencoder Output (Heatmap)\"):\n",
        "    plt.ioff()\n",
        "    \"\"\"\n",
        "    Plots a 1xHxW tensor as a heatmap and saves it.\n",
        "    Values are expected to be between -1.0 and 1.0.\n",
        "\n",
        "    Args:\n",
        "        output_2d_tensor (torch.Tensor): The output tensor of shape (1, H, W) or (H, W).\n",
        "                                         Values are expected to be between -1.0 and 1.0.\n",
        "        filename (str): The name of the file to save the plot.\n",
        "        title (str): The title of the plot.\n",
        "    \"\"\"\n",
        "    if output_2d_tensor.dim() == 3 and output_2d_tensor.shape[0] == 1:\n",
        "        # Remove the channel dimension if it's 1\n",
        "        plot_data = output_2d_tensor.squeeze(0).cpu().numpy()\n",
        "    elif output_2d_tensor.dim() == 2:\n",
        "        plot_data = output_2d_tensor.cpu().numpy()\n",
        "    else:\n",
        "        raise ValueError(\"output_2d_tensor must be of shape (1, H, W) or (H, W)\")\n",
        "\n",
        "    plt.figure(figsize=(7, 6)) # Slightly wider for colorbar\n",
        "    plt.imshow(plot_data, cmap='viridis', vmin=-1.0, vmax=1.0) # 'viridis' or 'plasma' are good perceptual colormaps\n",
        "    plt.title(title)\n",
        "    plt.colorbar(label=\"Value (-1.0 to 1.0)\")\n",
        "    plt.axis('off') # Hide axes for cleaner image\n",
        "    plt.tight_layout()\n",
        "    plt.savefig(filename)\n",
        "    plt.close() # Close the plot to free memory\n",
        "\n",
        "    # print(f\"Heatmap plot saved to {filename}\")\n",
        "def viz(dummy_output_2d):\n",
        "    output_dir = \"model_outputs\"\n",
        "    if not os.path.exists(output_dir):\n",
        "        os.makedirs(output_dir)\n",
        "\n",
        "    # Plot and save as grayscale\n",
        "    plot_and_save_grayscale(dummy_output_2d, filename=os.path.join(output_dir, \"output_grayscale.png\"))\n",
        "\n",
        "    # Plot and save as heatmap\n",
        "    plot_and_save_heatmap(dummy_output_2d, filename=os.path.join(output_dir, \"output_heatmap.png\"))\n"
      ]
    },
    {
      "cell_type": "code",
      "execution_count": 19,
      "metadata": {
        "colab": {
          "base_uri": "https://localhost:8080/"
        },
        "id": "OknH8Qfqrtc9",
        "outputId": "bf79464f-f916-4428-9df9-c1e20fc12afd"
      },
      "outputs": [
        {
          "name": "stdout",
          "output_type": "stream",
          "text": [
            "obs['image'].shape: (3, 96, 96) float32, [0,1]\n",
            "obs['agent_pos'].shape: (2,) float32, [0,512]\n",
            "action.shape:  (2,) float32, [0,512]\n"
          ]
        }
      ],
      "source": [
        "#@markdown ### **Env Demo**\n",
        "#@markdown Standard Gym Env (0.21.0 API)\n",
        "\n",
        "# 0. create env object\n",
        "env = PushTImageEnv()\n",
        "\n",
        "# 1. seed env for initial state.\n",
        "# Seed 0-200 are used for the demonstration dataset.\n",
        "env.seed(1000)\n",
        "\n",
        "# 2. must reset before use\n",
        "obs, info = env.reset()\n",
        "\n",
        "# 3. 2D positional action space [0,512]\n",
        "action = env.action_space.sample()\n",
        "\n",
        "# 4. Standard gym step method\n",
        "obs, reward, terminated, truncated, info = env.step(action)\n",
        "\n",
        "# prints and explains each dimension of the observation and action vectors\n",
        "with np.printoptions(precision=4, suppress=True, threshold=5):\n",
        "    print(\"obs['image'].shape:\", obs['image'].shape, \"float32, [0,1]\")\n",
        "    print(\"obs['agent_pos'].shape:\", obs['agent_pos'].shape, \"float32, [0,512]\")\n",
        "    print(\"action.shape: \", action.shape, \"float32, [0,512]\")"
      ]
    },
    {
      "cell_type": "code",
      "execution_count": null,
      "metadata": {},
      "outputs": [],
      "source": [
        "def plot_agent_positions(naction,path, batch_idx=0, max_trajectories=8, figsize=(15, 10)):\n",
        "    plt.ioff()\n",
        "    if isinstance(naction, torch.Tensor):\n",
        "        naction_np = naction.detach().cpu().numpy()\n",
        "    else:\n",
        "        naction_np = naction\n",
        "    if isinstance(path, torch.Tensor):\n",
        "        path = path.detach().cpu().numpy()\n",
        "    else:\n",
        "        path = path\n",
        "    \n",
        "\n",
        "    B, T, coord_dim = naction_np.shape\n",
        "    # print(f\"Agent position tensor shape: {naction_np.shape}\")\n",
        "    # print(f\"Batch size: {B}, Time steps: {T}, Coordinates: {coord_dim}\")\n",
        "    \n",
        "    # Create subplots\n",
        "    fig = plt.figure(figsize=figsize)\n",
        "    \n",
        "    plt.subplot(2, 3, 1)\n",
        "    traj = naction_np[batch_idx]  # Shape: (T, 2)\n",
        "    x_coords = traj[:, 0]\n",
        "    y_coords = traj[:, 1]\n",
        "    traj_gt = path[batch_idx]\n",
        "    traj_gt_x_coords = traj_gt[:, 0]\n",
        "    traj_gt_y_coords = traj_gt[:, 1]\n",
        "    \n",
        "    plt.plot(x_coords, y_coords, 'b-', linewidth=2, alpha=0.7, label='Trajectory')\n",
        "    plt.plot(traj_gt_x_coords, traj_gt_y_coords, 'r-', linewidth=2, alpha=0.7, label='Trajectory')\n",
        "    plt.tight_layout()\n",
        "    # plt.show()\n",
        "    plt.savefig(\"model_outputs/plot.jpg\")\n",
        "    "
      ]
    },
    {
      "cell_type": "code",
      "execution_count": 21,
      "metadata": {
        "id": "vHepJOFBucwg"
      },
      "outputs": [],
      "source": [
        "#@markdown ### **Dataset**\n",
        "#@markdown\n",
        "#@markdown Defines `PushTImageDataset` and helper functions\n",
        "#@markdown\n",
        "#@markdown The dataset class\n",
        "#@markdown - Load data ((image, agent_pos), action) from a zarr storage\n",
        "#@markdown - Normalizes each dimension of agent_pos and action to [-1,1]\n",
        "#@markdown - Returns\n",
        "#@markdown  - All possible segments with length `pred_horizon`\n",
        "#@markdown  - Pads the beginning and the end of each episode with repetition\n",
        "#@markdown  - key `image`: shape (obs_hoirzon, 3, 96, 96)\n",
        "#@markdown  - key `agent_pos`: shape (obs_hoirzon, 2)\n",
        "#@markdown  - key `action`: shape (pred_horizon, 2)\n",
        "\n",
        "def create_sample_indices(\n",
        "        episode_ends:np.ndarray, sequence_length:int,\n",
        "        pad_before: int=0, pad_after: int=0):\n",
        "    indices = list()\n",
        "    for i in range(len(episode_ends)):\n",
        "        start_idx = 0\n",
        "        if i > 0:\n",
        "            start_idx = episode_ends[i-1]\n",
        "        end_idx = episode_ends[i]\n",
        "        episode_length = end_idx - start_idx\n",
        "\n",
        "        min_start = -pad_before\n",
        "        max_start = episode_length - sequence_length + pad_after\n",
        "\n",
        "        # range stops one idx before end\n",
        "        for idx in range(min_start, max_start+1):\n",
        "            buffer_start_idx = max(idx, 0) + start_idx\n",
        "            buffer_end_idx = min(idx+sequence_length, episode_length) + start_idx\n",
        "            start_offset = buffer_start_idx - (idx+start_idx)\n",
        "            end_offset = (idx+sequence_length+start_idx) - buffer_end_idx\n",
        "            sample_start_idx = 0 + start_offset\n",
        "            sample_end_idx = sequence_length - end_offset\n",
        "            indices.append([\n",
        "                buffer_start_idx, buffer_end_idx,\n",
        "                sample_start_idx, sample_end_idx])\n",
        "    indices = np.array(indices)\n",
        "    return indices\n",
        "\n",
        "\n",
        "def sample_sequence(train_data, sequence_length,\n",
        "                    buffer_start_idx, buffer_end_idx,\n",
        "                    sample_start_idx, sample_end_idx):\n",
        "    result = dict()\n",
        "    for key, input_arr in train_data.items():\n",
        "        sample = input_arr[buffer_start_idx:buffer_end_idx]\n",
        "        data = sample\n",
        "        if (sample_start_idx > 0) or (sample_end_idx < sequence_length):\n",
        "            data = np.zeros(\n",
        "                shape=(sequence_length,) + input_arr.shape[1:],\n",
        "                dtype=input_arr.dtype)\n",
        "            if sample_start_idx > 0:\n",
        "                data[:sample_start_idx] = sample[0]\n",
        "            if sample_end_idx < sequence_length:\n",
        "                data[sample_end_idx:] = sample[-1]\n",
        "            data[sample_start_idx:sample_end_idx] = sample\n",
        "        result[key] = data\n",
        "    return result\n",
        "\n",
        "# normalize data\n",
        "def get_data_stats(data):\n",
        "    data = data.reshape(-1,data.shape[-1])\n",
        "    stats = {\n",
        "        'min': np.min(data, axis=0),\n",
        "        'max': np.max(data, axis=0)\n",
        "    }\n",
        "    return stats\n",
        "\n",
        "def normalize_data(data, stats):\n",
        "    # nomalize to [0,1]\n",
        "    ndata = (data - stats['min']) / (stats['max'] - stats['min'])\n",
        "    # normalize to [-1, 1]\n",
        "    ndata = ndata * 2 - 1\n",
        "    return ndata\n",
        "\n",
        "def normalize_data_torch(data, stats):\n",
        "    # nomalize to [0,1]\n",
        "    ndata = (data - torch.Tensor(stats['min']).to(\"cuda\")) / torch.Tensor(stats['max'] - stats['min']).to(\"cuda\")\n",
        "    # normalize to [-1, 1]\n",
        "    ndata = ndata * 2 - 1\n",
        "    return ndata\n",
        "\n",
        "def scale_agent_position_in_pixel(data):\n",
        "    ndata = (data/512)*96 \n",
        "    return ndata\n",
        "# def scale_agent_position_in_pixel(data):\n",
        "#     ndata = (data/512)*96 \n",
        "#     return ndata\n",
        "def unnormalize_data(ndata, stats):\n",
        "    ndata = (ndata + 1) / 2\n",
        "    data = ndata * (stats['max'] - stats['min']) + stats['min']\n",
        "    return data\n",
        "\n",
        "# dataset\n",
        "class PushTImageDataset(torch.utils.data.Dataset):\n",
        "    def __init__(self,\n",
        "                 dataset_path: str,\n",
        "                 pred_horizon: int,\n",
        "                 obs_horizon: int,\n",
        "                 action_horizon: int):\n",
        "\n",
        "        # read from zarr dataset\n",
        "        dataset_root = zarr.open(dataset_path, 'r')\n",
        "\n",
        "        # float32, [0,1], (N,96,96,3)\n",
        "        train_image_data = dataset_root['data']['img'][:]\n",
        "        train_image_data = np.moveaxis(train_image_data, -1,1)\n",
        "        # (N,3,96,96)\n",
        "\n",
        "        # (N, D)\n",
        "        train_data = {\n",
        "            # first two dims of state vector are agent (i.e. gripper) locations\n",
        "            'agent_pos': scale_agent_position_in_pixel(dataset_root['data']['state'][:,:2]),\n",
        "            'action': dataset_root['data']['action'][:]\n",
        "        }\n",
        "        episode_ends = dataset_root['meta']['episode_ends'][:]\n",
        "\n",
        "        # compute start and end of each state-action sequence\n",
        "        # also handles padding\n",
        "        indices = create_sample_indices(\n",
        "            episode_ends=episode_ends,\n",
        "            sequence_length=pred_horizon,\n",
        "            pad_before=obs_horizon-1,\n",
        "            pad_after=action_horizon-1)\n",
        "\n",
        "        # compute statistics and normalized data to [-1,1]\n",
        "        stats = dict()\n",
        "        normalized_train_data = dict()\n",
        "        for key, data in train_data.items():\n",
        "            stats[key] = get_data_stats(data)\n",
        "            # if key !=\"agent_pos\":\n",
        "            normalized_train_data[key] = normalize_data(data, stats[key])\n",
        "            # else:\n",
        "\n",
        "\n",
        "        # images are already normalized\n",
        "        normalized_train_data['image'] = train_image_data\n",
        "\n",
        "        self.indices = indices\n",
        "        self.stats = stats\n",
        "        self.normalized_train_data = normalized_train_data\n",
        "        self.pred_horizon = pred_horizon\n",
        "        self.action_horizon = action_horizon\n",
        "        self.obs_horizon = obs_horizon\n",
        "\n",
        "    def __len__(self):\n",
        "        return len(self.indices)\n",
        "\n",
        "    def __getitem__(self, idx):\n",
        "        # get the start/end indices for this datapoint\n",
        "        buffer_start_idx, buffer_end_idx, \\\n",
        "            sample_start_idx, sample_end_idx = self.indices[idx]\n",
        "\n",
        "        # get nomralized data using these indices\n",
        "        nsample = sample_sequence(\n",
        "            train_data=self.normalized_train_data,\n",
        "            sequence_length=self.pred_horizon,\n",
        "            buffer_start_idx=buffer_start_idx,\n",
        "            buffer_end_idx=buffer_end_idx,\n",
        "            sample_start_idx=sample_start_idx,\n",
        "            sample_end_idx=sample_end_idx\n",
        "        )\n",
        "\n",
        "        # discard unused observations\n",
        "        nsample['image'] = nsample['image'][:self.obs_horizon,:]\n",
        "        nsample['agent_pos'] = nsample['agent_pos']\n",
        "        # nsample[\"action\"]=\n",
        "        return nsample\n"
      ]
    },
    {
      "cell_type": "code",
      "execution_count": 22,
      "metadata": {
        "colab": {
          "base_uri": "https://localhost:8080/",
          "height": 456
        },
        "id": "9ZiHF3lzvB6k",
        "outputId": "df063fca-516b-4783-e5a3-f947edea6e43"
      },
      "outputs": [],
      "source": [
        "#@markdown ### **Dataset Demo**\n",
        "\n",
        "# download demonstration data from Google Drive\n",
        "dataset_path = \"/home/kojogyaase/Projects/Research/neural_potential_fields/pusht_cchi_v7_replay.zarr.zip\"\n",
        "# if not os.path.isfile(dataset_path):\n",
        "#     id = \"1KY1InLurpMvJDRb14L9NlXT_fEsCvVUq&confirm=t\"\n",
        "#     gdown.download(id=id, output=dataset_path, quiet=False)\n",
        "\n",
        "# parameters\n",
        "pred_horizon = 8\n",
        "obs_horizon = 1\n",
        "action_horizon = 8\n",
        "device=\"cuda\"\n",
        "#|o|                             observations: 1\n",
        "#| |a|a|a|a|a|a|a|a|               actions executed: 8\n",
        "#|p|p|p|p|p|p|p|p|p|p|p|p|p|p|p|p| actions predicted: 16\n",
        "\n",
        "# create dataset from file\n",
        "dataset = PushTImageDataset(\n",
        "    dataset_path=dataset_path,\n",
        "    pred_horizon=pred_horizon,\n",
        "    obs_horizon=obs_horizon,\n",
        "    action_horizon=action_horizon\n",
        ")\n",
        "# save training data statistics (min, max) for each dim\n",
        "stats = dataset.stats\n",
        "\n",
        "# create dataloader\n",
        "dataloader = torch.utils.data.DataLoader(\n",
        "    dataset,\n",
        "    batch_size=32,\n",
        "    num_workers=4,\n",
        "    shuffle=True,\n",
        "    # accelerate cpu-gpu transfer\n",
        "    pin_memory=True,\n",
        "    # don't kill worker process afte each epoch\n",
        "    persistent_workers=True\n",
        ")\n",
        "\n"
      ]
    },
    {
      "cell_type": "code",
      "execution_count": 23,
      "metadata": {},
      "outputs": [
        {
          "name": "stdout",
          "output_type": "stream",
          "text": [
            "batch['image'].shape: torch.Size([32, 1, 3, 96, 96])\n",
            "batch['agent_pos'].shape: torch.Size([32, 8, 2])\n"
          ]
        }
      ],
      "source": [
        "# visualize data in batch\n",
        "batch = next(iter(dataloader))\n",
        "print(\"batch['image'].shape:\", batch['image'].shape)\n",
        "print(\"batch['agent_pos'].shape:\", batch['agent_pos'].shape)\n",
        "# print(\"batch['action'].shape\", batch['action'].shape)\n",
        "# plot_agent_positions(batch[\"agent_pos\"])"
      ]
    },
    {
      "cell_type": "code",
      "execution_count": null,
      "metadata": {},
      "outputs": [],
      "source": []
    },
    {
      "cell_type": "code",
      "execution_count": 24,
      "metadata": {},
      "outputs": [],
      "source": [
        "import torch\n",
        "import torch.nn as nn\n",
        "import torch.nn.functional as F\n",
        "\n",
        "class RGBTo2DAutoencoder(nn.Module):\n",
        "    \"\"\"\n",
        "    Autoencoder that takes an RGB image (3x96x96) and encodes it to a latent vector,\n",
        "    then decodes it into a 2D potential field (1x96x96), which is then squeezed to (96x96).\n",
        "    This version uses GroupNorm for better batch size flexibility.\n",
        "    \"\"\"\n",
        "    def __init__(self, input_channels=3, latent_dim=512):\n",
        "        super(RGBTo2DAutoencoder, self).__init__()\n",
        "\n",
        "        # Encoder: RGB Image -> Latent Vector (using GroupNorm instead of BatchNorm)\n",
        "        # Input: 3 x 96 x 96\n",
        "        self.encoder = nn.Sequential(\n",
        "            # Conv1: 96x96 -> 48x48\n",
        "            nn.Conv2d(input_channels, 64, kernel_size=4, stride=2, padding=1),  # (96 - 4 + 2*1)/2 + 1 = 48\n",
        "            nn.GroupNorm(8, 64),\n",
        "            nn.ReLU(True),\n",
        "\n",
        "            # Conv2: 48x48 -> 24x24\n",
        "            nn.Conv2d(64, 128, kernel_size=4, stride=2, padding=1), # (48 - 4 + 2*1)/2 + 1 = 24\n",
        "            nn.GroupNorm(16, 128),\n",
        "            nn.ReLU(True),\n",
        "\n",
        "            # Conv3: 24x24 -> 12x12\n",
        "            nn.Conv2d(128, 256, kernel_size=4, stride=2, padding=1), # (24 - 4 + 2*1)/2 + 1 = 12\n",
        "            nn.GroupNorm(32, 256),\n",
        "            nn.ReLU(True),\n",
        "\n",
        "            # Conv4: 12x12 -> 6x6\n",
        "            nn.Conv2d(256, 512, kernel_size=4, stride=2, padding=1), # (12 - 4 + 2*1)/2 + 1 = 6\n",
        "            nn.GroupNorm(32, 512), # Added GroupNorm here as well\n",
        "            nn.ReLU(True),\n",
        "\n",
        "            # Conv5: 6x6 -> 1x1 (final feature map before flatten)\n",
        "            nn.Conv2d(512, 512, kernel_size=6, stride=1, padding=0), # (6 - 6 + 2*0)/1 + 1 = 1\n",
        "            nn.ReLU(True),\n",
        "\n",
        "            nn.Flatten(),  # 512 * 1 * 1 = 512\n",
        "            nn.Linear(512, latent_dim),\n",
        "            nn.ReLU(True)\n",
        "        )\n",
        "\n",
        "        # Decoder: Latent Vector -> 96x96 2D Field\n",
        "        self.decoder = nn.Sequential(\n",
        "            # Project latent vector to a feature map that can be upsampled\n",
        "            # Start with a 1x1 latent space from the encoder, which expands to 512 channels\n",
        "            # We need to project it back to a feature map that can be upsampled to 96x96\n",
        "            # The last encoder conv outputs 512x1x1, so we start the decoder from that point.\n",
        "            # We need to reverse the operations.\n",
        "            # Decoder starts from latent_dim -> 512 (same as the last encoder conv layer output channels)\n",
        "            nn.Linear(latent_dim, 512 * 1 * 1), # Project latent_dim to the starting feature map size\n",
        "            nn.ReLU(True),\n",
        "            nn.Unflatten(1, (512, 1, 1)),  # Reshape to (Batch, 512, 1, 1)\n",
        "\n",
        "            # Up1: 1x1 -> 6x6 (reverse of Conv5: 6x6 -> 1x1)\n",
        "            nn.ConvTranspose2d(512, 256, kernel_size=6, stride=1, padding=0), # (1-1)*1 - 2*0 + 6 + 0 + 1 = 6\n",
        "            nn.GroupNorm(32, 256),\n",
        "            nn.ReLU(True),\n",
        "\n",
        "            # Up2: 6x6 -> 12x12 (reverse of Conv4: 12x12 -> 6x6)\n",
        "            nn.ConvTranspose2d(256, 128, kernel_size=4, stride=2, padding=1), # (6-1)*2 - 2*1 + 4 + 0 + 1 = 12\n",
        "            nn.GroupNorm(16, 128),\n",
        "            nn.ReLU(True),\n",
        "\n",
        "            # Up3: 12x12 -> 24x24 (reverse of Conv3: 24x24 -> 12x12)\n",
        "            nn.ConvTranspose2d(128, 64, kernel_size=4, stride=2, padding=1), # (12-1)*2 - 2*1 + 4 + 0 + 1 = 24\n",
        "            nn.GroupNorm(8, 64),\n",
        "            nn.ReLU(True),\n",
        "\n",
        "            # Up4: 24x24 -> 48x48 (reverse of Conv2: 48x48 -> 24x24)\n",
        "            nn.ConvTranspose2d(64, 32, kernel_size=4, stride=2, padding=1), # (24-1)*2 - 2*1 + 4 + 0 + 1 = 48\n",
        "            nn.GroupNorm(4, 32), # Adjusted group norm if necessary\n",
        "            nn.ReLU(True),\n",
        "\n",
        "            # Up5: 48x48 -> 96x96 (reverse of Conv1: 96x96 -> 48x48)\n",
        "            nn.ConvTranspose2d(32, 1, kernel_size=4, stride=2, padding=1), # (48-1)*2 - 2*1 + 4 + 0 + 1 = 96\n",
        "            nn.Tanh() # Using Tanh to keep the output values typically in a range like -1 to 1\n",
        "        )\n",
        "\n",
        "    def forward(self, x):\n",
        "        latent = self.encoder(x)\n",
        "        output_2d = self.decoder(latent)\n",
        "        # Squeeze the channel dimension if it's 1, resulting in (B, 96, 96)\n",
        "        output_2d = output_2d.squeeze(1)\n",
        "        return output_2d"
      ]
    },
    {
      "cell_type": "code",
      "execution_count": null,
      "metadata": {},
      "outputs": [],
      "source": [
        "# import torch\n",
        "# import torch.nn.functional as F\n",
        "# import matplotlib.pyplot as plt\n",
        "# import numpy as np\n",
        "# import os\n",
        "\n",
        "# def soft_clamp(x, min_val, max_val, temperature=1.0):\n",
        "#     \"\"\"\n",
        "#     Differentiable soft clamp function using sigmoid.\n",
        "#     \"\"\"\n",
        "#     # Normalize to [0, 1]\n",
        "#     x_norm = (x - min_val) / (max_val - min_val)\n",
        "#     # Apply sigmoid for soft clamping\n",
        "#     x_clamped = torch.sigmoid(temperature * (x_norm - 0.5)) * 0.98 + 0.01\n",
        "#     # Scale back to original range\n",
        "#     return x_clamped * (max_val - min_val) + min_val\n",
        "\n",
        "# def differentiable_grid_sample(field, coords, x_min=-5, x_max=5, y_min=-5, y_max=5):\n",
        "#     \"\"\"\n",
        "#     Differentiable bilinear interpolation using grid_sample.\n",
        "    \n",
        "#     Args:\n",
        "#         field: tensor of shape (B, 1, H, W) - batch of potential fields\n",
        "#         coords: tensor of shape (B, N, 2) - batch of coordinates in world space\n",
        "        \n",
        "#     Returns:\n",
        "#         values: tensor of shape (B, N) - interpolated values\n",
        "#     \"\"\"\n",
        "#     B, _, H, W = field.shape\n",
        "#     N = coords.shape[1]\n",
        "    \n",
        "#     # Normalize coordinates to [-1, 1] for grid_sample\n",
        "#     x_norm = 2 * (coords[:, :, 0] - x_min) / (x_max - x_min) - 1\n",
        "#     y_norm = 2 * (coords[:, :, 1] - y_min) / (y_max - y_min) - 1\n",
        "    \n",
        "#     # Stack and reshape for grid_sample: (B, N, 1, 2)\n",
        "#     grid = torch.stack([x_norm, y_norm], dim=-1).unsqueeze(2)\n",
        "    \n",
        "#     # Sample from field: (B, 1, N, 1)\n",
        "#     sampled = F.grid_sample(field, grid, mode='bilinear', padding_mode='border', align_corners=True)\n",
        "    \n",
        "#     # Reshape to (B, N)\n",
        "#     return sampled.squeeze(1).squeeze(-1)\n",
        "\n",
        "# def compute_gradient_differentiable(fields, coords, x_min=-5, x_max=5, y_min=-5, y_max=5, h=0.01):\n",
        "#     \"\"\"\n",
        "#     Compute gradients differentiably using finite differences with grid_sample.\n",
        "    \n",
        "#     Args:\n",
        "#         fields: tensor of shape (B, 1, H, W) - batch of potential fields\n",
        "#         coords: tensor of shape (B, 2) - batch of (x, y) coordinates\n",
        "        \n",
        "#     Returns:\n",
        "#         gradients: tensor of shape (B, 2) - batch of gradients\n",
        "#     \"\"\"\n",
        "#     B = fields.shape[0]\n",
        "#     device = fields.device\n",
        "    \n",
        "#     # Create offset coordinates for finite differences\n",
        "#     coords_expanded = coords.unsqueeze(1)  # (B, 1, 2)\n",
        "    \n",
        "#     # Create perturbation vectors\n",
        "#     dx_vec = torch.tensor([h, 0.0], device=device).expand(B, 1, 2)\n",
        "#     dy_vec = torch.tensor([0.0, h], device=device).expand(B, 1, 2)\n",
        "    \n",
        "#     coords_x_plus = coords_expanded + dx_vec\n",
        "#     coords_x_minus = coords_expanded - dx_vec\n",
        "#     coords_y_plus = coords_expanded + dy_vec\n",
        "#     coords_y_minus = coords_expanded - dy_vec\n",
        "    \n",
        "#     # Soft clamp coordinates to stay within bounds\n",
        "#     coords_x_plus[:, :, 0] = soft_clamp(coords_x_plus[:, :, 0], x_min, x_max)\n",
        "#     coords_x_minus[:, :, 0] = soft_clamp(coords_x_minus[:, :, 0], x_min, x_max)\n",
        "#     coords_y_plus[:, :, 1] = soft_clamp(coords_y_plus[:, :, 1], y_min, y_max)\n",
        "#     coords_y_minus[:, :, 1] = soft_clamp(coords_y_minus[:, :, 1], y_min, y_max)\n",
        "    \n",
        "#     # Sample values at perturbed coordinates\n",
        "#     val_x_plus = differentiable_grid_sample(fields, coords_x_plus, x_min, x_max, y_min, y_max)\n",
        "#     val_x_minus = differentiable_grid_sample(fields, coords_x_minus, x_min, x_max, y_min, y_max)\n",
        "#     val_y_plus = differentiable_grid_sample(fields, coords_y_plus, x_min, x_max, y_min, y_max)\n",
        "#     val_y_minus = differentiable_grid_sample(fields, coords_y_minus, x_min, x_max, y_min, y_max)\n",
        "    \n",
        "#     # Compute gradients\n",
        "#     grad_x = (val_x_plus - val_x_minus) / (2 * h)\n",
        "#     grad_y = (val_y_plus - val_y_minus) / (2 * h)\n",
        "    \n",
        "#     return torch.stack([grad_x.squeeze(), grad_y.squeeze()], dim=-1)\n",
        "\n",
        "# def find_extrema_differentiable(fields, x_min=-5, x_max=5, y_min=-5, y_max=5, temperature=40):\n",
        "#     \"\"\"\n",
        "#     Find extrema using differentiable operations with high-temperature softmax.\n",
        "#     This provides a much better approximation to true argmax/argmin.\n",
        "    \n",
        "#     Args:\n",
        "#         fields: tensor of shape (B, H, W) or (B, 1, H, W)\n",
        "#         temperature: Higher values make the softmax sharper (closer to true argmax)\n",
        "        \n",
        "#     Returns:\n",
        "#         max_coords: tensor of shape (B, 2) - approximate world coordinates of maxima\n",
        "#         min_coords: tensor of shape (B, 2) - approximate world coordinates of minima\n",
        "#     \"\"\"\n",
        "#     if len(fields.shape) == 3:\n",
        "#         fields = fields.unsqueeze(1)  # Add channel dimension\n",
        "    \n",
        "#     B, _, H, W = fields.shape\n",
        "#     device = fields.device\n",
        "    \n",
        "#     # Create coordinate grids\n",
        "#     x_coords = torch.linspace(x_min, x_max, W, device=device)\n",
        "#     y_coords = torch.linspace(y_min, y_max, H, device=device)\n",
        "#     Y_grid, X_grid = torch.meshgrid(y_coords, x_coords, indexing='ij')\n",
        "    \n",
        "#     # Flatten coordinates\n",
        "#     X_flat = X_grid.flatten()  # (H*W,)\n",
        "#     Y_flat = Y_grid.flatten()  # (H*W,)\n",
        "    \n",
        "#     max_coords = torch.zeros(B, 2, device=device)\n",
        "#     min_coords = torch.zeros(B, 2, device=device)\n",
        "    \n",
        "#     for i in range(B):\n",
        "#         field = fields[i, 0]  # (H, W)\n",
        "#         field_flat = field.flatten()  # (H*W,)\n",
        "        \n",
        "#         # Normalize field values to prevent overflow with high temperature\n",
        "#         field_normalized = (field_flat - field_flat.mean()) / (field_flat.std() + 1e-8)\n",
        "        \n",
        "#         # For maximum: use high-temperature softmax\n",
        "#         max_weights = F.softmax(field_normalized * temperature, dim=0)\n",
        "#         max_x = torch.sum(max_weights * X_flat)\n",
        "#         max_y = torch.sum(max_weights * Y_flat)\n",
        "#         max_coords[i] = torch.stack([max_x, max_y])\n",
        "        \n",
        "#         # For minimum: use high-temperature softmax on negative normalized values\n",
        "#         min_weights = F.softmax(-field_normalized * temperature, dim=0)\n",
        "#         min_x = torch.sum(min_weights * X_flat)\n",
        "#         min_y = torch.sum(min_weights * Y_flat)\n",
        "#         min_coords[i] = torch.stack([min_x, min_y])\n",
        "    \n",
        "#     return max_coords, min_coords\n",
        "\n",
        "# def differentiable_gradient_descent_batch(fields, learning_rate=0.01, num_steps=100, \n",
        "#                                         num_path_points=10, x_min=-5, x_max=5, \n",
        "#                                         y_min=-5, y_max=5, target_end_points=None):\n",
        "#     \"\"\"\n",
        "#     Fully differentiable gradient descent path finding.\n",
        "    \n",
        "#     Args:\n",
        "#         fields: tensor of shape (B, H, W) or (B, 1, H, W) - batch of potential fields\n",
        "#         target_end_points: Optional tensor of shape (B, 2) - if provided, use these as targets\n",
        "        \n",
        "#     Returns:\n",
        "#         paths: tensor of shape (B, num_path_points, 2) - batch of paths\n",
        "#     \"\"\"\n",
        "#     # Handle input shape\n",
        "#     if len(fields.shape) == 3:  # (B, H, W)\n",
        "#         fields = fields.unsqueeze(1)  # Convert to (B, 1, H, W)\n",
        "#     elif len(fields.shape) == 4 and fields.shape[-1] == 1:  # (B, H, W, 1)\n",
        "#         fields = fields.permute(0, 3, 1, 2)  # Convert to (B, 1, H, W)\n",
        "    \n",
        "#     B, _, H, W = fields.shape\n",
        "#     device = fields.device\n",
        "    \n",
        "#     # Find start and end points - these will be differentiable\n",
        "#     start_coords, end_coords = find_extrema_differentiable(fields, x_min, x_max, y_min, y_max)\n",
        "    \n",
        "#     if target_end_points is not None:\n",
        "#         end_coords = target_end_points\n",
        "    \n",
        "#     # Initialize path storage - we'll store every step\n",
        "#     all_positions = torch.zeros(B, num_steps + 1, 2, device=device)\n",
        "#     all_positions[:, 0] = start_coords\n",
        "    \n",
        "#     current_positions = start_coords.clone()\n",
        "    \n",
        "#     # Gradient descent loop - fully differentiable\n",
        "#     for step in range(num_steps):\n",
        "#         # Compute gradients at current positions\n",
        "#         gradients = compute_gradient_differentiable(fields, current_positions, \n",
        "#                                                   x_min, x_max, y_min, y_max)\n",
        "        \n",
        "#         # Update positions\n",
        "#         current_positions = current_positions - learning_rate * gradients\n",
        "        \n",
        "#         # Soft clamp to bounds\n",
        "#         current_positions[:, 0] = soft_clamp(current_positions[:, 0], x_min, x_max)\n",
        "#         current_positions[:, 1] = soft_clamp(current_positions[:, 1], y_min, y_max)\n",
        "        \n",
        "#         all_positions[:, step + 1] = current_positions\n",
        "    \n",
        "#     # Differentiable path resampling using interpolation\n",
        "#     # Create indices for resampling\n",
        "#     step_indices = torch.linspace(0, num_steps, num_path_points, device=device)\n",
        "    \n",
        "#     # Use linear interpolation to get path points at desired indices\n",
        "#     paths = torch.zeros(B, num_path_points, 2, device=device)\n",
        "    \n",
        "#     for i in range(num_path_points):\n",
        "#         idx = step_indices[i]\n",
        "        \n",
        "#         # Get integer parts and fractional part for interpolation\n",
        "#         idx_floor = torch.floor(idx).long()\n",
        "#         idx_ceil = torch.ceil(idx).long()\n",
        "#         alpha = idx - idx_floor.float()\n",
        "        \n",
        "#         # Clamp indices\n",
        "#         idx_floor = torch.clamp(idx_floor, 0, num_steps)\n",
        "#         idx_ceil = torch.clamp(idx_ceil, 0, num_steps)\n",
        "        \n",
        "#         # Linear interpolation between adjacent points\n",
        "#         if idx_floor == idx_ceil:\n",
        "#             paths[:, i] = all_positions[:, idx_floor]\n",
        "#         else:\n",
        "#             paths[:, i] = (1 - alpha) * all_positions[:, idx_floor] + alpha * all_positions[:, idx_ceil]\n",
        "    \n",
        "#     return paths\n",
        "\n",
        "# def save_batch_plots_differentiable(fields, paths, output_dir=\"model/outputs\", batch_idx=0, \n",
        "#                                   x_min=-1, x_max=1, y_min=-1, y_max=1, max_plots=4):\n",
        "#     \"\"\"\n",
        "#     Save plots for a subset of the batch (non-differentiable, for visualization only).\n",
        "#     \"\"\"\n",
        "#     os.makedirs(output_dir, exist_ok=True)\n",
        "    \n",
        "#     # Handle different input shapes\n",
        "#     if len(fields.shape) == 4:\n",
        "#         if fields.shape[1] == 1:  # (B, 1, H, W)\n",
        "#             fields_plot = fields.squeeze(1)\n",
        "#         else:  # (B, H, W, 1)\n",
        "#             fields_plot = fields.squeeze(-1)\n",
        "#     else:  # (B, H, W)\n",
        "#         fields_plot = fields\n",
        "    \n",
        "#     B = min(fields_plot.shape[0], max_plots)\n",
        "    \n",
        "#     for i in range(B):\n",
        "#         field = fields_plot[i].detach().cpu().numpy()\n",
        "#         path = paths[i].detach().cpu().numpy()\n",
        "        \n",
        "#         plt.figure(figsize=(10, 8))\n",
        "#         plt.imshow(field, origin='lower', cmap='viridis', \n",
        "#                    extent=[x_min, x_max, y_min, y_max])\n",
        "#         plt.colorbar(label='Potential Value')\n",
        "#         plt.title(f'Batch {batch_idx}, Sample {i}: Differentiable Path')\n",
        "#         plt.xlabel('X')\n",
        "#         plt.ylabel('Y')\n",
        "\n",
        "#         # Plot path\n",
        "#         plt.plot(path[:, 0], path[:, 1], 'r--', linewidth=2, label='Differentiable Path')\n",
        "#         plt.plot(path[:, 0], path[:, 1], 'go', markersize=4, label='Path Points')\n",
        "#         plt.plot(path[0, 0], path[0, 1], 'ro', markersize=8, label='Start')\n",
        "#         plt.plot(path[-1, 0], path[-1, 1], 'bx', markersize=8, label='End')\n",
        "        \n",
        "#         plt.legend()\n",
        "#         plt.grid(True)\n",
        "#         plt.tight_layout()\n",
        "#         plt.savefig(os.path.join(output_dir, f\"differentiable_batch_{batch_idx}_sample_{i}.png\"), \n",
        "#                    dpi=300, bbox_inches='tight')\n",
        "#         plt.close()\n",
        "\n",
        "# def process_batch_fields_differentiable(field_batch, learning_rate=0.05, num_steps=100, \n",
        "#                                       num_path_points=10, output_dir=\"model/outputs\", \n",
        "#                                       batch_idx=0, save_plots_flag=False, \n",
        "#                                       x_min=-1, x_max=1, y_min=-1, y_max=1):\n",
        "#     \"\"\"\n",
        "#     Process a batch of potential fields to find differentiable gradient descent paths.\n",
        "    \n",
        "#     Args:\n",
        "#         field_batch: tensor of shape (B, 96, 96, 1) or (B, 96, 96) or (B, 1, 96, 96)\n",
        "        \n",
        "#     Returns:\n",
        "#         paths: tensor of shape (B, num_path_points, 2) - batch of paths (differentiable)\n",
        "#     \"\"\"\n",
        "#     # Find paths for the entire batch\n",
        "#     paths = differentiable_gradient_descent_batch(\n",
        "#         field_batch, \n",
        "#         learning_rate=learning_rate, \n",
        "#         num_steps=num_steps,\n",
        "#         num_path_points=num_path_points,\n",
        "#         x_min=x_min, x_max=x_max, y_min=y_min, y_max=y_max\n",
        "#     )\n",
        "    \n",
        "#     # Save plots if requested (this part is not differentiable)\n",
        "#     if save_plots_flag:\n",
        "#         save_batch_plots_differentiable(field_batch, paths, output_dir, batch_idx, \n",
        "#                                       x_min, x_max, y_min, y_max)\n",
        "    \n",
        "#     return paths\n",
        "\n"
      ]
    },
    {
      "cell_type": "code",
      "execution_count": null,
      "metadata": {},
      "outputs": [],
      "source": [
        "model=RGBTo2DAutoencoder()\n",
        "# field = model(torch.randn((1,3,96,96)))\n",
        "# shape=field.shape\n",
        "# paths=[]\n",
        "# for _ in  range(shape[0]):\n",
        "# path = process_batch_fields_differentiable(\n",
        "#         field,\n",
        "#         learning_rate=0.05,\n",
        "#         num_steps=50,  # Reduced for efficiency\n",
        "#         num_path_points=10,\n",
        "#         output_dir=\"model/outputs\",\n",
        "#         batch_idx=0,\n",
        "#         save_plots_flag=True\n",
        "# )\n",
        "\n",
        "model=model.to(device)\n"
      ]
    },
    {
      "cell_type": "code",
      "execution_count": null,
      "metadata": {},
      "outputs": [],
      "source": [
        "# import torch\n",
        "\n",
        "# def soft_clamp(x, min_val, max_val, temperature=1.0):\n",
        "#     x_norm = (x - min_val) / (max_val - min_val)\n",
        "#     return (torch.sigmoid(temperature * (x_norm - 0.5)) * 0.98 + 0.01) * (max_val - min_val) + min_val\n",
        "\n",
        "# def linear_interp1d(x, xp, yp):\n",
        "#     indices = torch.searchsorted(xp, x).clamp(1, len(xp) - 1)\n",
        "#     x1, x2 = xp[indices-1], xp[indices]\n",
        "#     y1, y2 = yp[indices-1], yp[indices]\n",
        "#     return y1 + (x - x1) * (y2 - y1) / (x2 - x1 + 1e-8)\n",
        "\n",
        "# def compute_differentiable_path(potential_field, step_size=0.1, num_simulation_steps=100, num_path_points=10, convergence_threshold=1e-4):\n",
        "#     B, H, W = potential_field.shape\n",
        "#     device = potential_field.device\n",
        "    \n",
        "#     flat_potentials = potential_field.view(B, -1)\n",
        "#     start_indices = torch.argmax(flat_potentials, dim=1)\n",
        "#     end_indices = torch.argmin(flat_potentials, dim=1)\n",
        "    \n",
        "#     start_pos = torch.stack([(start_indices % W).float(), (start_indices // W).float()], dim=1)\n",
        "#     end_pos = torch.stack([(end_indices % W).float(), (end_indices // W).float()], dim=1)\n",
        "    \n",
        "#     current_pos = start_pos.clone()\n",
        "#     converged = torch.zeros(B, dtype=torch.bool, device=device)\n",
        "#     path_lengths = torch.full((B,), num_simulation_steps, device=device)\n",
        "#     all_positions = torch.zeros(num_simulation_steps+1, B, 2, device=device)\n",
        "#     all_positions[0] = start_pos\n",
        "\n",
        "#     for step in range(1, num_simulation_steps+1):\n",
        "#         gradients = compute_fast_gradient(potential_field, current_pos)\n",
        "#         step_direction = -gradients / (torch.norm(gradients, dim=1, keepdim=True) + 1e-8)\n",
        "        \n",
        "#         new_pos = current_pos + step_size * step_direction\n",
        "#         new_pos = torch.stack([\n",
        "#             torch.clamp(new_pos[:, 0], 0.0, W-1.0),\n",
        "#             torch.clamp(new_pos[:, 1], 0.0, H-1.0)\n",
        "#         ], dim=1)\n",
        "        \n",
        "#         distances = torch.norm(new_pos - end_pos, dim=1)\n",
        "#         newly_converged = (distances < convergence_threshold) & ~converged\n",
        "#         path_lengths = torch.where(newly_converged, step, path_lengths)\n",
        "#         converged = converged | newly_converged\n",
        "        \n",
        "#         current_pos = torch.where(converged.unsqueeze(1), current_pos, new_pos)\n",
        "#         all_positions[step] = current_pos\n",
        "        \n",
        "#         if converged.all():\n",
        "#             all_positions = all_positions[:step+1]\n",
        "#             break\n",
        "\n",
        "#     final_paths = torch.zeros(B, num_path_points, 2, device=device)\n",
        "#     interp_indices = torch.linspace(0, 1, num_path_points, device=device)\n",
        "    \n",
        "#     for b in range(B):\n",
        "#         n_steps = min(path_lengths[b].item()+1, all_positions.shape[0])\n",
        "#         path = all_positions[:n_steps, b]\n",
        "#         t = torch.linspace(0, 1, n_steps, device=device)\n",
        "#         for dim in range(2):\n",
        "#             final_paths[b, :, dim] = linear_interp1d(interp_indices, t, path[:, dim])\n",
        "    \n",
        "#     return final_paths\n",
        "\n",
        "# def compute_fast_gradient(potential_field, positions):\n",
        "#     B, H, W = potential_field.shape\n",
        "#     x, y = positions[:, 0], positions[:, 1]\n",
        "#     eps = 0.5\n",
        "    \n",
        "#     x_plus = torch.clamp(x + eps, 0.0, W-1.0)\n",
        "#     x_minus = torch.clamp(x - eps, 0.0, W-1.0)\n",
        "#     y_plus = torch.clamp(y + eps, 0.0, H-1.0)\n",
        "#     y_minus = torch.clamp(y - eps, 0.0, H-1.0)\n",
        "    \n",
        "#     val_x_plus = bilinear_sample_batch(potential_field, x_plus, y)\n",
        "#     val_x_minus = bilinear_sample_batch(potential_field, x_minus, y)\n",
        "#     val_y_plus = bilinear_sample_batch(potential_field, x, y_plus)\n",
        "#     val_y_minus = bilinear_sample_batch(potential_field, x, y_minus)\n",
        "    \n",
        "#     return torch.stack([\n",
        "#         (val_x_plus - val_x_minus) / (x_plus - x_minus + 1e-8),\n",
        "#         (val_y_plus - val_y_minus) / (y_plus - y_minus + 1e-8)\n",
        "#     ], dim=1)\n",
        "\n",
        "# def bilinear_sample_batch(field, x, y):\n",
        "#     B, H, W = field.shape\n",
        "#     x0 = torch.floor(x).long().clamp(0, W-2)\n",
        "#     y0 = torch.floor(y).long().clamp(0, H-2)\n",
        "#     x1, y1 = x0 + 1, y0 + 1\n",
        "    \n",
        "#     wx = x - x0.float()\n",
        "#     wy = y - y0.float()\n",
        "    \n",
        "#     return ((1-wx)*(1-wy)*field[torch.arange(B), y0, x0] + \n",
        "#             wx*(1-wy)*field[torch.arange(B), y0, x1] + \n",
        "#             (1-wx)*wy*field[torch.arange(B), y1, x0] + \n",
        "#             wx*wy*field[torch.arange(B), y1, x1])\n",
        "\n"
      ]
    },
    {
      "cell_type": "code",
      "execution_count": null,
      "metadata": {},
      "outputs": [
        {
          "name": "stderr",
          "output_type": "stream",
          "text": [
            "Epoch:   0%|          | 0/30 [00:00<?, ?it/s]"
          ]
        },
        {
          "name": "stdout",
          "output_type": "stream",
          "text": [
            "\n",
            "Batch 20/802 | Loss: 0.587764 | Avg Loss: 0.450931 | Field Shape: torch.Size([32, 96, 96]) | Path Shape: torch.Size([32, 8, 2])\n"
          ]
        },
        {
          "name": "stderr",
          "output_type": "stream",
          "text": []
        },
        {
          "name": "stdout",
          "output_type": "stream",
          "text": [
            "\n",
            "Batch 40/802 | Loss: 0.650118 | Avg Loss: 0.530918 | Field Shape: torch.Size([32, 96, 96]) | Path Shape: torch.Size([32, 8, 2])\n"
          ]
        },
        {
          "name": "stderr",
          "output_type": "stream",
          "text": []
        },
        {
          "name": "stdout",
          "output_type": "stream",
          "text": [
            "\n",
            "Batch 60/802 | Loss: 0.699989 | Avg Loss: 0.482667 | Field Shape: torch.Size([32, 96, 96]) | Path Shape: torch.Size([32, 8, 2])\n"
          ]
        },
        {
          "name": "stderr",
          "output_type": "stream",
          "text": []
        },
        {
          "name": "stdout",
          "output_type": "stream",
          "text": [
            "\n",
            "Batch 80/802 | Loss: 0.716899 | Avg Loss: 0.522848 | Field Shape: torch.Size([32, 96, 96]) | Path Shape: torch.Size([32, 8, 2])\n"
          ]
        },
        {
          "name": "stderr",
          "output_type": "stream",
          "text": []
        },
        {
          "name": "stdout",
          "output_type": "stream",
          "text": [
            "\n",
            "Batch 100/802 | Loss: 0.682860 | Avg Loss: 0.546233 | Field Shape: torch.Size([32, 96, 96]) | Path Shape: torch.Size([32, 8, 2])\n"
          ]
        },
        {
          "name": "stderr",
          "output_type": "stream",
          "text": []
        },
        {
          "name": "stdout",
          "output_type": "stream",
          "text": [
            "\n",
            "Batch 120/802 | Loss: 0.646738 | Avg Loss: 0.567073 | Field Shape: torch.Size([32, 96, 96]) | Path Shape: torch.Size([32, 8, 2])\n"
          ]
        },
        {
          "name": "stderr",
          "output_type": "stream",
          "text": []
        },
        {
          "name": "stdout",
          "output_type": "stream",
          "text": [
            "\n",
            "Batch 140/802 | Loss: 0.654084 | Avg Loss: 0.580565 | Field Shape: torch.Size([32, 96, 96]) | Path Shape: torch.Size([32, 8, 2])\n"
          ]
        },
        {
          "name": "stderr",
          "output_type": "stream",
          "text": []
        },
        {
          "name": "stdout",
          "output_type": "stream",
          "text": [
            "\n",
            "Batch 160/802 | Loss: 0.492462 | Avg Loss: 0.587585 | Field Shape: torch.Size([32, 96, 96]) | Path Shape: torch.Size([32, 8, 2])\n"
          ]
        },
        {
          "name": "stderr",
          "output_type": "stream",
          "text": []
        },
        {
          "name": "stdout",
          "output_type": "stream",
          "text": [
            "\n",
            "Batch 180/802 | Loss: 0.608223 | Avg Loss: 0.577737 | Field Shape: torch.Size([32, 96, 96]) | Path Shape: torch.Size([32, 8, 2])\n"
          ]
        },
        {
          "name": "stderr",
          "output_type": "stream",
          "text": []
        },
        {
          "name": "stdout",
          "output_type": "stream",
          "text": [
            "\n",
            "Batch 200/802 | Loss: 0.546355 | Avg Loss: 0.569716 | Field Shape: torch.Size([32, 96, 96]) | Path Shape: torch.Size([32, 8, 2])\n"
          ]
        },
        {
          "name": "stderr",
          "output_type": "stream",
          "text": []
        },
        {
          "name": "stdout",
          "output_type": "stream",
          "text": [
            "\n",
            "Batch 220/802 | Loss: 0.564522 | Avg Loss: 0.554888 | Field Shape: torch.Size([32, 96, 96]) | Path Shape: torch.Size([32, 8, 2])\n"
          ]
        },
        {
          "name": "stderr",
          "output_type": "stream",
          "text": []
        },
        {
          "name": "stdout",
          "output_type": "stream",
          "text": [
            "\n",
            "Batch 240/802 | Loss: 0.620572 | Avg Loss: 0.544963 | Field Shape: torch.Size([32, 96, 96]) | Path Shape: torch.Size([32, 8, 2])\n"
          ]
        },
        {
          "name": "stderr",
          "output_type": "stream",
          "text": []
        },
        {
          "name": "stdout",
          "output_type": "stream",
          "text": [
            "\n",
            "Batch 260/802 | Loss: 0.452841 | Avg Loss: 0.538729 | Field Shape: torch.Size([32, 96, 96]) | Path Shape: torch.Size([32, 8, 2])\n"
          ]
        },
        {
          "name": "stderr",
          "output_type": "stream",
          "text": []
        },
        {
          "name": "stdout",
          "output_type": "stream",
          "text": [
            "\n",
            "Batch 280/802 | Loss: 0.340405 | Avg Loss: 0.535594 | Field Shape: torch.Size([32, 96, 96]) | Path Shape: torch.Size([32, 8, 2])\n"
          ]
        },
        {
          "name": "stderr",
          "output_type": "stream",
          "text": []
        },
        {
          "name": "stdout",
          "output_type": "stream",
          "text": [
            "\n",
            "Batch 300/802 | Loss: 0.465101 | Avg Loss: 0.532429 | Field Shape: torch.Size([32, 96, 96]) | Path Shape: torch.Size([32, 8, 2])\n"
          ]
        },
        {
          "name": "stderr",
          "output_type": "stream",
          "text": []
        },
        {
          "name": "stdout",
          "output_type": "stream",
          "text": [
            "\n",
            "Batch 320/802 | Loss: 0.458906 | Avg Loss: 0.529020 | Field Shape: torch.Size([32, 96, 96]) | Path Shape: torch.Size([32, 8, 2])\n"
          ]
        },
        {
          "name": "stderr",
          "output_type": "stream",
          "text": []
        },
        {
          "name": "stdout",
          "output_type": "stream",
          "text": [
            "\n",
            "Batch 340/802 | Loss: 0.412039 | Avg Loss: 0.525332 | Field Shape: torch.Size([32, 96, 96]) | Path Shape: torch.Size([32, 8, 2])\n"
          ]
        },
        {
          "name": "stderr",
          "output_type": "stream",
          "text": []
        },
        {
          "name": "stdout",
          "output_type": "stream",
          "text": [
            "\n",
            "Batch 360/802 | Loss: 0.397871 | Avg Loss: 0.523877 | Field Shape: torch.Size([32, 96, 96]) | Path Shape: torch.Size([32, 8, 2])\n"
          ]
        },
        {
          "name": "stderr",
          "output_type": "stream",
          "text": []
        },
        {
          "name": "stdout",
          "output_type": "stream",
          "text": [
            "\n",
            "Batch 380/802 | Loss: 0.511898 | Avg Loss: 0.521894 | Field Shape: torch.Size([32, 96, 96]) | Path Shape: torch.Size([32, 8, 2])\n"
          ]
        },
        {
          "name": "stderr",
          "output_type": "stream",
          "text": []
        },
        {
          "name": "stdout",
          "output_type": "stream",
          "text": [
            "\n",
            "Batch 400/802 | Loss: 0.432478 | Avg Loss: 0.521470 | Field Shape: torch.Size([32, 96, 96]) | Path Shape: torch.Size([32, 8, 2])\n"
          ]
        },
        {
          "name": "stderr",
          "output_type": "stream",
          "text": [
            "/tmp/ipykernel_347871/3793379579.py:29: RuntimeWarning: More than 20 figures have been opened. Figures created through the pyplot interface (`matplotlib.pyplot.figure`) are retained until explicitly closed and may consume too much memory. (To control this warning, see the rcParam `figure.max_open_warning`). Consider using `matplotlib.pyplot.close()`.\n",
            "  plt.figure(figsize=(6, 6))\n",
            "/tmp/ipykernel_347871/3793379579.py:60: RuntimeWarning: More than 20 figures have been opened. Figures created through the pyplot interface (`matplotlib.pyplot.figure`) are retained until explicitly closed and may consume too much memory. (To control this warning, see the rcParam `figure.max_open_warning`). Consider using `matplotlib.pyplot.close()`.\n",
            "  plt.figure(figsize=(7, 6)) # Slightly wider for colorbar\n"
          ]
        },
        {
          "name": "stdout",
          "output_type": "stream",
          "text": [
            "\n",
            "Batch 420/802 | Loss: 0.512776 | Avg Loss: 0.519833 | Field Shape: torch.Size([32, 96, 96]) | Path Shape: torch.Size([32, 8, 2])\n"
          ]
        },
        {
          "name": "stderr",
          "output_type": "stream",
          "text": []
        },
        {
          "name": "stdout",
          "output_type": "stream",
          "text": [
            "\n",
            "Batch 440/802 | Loss: 0.665649 | Avg Loss: 0.519677 | Field Shape: torch.Size([32, 96, 96]) | Path Shape: torch.Size([32, 8, 2])\n"
          ]
        },
        {
          "name": "stderr",
          "output_type": "stream",
          "text": [
            "/tmp/ipykernel_347871/3590721419.py:18: RuntimeWarning: More than 20 figures have been opened. Figures created through the pyplot interface (`matplotlib.pyplot.figure`) are retained until explicitly closed and may consume too much memory. (To control this warning, see the rcParam `figure.max_open_warning`). Consider using `matplotlib.pyplot.close()`.\n",
            "  fig = plt.figure(figsize=figsize)\n",
            "\n"
          ]
        },
        {
          "name": "stdout",
          "output_type": "stream",
          "text": [
            "\n",
            "Batch 460/802 | Loss: 0.761151 | Avg Loss: 0.521704 | Field Shape: torch.Size([32, 96, 96]) | Path Shape: torch.Size([32, 8, 2])\n"
          ]
        },
        {
          "name": "stderr",
          "output_type": "stream",
          "text": [
            "Batch:  57%|█████▋    | 461/802 [03:30<01:15,  4.49it/s, batch_loss=0.727817, batch_avg=0.522430, batch=462/802]\u001b[A\n"
          ]
        },
        {
          "name": "stdout",
          "output_type": "stream",
          "text": [
            "\n",
            "Batch 480/802 | Loss: 0.805210 | Avg Loss: 0.529228 | Field Shape: torch.Size([32, 96, 96]) | Path Shape: torch.Size([32, 8, 2])\n"
          ]
        },
        {
          "name": "stderr",
          "output_type": "stream",
          "text": [
            "Batch:  60%|█████▉    | 481/802 [03:32<00:32,  9.88it/s, batch_loss=0.710195, batch_avg=0.529862, batch=482/802]\u001b[A"
          ]
        },
        {
          "name": "stdout",
          "output_type": "stream",
          "text": [
            "\n",
            "Batch 500/802 | Loss: 0.606881 | Avg Loss: 0.536901 | Field Shape: torch.Size([32, 96, 96]) | Path Shape: torch.Size([32, 8, 2])\n"
          ]
        },
        {
          "name": "stderr",
          "output_type": "stream",
          "text": []
        },
        {
          "name": "stdout",
          "output_type": "stream",
          "text": [
            "\n",
            "Batch 520/802 | Loss: 0.810126 | Avg Loss: 0.543739 | Field Shape: torch.Size([32, 96, 96]) | Path Shape: torch.Size([32, 8, 2])\n"
          ]
        },
        {
          "name": "stderr",
          "output_type": "stream",
          "text": [
            "\n",
            "Batch:  67%|██████▋   | 540/802 [03:38<00:25, 10.20it/s, batch_loss=0.735693, batch_avg=0.550899, batch=542/802]"
          ]
        },
        {
          "name": "stdout",
          "output_type": "stream",
          "text": [
            "\n",
            "Batch 540/802 | Loss: 0.782193 | Avg Loss: 0.550382 | Field Shape: torch.Size([32, 96, 96]) | Path Shape: torch.Size([32, 8, 2])\n"
          ]
        },
        {
          "name": "stderr",
          "output_type": "stream",
          "text": [
            "\u001b[A\n",
            "Batch:  70%|███████   | 562/802 [03:40<00:24,  9.65it/s, batch_loss=0.761081, batch_avg=0.558003, batch=562/802]"
          ]
        },
        {
          "name": "stdout",
          "output_type": "stream",
          "text": [
            "\n",
            "Batch 560/802 | Loss: 0.633847 | Avg Loss: 0.557424 | Field Shape: torch.Size([32, 96, 96]) | Path Shape: torch.Size([32, 8, 2])\n"
          ]
        },
        {
          "name": "stderr",
          "output_type": "stream",
          "text": [
            "\u001b[A\n"
          ]
        },
        {
          "name": "stdout",
          "output_type": "stream",
          "text": [
            "\n",
            "Batch 580/802 | Loss: 0.674008 | Avg Loss: 0.563394 | Field Shape: torch.Size([32, 96, 96]) | Path Shape: torch.Size([32, 8, 2])\n"
          ]
        },
        {
          "name": "stderr",
          "output_type": "stream",
          "text": [
            "Batch:  72%|███████▏  | 581/802 [03:42<00:22,  9.74it/s, batch_loss=0.746661, batch_avg=0.564044, batch=582/802]\u001b[A"
          ]
        },
        {
          "name": "stdout",
          "output_type": "stream",
          "text": [
            "\n",
            "Batch 600/802 | Loss: 0.688997 | Avg Loss: 0.569468 | Field Shape: torch.Size([32, 96, 96]) | Path Shape: torch.Size([32, 8, 2])\n"
          ]
        },
        {
          "name": "stderr",
          "output_type": "stream",
          "text": []
        },
        {
          "name": "stdout",
          "output_type": "stream",
          "text": [
            "\n",
            "Batch 620/802 | Loss: 0.763105 | Avg Loss: 0.574263 | Field Shape: torch.Size([32, 96, 96]) | Path Shape: torch.Size([32, 8, 2])\n"
          ]
        },
        {
          "name": "stderr",
          "output_type": "stream",
          "text": [
            "\n",
            "Batch:  80%|███████▉  | 640/802 [03:48<00:16, 10.04it/s, batch_loss=0.718150, batch_avg=0.579076, batch=642/802]"
          ]
        },
        {
          "name": "stdout",
          "output_type": "stream",
          "text": [
            "\n",
            "Batch 640/802 | Loss: 0.680744 | Avg Loss: 0.578682 | Field Shape: torch.Size([32, 96, 96]) | Path Shape: torch.Size([32, 8, 2])\n"
          ]
        },
        {
          "name": "stderr",
          "output_type": "stream",
          "text": [
            "\u001b[A"
          ]
        },
        {
          "name": "stdout",
          "output_type": "stream",
          "text": [
            "\n",
            "Batch 660/802 | Loss: 0.858972 | Avg Loss: 0.583342 | Field Shape: torch.Size([32, 96, 96]) | Path Shape: torch.Size([32, 8, 2])\n"
          ]
        },
        {
          "name": "stderr",
          "output_type": "stream",
          "text": []
        },
        {
          "name": "stdout",
          "output_type": "stream",
          "text": [
            "\n",
            "Batch 680/802 | Loss: 0.825478 | Avg Loss: 0.587625 | Field Shape: torch.Size([32, 96, 96]) | Path Shape: torch.Size([32, 8, 2])\n"
          ]
        },
        {
          "name": "stderr",
          "output_type": "stream",
          "text": []
        },
        {
          "name": "stdout",
          "output_type": "stream",
          "text": [
            "\n",
            "Batch 700/802 | Loss: 0.512884 | Avg Loss: 0.591398 | Field Shape: torch.Size([32, 96, 96]) | Path Shape: torch.Size([32, 8, 2])\n"
          ]
        },
        {
          "name": "stderr",
          "output_type": "stream",
          "text": []
        },
        {
          "name": "stdout",
          "output_type": "stream",
          "text": [
            "\n",
            "Batch 720/802 | Loss: 0.713524 | Avg Loss: 0.594950 | Field Shape: torch.Size([32, 96, 96]) | Path Shape: torch.Size([32, 8, 2])\n"
          ]
        },
        {
          "name": "stderr",
          "output_type": "stream",
          "text": [
            "\n"
          ]
        },
        {
          "name": "stdout",
          "output_type": "stream",
          "text": [
            "\n",
            "Batch 740/802 | Loss: 0.691054 | Avg Loss: 0.598170 | Field Shape: torch.Size([32, 96, 96]) | Path Shape: torch.Size([32, 8, 2])\n"
          ]
        },
        {
          "name": "stderr",
          "output_type": "stream",
          "text": [
            "Batch:  92%|█████████▏| 740/802 [03:59<00:06, 10.05it/s, batch_loss=0.791067, batch_avg=0.598680, batch=742/802]\u001b[A"
          ]
        },
        {
          "name": "stdout",
          "output_type": "stream",
          "text": [
            "\n",
            "Batch 760/802 | Loss: 0.746876 | Avg Loss: 0.601859 | Field Shape: torch.Size([32, 96, 96]) | Path Shape: torch.Size([32, 8, 2])\n"
          ]
        },
        {
          "name": "stderr",
          "output_type": "stream",
          "text": []
        },
        {
          "name": "stdout",
          "output_type": "stream",
          "text": [
            "\n",
            "Batch 780/802 | Loss: 0.604236 | Avg Loss: 0.604471 | Field Shape: torch.Size([32, 96, 96]) | Path Shape: torch.Size([32, 8, 2])\n"
          ]
        },
        {
          "name": "stderr",
          "output_type": "stream",
          "text": []
        },
        {
          "name": "stdout",
          "output_type": "stream",
          "text": [
            "\n",
            "Batch 800/802 | Loss: 0.671545 | Avg Loss: 0.608041 | Field Shape: torch.Size([32, 96, 96]) | Path Shape: torch.Size([32, 8, 2])\n"
          ]
        },
        {
          "name": "stderr",
          "output_type": "stream",
          "text": [
            "Epoch:   3%|▎         | 1/30 [04:05<1:58:41, 245.58s/it, epoch_loss=0.608634, best_loss=0.608634, batches=802]"
          ]
        },
        {
          "name": "stdout",
          "output_type": "stream",
          "text": [
            "\n",
            "Batch 20/802 | Loss: 0.688348 | Avg Loss: 0.719648 | Field Shape: torch.Size([32, 96, 96]) | Path Shape: torch.Size([32, 8, 2])\n"
          ]
        },
        {
          "name": "stderr",
          "output_type": "stream",
          "text": []
        },
        {
          "name": "stdout",
          "output_type": "stream",
          "text": [
            "\n",
            "Batch 40/802 | Loss: 0.712180 | Avg Loss: 0.738729 | Field Shape: torch.Size([32, 96, 96]) | Path Shape: torch.Size([32, 8, 2])\n"
          ]
        },
        {
          "name": "stderr",
          "output_type": "stream",
          "text": [
            "\n",
            "Batch:   7%|▋         | 60/802 [00:06<01:21,  9.09it/s, batch_loss=0.774438, batch_avg=0.732756, batch=62/802]"
          ]
        },
        {
          "name": "stdout",
          "output_type": "stream",
          "text": [
            "\n",
            "Batch 60/802 | Loss: 0.728512 | Avg Loss: 0.732834 | Field Shape: torch.Size([32, 96, 96]) | Path Shape: torch.Size([32, 8, 2])\n"
          ]
        },
        {
          "name": "stderr",
          "output_type": "stream",
          "text": [
            "\u001b[A"
          ]
        },
        {
          "name": "stdout",
          "output_type": "stream",
          "text": [
            "\n",
            "Batch 80/802 | Loss: 0.802682 | Avg Loss: 0.725565 | Field Shape: torch.Size([32, 96, 96]) | Path Shape: torch.Size([32, 8, 2])\n"
          ]
        },
        {
          "name": "stderr",
          "output_type": "stream",
          "text": []
        },
        {
          "name": "stdout",
          "output_type": "stream",
          "text": [
            "\n",
            "Batch 100/802 | Loss: 0.613004 | Avg Loss: 0.725399 | Field Shape: torch.Size([32, 96, 96]) | Path Shape: torch.Size([32, 8, 2])\n"
          ]
        },
        {
          "name": "stderr",
          "output_type": "stream",
          "text": []
        },
        {
          "name": "stdout",
          "output_type": "stream",
          "text": [
            "\n",
            "Batch 120/802 | Loss: 0.632914 | Avg Loss: 0.723152 | Field Shape: torch.Size([32, 96, 96]) | Path Shape: torch.Size([32, 8, 2])\n"
          ]
        },
        {
          "name": "stderr",
          "output_type": "stream",
          "text": []
        },
        {
          "name": "stdout",
          "output_type": "stream",
          "text": [
            "\n",
            "Batch 140/802 | Loss: 0.733487 | Avg Loss: 0.721150 | Field Shape: torch.Size([32, 96, 96]) | Path Shape: torch.Size([32, 8, 2])\n"
          ]
        },
        {
          "name": "stderr",
          "output_type": "stream",
          "text": []
        },
        {
          "name": "stdout",
          "output_type": "stream",
          "text": [
            "\n",
            "Batch 160/802 | Loss: 0.663925 | Avg Loss: 0.723375 | Field Shape: torch.Size([32, 96, 96]) | Path Shape: torch.Size([32, 8, 2])\n"
          ]
        },
        {
          "name": "stderr",
          "output_type": "stream",
          "text": []
        },
        {
          "name": "stdout",
          "output_type": "stream",
          "text": [
            "\n",
            "Batch 180/802 | Loss: 0.593841 | Avg Loss: 0.724300 | Field Shape: torch.Size([32, 96, 96]) | Path Shape: torch.Size([32, 8, 2])\n"
          ]
        },
        {
          "name": "stderr",
          "output_type": "stream",
          "text": []
        },
        {
          "name": "stdout",
          "output_type": "stream",
          "text": [
            "\n",
            "Batch 200/802 | Loss: 0.696843 | Avg Loss: 0.726740 | Field Shape: torch.Size([32, 96, 96]) | Path Shape: torch.Size([32, 8, 2])\n"
          ]
        },
        {
          "name": "stderr",
          "output_type": "stream",
          "text": []
        },
        {
          "name": "stdout",
          "output_type": "stream",
          "text": [
            "\n",
            "Batch 220/802 | Loss: 0.789181 | Avg Loss: 0.727431 | Field Shape: torch.Size([32, 96, 96]) | Path Shape: torch.Size([32, 8, 2])\n"
          ]
        },
        {
          "name": "stderr",
          "output_type": "stream",
          "text": [
            "\n"
          ]
        },
        {
          "name": "stdout",
          "output_type": "stream",
          "text": [
            "\n",
            "Batch 240/802 | Loss: 0.703347 | Avg Loss: 0.726351 | Field Shape: torch.Size([32, 96, 96]) | Path Shape: torch.Size([32, 8, 2])\n"
          ]
        },
        {
          "name": "stderr",
          "output_type": "stream",
          "text": [
            "Batch:  30%|██▉       | 240/802 [00:25<00:53, 10.51it/s, batch_loss=0.705414, batch_avg=0.726052, batch=242/802]\u001b[A"
          ]
        },
        {
          "name": "stdout",
          "output_type": "stream",
          "text": [
            "\n",
            "Batch 260/802 | Loss: 0.713876 | Avg Loss: 0.724064 | Field Shape: torch.Size([32, 96, 96]) | Path Shape: torch.Size([32, 8, 2])\n"
          ]
        },
        {
          "name": "stderr",
          "output_type": "stream",
          "text": []
        },
        {
          "name": "stdout",
          "output_type": "stream",
          "text": [
            "\n",
            "Batch 280/802 | Loss: 0.724121 | Avg Loss: 0.724667 | Field Shape: torch.Size([32, 96, 96]) | Path Shape: torch.Size([32, 8, 2])\n"
          ]
        },
        {
          "name": "stderr",
          "output_type": "stream",
          "text": []
        },
        {
          "name": "stdout",
          "output_type": "stream",
          "text": [
            "\n",
            "Batch 300/802 | Loss: 0.771433 | Avg Loss: 0.727118 | Field Shape: torch.Size([32, 96, 96]) | Path Shape: torch.Size([32, 8, 2])\n"
          ]
        },
        {
          "name": "stderr",
          "output_type": "stream",
          "text": []
        },
        {
          "name": "stdout",
          "output_type": "stream",
          "text": [
            "\n",
            "Batch 320/802 | Loss: 0.620512 | Avg Loss: 0.728597 | Field Shape: torch.Size([32, 96, 96]) | Path Shape: torch.Size([32, 8, 2])\n"
          ]
        },
        {
          "name": "stderr",
          "output_type": "stream",
          "text": []
        },
        {
          "name": "stdout",
          "output_type": "stream",
          "text": [
            "\n",
            "Batch 340/802 | Loss: 0.662825 | Avg Loss: 0.728648 | Field Shape: torch.Size([32, 96, 96]) | Path Shape: torch.Size([32, 8, 2])\n"
          ]
        },
        {
          "name": "stderr",
          "output_type": "stream",
          "text": []
        },
        {
          "name": "stdout",
          "output_type": "stream",
          "text": [
            "\n",
            "Batch 360/802 | Loss: 0.760567 | Avg Loss: 0.728495 | Field Shape: torch.Size([32, 96, 96]) | Path Shape: torch.Size([32, 8, 2])\n"
          ]
        },
        {
          "name": "stderr",
          "output_type": "stream",
          "text": []
        },
        {
          "name": "stdout",
          "output_type": "stream",
          "text": [
            "\n",
            "Batch 380/802 | Loss: 0.797051 | Avg Loss: 0.728345 | Field Shape: torch.Size([32, 96, 96]) | Path Shape: torch.Size([32, 8, 2])\n"
          ]
        },
        {
          "name": "stderr",
          "output_type": "stream",
          "text": []
        },
        {
          "name": "stdout",
          "output_type": "stream",
          "text": [
            "\n",
            "Batch 400/802 | Loss: 0.691104 | Avg Loss: 0.728286 | Field Shape: torch.Size([32, 96, 96]) | Path Shape: torch.Size([32, 8, 2])\n"
          ]
        },
        {
          "name": "stderr",
          "output_type": "stream",
          "text": []
        },
        {
          "name": "stdout",
          "output_type": "stream",
          "text": [
            "\n",
            "Batch 420/802 | Loss: 0.811678 | Avg Loss: 0.727854 | Field Shape: torch.Size([32, 96, 96]) | Path Shape: torch.Size([32, 8, 2])\n"
          ]
        },
        {
          "name": "stderr",
          "output_type": "stream",
          "text": []
        },
        {
          "name": "stdout",
          "output_type": "stream",
          "text": [
            "\n",
            "Batch 440/802 | Loss: 0.707385 | Avg Loss: 0.728324 | Field Shape: torch.Size([32, 96, 96]) | Path Shape: torch.Size([32, 8, 2])\n"
          ]
        },
        {
          "name": "stderr",
          "output_type": "stream",
          "text": []
        },
        {
          "name": "stdout",
          "output_type": "stream",
          "text": [
            "\n",
            "Batch 460/802 | Loss: 0.699053 | Avg Loss: 0.728193 | Field Shape: torch.Size([32, 96, 96]) | Path Shape: torch.Size([32, 8, 2])\n"
          ]
        },
        {
          "name": "stderr",
          "output_type": "stream",
          "text": []
        },
        {
          "name": "stdout",
          "output_type": "stream",
          "text": [
            "\n",
            "Batch 480/802 | Loss: 0.731422 | Avg Loss: 0.728499 | Field Shape: torch.Size([32, 96, 96]) | Path Shape: torch.Size([32, 8, 2])\n"
          ]
        },
        {
          "name": "stderr",
          "output_type": "stream",
          "text": []
        },
        {
          "name": "stdout",
          "output_type": "stream",
          "text": [
            "\n",
            "Batch 500/802 | Loss: 0.988216 | Avg Loss: 0.729905 | Field Shape: torch.Size([32, 96, 96]) | Path Shape: torch.Size([32, 8, 2])\n"
          ]
        },
        {
          "name": "stderr",
          "output_type": "stream",
          "text": []
        },
        {
          "name": "stdout",
          "output_type": "stream",
          "text": [
            "\n",
            "Batch 520/802 | Loss: 1.257149 | Avg Loss: 0.745157 | Field Shape: torch.Size([32, 96, 96]) | Path Shape: torch.Size([32, 8, 2])\n"
          ]
        },
        {
          "name": "stderr",
          "output_type": "stream",
          "text": []
        },
        {
          "name": "stdout",
          "output_type": "stream",
          "text": [
            "\n",
            "Batch 540/802 | Loss: 1.511546 | Avg Loss: 0.762625 | Field Shape: torch.Size([32, 96, 96]) | Path Shape: torch.Size([32, 8, 2])\n"
          ]
        },
        {
          "name": "stderr",
          "output_type": "stream",
          "text": []
        },
        {
          "name": "stdout",
          "output_type": "stream",
          "text": [
            "\n",
            "Batch 560/802 | Loss: 1.406076 | Avg Loss: 0.783126 | Field Shape: torch.Size([32, 96, 96]) | Path Shape: torch.Size([32, 8, 2])\n"
          ]
        },
        {
          "name": "stderr",
          "output_type": "stream",
          "text": []
        },
        {
          "name": "stdout",
          "output_type": "stream",
          "text": [
            "\n",
            "Batch 580/802 | Loss: 1.297586 | Avg Loss: 0.802197 | Field Shape: torch.Size([32, 96, 96]) | Path Shape: torch.Size([32, 8, 2])\n"
          ]
        },
        {
          "name": "stderr",
          "output_type": "stream",
          "text": []
        },
        {
          "name": "stdout",
          "output_type": "stream",
          "text": [
            "\n",
            "Batch 600/802 | Loss: 1.433803 | Avg Loss: 0.820890 | Field Shape: torch.Size([32, 96, 96]) | Path Shape: torch.Size([32, 8, 2])\n"
          ]
        },
        {
          "name": "stderr",
          "output_type": "stream",
          "text": []
        },
        {
          "name": "stdout",
          "output_type": "stream",
          "text": [
            "\n",
            "Batch 620/802 | Loss: 1.361646 | Avg Loss: 0.837612 | Field Shape: torch.Size([32, 96, 96]) | Path Shape: torch.Size([32, 8, 2])\n"
          ]
        },
        {
          "name": "stderr",
          "output_type": "stream",
          "text": []
        },
        {
          "name": "stdout",
          "output_type": "stream",
          "text": [
            "\n",
            "Batch 640/802 | Loss: 1.341511 | Avg Loss: 0.853513 | Field Shape: torch.Size([32, 96, 96]) | Path Shape: torch.Size([32, 8, 2])\n"
          ]
        },
        {
          "name": "stderr",
          "output_type": "stream",
          "text": []
        },
        {
          "name": "stdout",
          "output_type": "stream",
          "text": [
            "\n",
            "Batch 660/802 | Loss: 1.496309 | Avg Loss: 0.869742 | Field Shape: torch.Size([32, 96, 96]) | Path Shape: torch.Size([32, 8, 2])\n"
          ]
        },
        {
          "name": "stderr",
          "output_type": "stream",
          "text": []
        },
        {
          "name": "stdout",
          "output_type": "stream",
          "text": [
            "\n",
            "Batch 680/802 | Loss: 1.365250 | Avg Loss: 0.884807 | Field Shape: torch.Size([32, 96, 96]) | Path Shape: torch.Size([32, 8, 2])\n"
          ]
        },
        {
          "name": "stderr",
          "output_type": "stream",
          "text": []
        },
        {
          "name": "stdout",
          "output_type": "stream",
          "text": [
            "\n",
            "Batch 700/802 | Loss: 1.300582 | Avg Loss: 0.897791 | Field Shape: torch.Size([32, 96, 96]) | Path Shape: torch.Size([32, 8, 2])\n"
          ]
        },
        {
          "name": "stderr",
          "output_type": "stream",
          "text": []
        },
        {
          "name": "stdout",
          "output_type": "stream",
          "text": [
            "\n",
            "Batch 720/802 | Loss: 1.448894 | Avg Loss: 0.911052 | Field Shape: torch.Size([32, 96, 96]) | Path Shape: torch.Size([32, 8, 2])\n"
          ]
        },
        {
          "name": "stderr",
          "output_type": "stream",
          "text": []
        },
        {
          "name": "stdout",
          "output_type": "stream",
          "text": [
            "\n",
            "Batch 740/802 | Loss: 1.303125 | Avg Loss: 0.923148 | Field Shape: torch.Size([32, 96, 96]) | Path Shape: torch.Size([32, 8, 2])\n"
          ]
        },
        {
          "name": "stderr",
          "output_type": "stream",
          "text": []
        },
        {
          "name": "stdout",
          "output_type": "stream",
          "text": [
            "\n",
            "Batch 760/802 | Loss: 1.350074 | Avg Loss: 0.934736 | Field Shape: torch.Size([32, 96, 96]) | Path Shape: torch.Size([32, 8, 2])\n"
          ]
        },
        {
          "name": "stderr",
          "output_type": "stream",
          "text": []
        },
        {
          "name": "stdout",
          "output_type": "stream",
          "text": [
            "\n",
            "Batch 780/802 | Loss: 1.377925 | Avg Loss: 0.946252 | Field Shape: torch.Size([32, 96, 96]) | Path Shape: torch.Size([32, 8, 2])\n"
          ]
        },
        {
          "name": "stderr",
          "output_type": "stream",
          "text": []
        },
        {
          "name": "stdout",
          "output_type": "stream",
          "text": [
            "\n",
            "Batch 800/802 | Loss: 1.251534 | Avg Loss: 0.957217 | Field Shape: torch.Size([32, 96, 96]) | Path Shape: torch.Size([32, 8, 2])\n"
          ]
        },
        {
          "name": "stderr",
          "output_type": "stream",
          "text": [
            "Epoch:   7%|▋         | 2/30 [07:10<1:37:52, 209.72s/it, epoch_loss=0.958583, best_loss=0.608634, batches=802]"
          ]
        },
        {
          "name": "stdout",
          "output_type": "stream",
          "text": [
            "\n",
            "Batch 20/802 | Loss: 1.351059 | Avg Loss: 1.394061 | Field Shape: torch.Size([32, 96, 96]) | Path Shape: torch.Size([32, 8, 2])\n"
          ]
        },
        {
          "name": "stderr",
          "output_type": "stream",
          "text": []
        },
        {
          "name": "stdout",
          "output_type": "stream",
          "text": [
            "\n",
            "Batch 40/802 | Loss: 1.376521 | Avg Loss: 1.379434 | Field Shape: torch.Size([32, 96, 96]) | Path Shape: torch.Size([32, 8, 2])\n"
          ]
        },
        {
          "name": "stderr",
          "output_type": "stream",
          "text": []
        },
        {
          "name": "stdout",
          "output_type": "stream",
          "text": [
            "\n",
            "Batch 60/802 | Loss: 1.463892 | Avg Loss: 1.377431 | Field Shape: torch.Size([32, 96, 96]) | Path Shape: torch.Size([32, 8, 2])\n"
          ]
        },
        {
          "name": "stderr",
          "output_type": "stream",
          "text": []
        },
        {
          "name": "stdout",
          "output_type": "stream",
          "text": [
            "\n",
            "Batch 80/802 | Loss: 1.364043 | Avg Loss: 1.375811 | Field Shape: torch.Size([32, 96, 96]) | Path Shape: torch.Size([32, 8, 2])\n"
          ]
        },
        {
          "name": "stderr",
          "output_type": "stream",
          "text": []
        },
        {
          "name": "stdout",
          "output_type": "stream",
          "text": [
            "\n",
            "Batch 100/802 | Loss: 1.245652 | Avg Loss: 1.372285 | Field Shape: torch.Size([32, 96, 96]) | Path Shape: torch.Size([32, 8, 2])\n"
          ]
        },
        {
          "name": "stderr",
          "output_type": "stream",
          "text": []
        },
        {
          "name": "stdout",
          "output_type": "stream",
          "text": [
            "\n",
            "Batch 120/802 | Loss: 1.227510 | Avg Loss: 1.366291 | Field Shape: torch.Size([32, 96, 96]) | Path Shape: torch.Size([32, 8, 2])\n"
          ]
        },
        {
          "name": "stderr",
          "output_type": "stream",
          "text": []
        },
        {
          "name": "stdout",
          "output_type": "stream",
          "text": [
            "\n",
            "Batch 140/802 | Loss: 1.355831 | Avg Loss: 1.364961 | Field Shape: torch.Size([32, 96, 96]) | Path Shape: torch.Size([32, 8, 2])\n"
          ]
        },
        {
          "name": "stderr",
          "output_type": "stream",
          "text": []
        },
        {
          "name": "stdout",
          "output_type": "stream",
          "text": [
            "\n",
            "Batch 160/802 | Loss: 1.379351 | Avg Loss: 1.362852 | Field Shape: torch.Size([32, 96, 96]) | Path Shape: torch.Size([32, 8, 2])\n"
          ]
        },
        {
          "name": "stderr",
          "output_type": "stream",
          "text": []
        },
        {
          "name": "stdout",
          "output_type": "stream",
          "text": [
            "\n",
            "Batch 180/802 | Loss: 1.319665 | Avg Loss: 1.361503 | Field Shape: torch.Size([32, 96, 96]) | Path Shape: torch.Size([32, 8, 2])\n"
          ]
        },
        {
          "name": "stderr",
          "output_type": "stream",
          "text": []
        },
        {
          "name": "stdout",
          "output_type": "stream",
          "text": [
            "\n",
            "Batch 200/802 | Loss: 1.469905 | Avg Loss: 1.361298 | Field Shape: torch.Size([32, 96, 96]) | Path Shape: torch.Size([32, 8, 2])\n"
          ]
        },
        {
          "name": "stderr",
          "output_type": "stream",
          "text": []
        },
        {
          "name": "stdout",
          "output_type": "stream",
          "text": [
            "\n",
            "Batch 220/802 | Loss: 1.316605 | Avg Loss: 1.365249 | Field Shape: torch.Size([32, 96, 96]) | Path Shape: torch.Size([32, 8, 2])\n"
          ]
        },
        {
          "name": "stderr",
          "output_type": "stream",
          "text": []
        },
        {
          "name": "stdout",
          "output_type": "stream",
          "text": [
            "\n",
            "Batch 240/802 | Loss: 1.524111 | Avg Loss: 1.364693 | Field Shape: torch.Size([32, 96, 96]) | Path Shape: torch.Size([32, 8, 2])\n"
          ]
        },
        {
          "name": "stderr",
          "output_type": "stream",
          "text": []
        },
        {
          "name": "stdout",
          "output_type": "stream",
          "text": [
            "\n",
            "Batch 260/802 | Loss: 1.342606 | Avg Loss: 1.369682 | Field Shape: torch.Size([32, 96, 96]) | Path Shape: torch.Size([32, 8, 2])\n"
          ]
        },
        {
          "name": "stderr",
          "output_type": "stream",
          "text": []
        },
        {
          "name": "stdout",
          "output_type": "stream",
          "text": [
            "\n",
            "Batch 280/802 | Loss: 1.217159 | Avg Loss: 1.367316 | Field Shape: torch.Size([32, 96, 96]) | Path Shape: torch.Size([32, 8, 2])\n"
          ]
        },
        {
          "name": "stderr",
          "output_type": "stream",
          "text": []
        },
        {
          "name": "stdout",
          "output_type": "stream",
          "text": [
            "\n",
            "Batch 300/802 | Loss: 1.395518 | Avg Loss: 1.368702 | Field Shape: torch.Size([32, 96, 96]) | Path Shape: torch.Size([32, 8, 2])\n"
          ]
        },
        {
          "name": "stderr",
          "output_type": "stream",
          "text": []
        },
        {
          "name": "stdout",
          "output_type": "stream",
          "text": [
            "\n",
            "Batch 320/802 | Loss: 1.173432 | Avg Loss: 1.368491 | Field Shape: torch.Size([32, 96, 96]) | Path Shape: torch.Size([32, 8, 2])\n"
          ]
        },
        {
          "name": "stderr",
          "output_type": "stream",
          "text": []
        },
        {
          "name": "stdout",
          "output_type": "stream",
          "text": [
            "\n",
            "Batch 340/802 | Loss: 1.296190 | Avg Loss: 1.368382 | Field Shape: torch.Size([32, 96, 96]) | Path Shape: torch.Size([32, 8, 2])\n"
          ]
        },
        {
          "name": "stderr",
          "output_type": "stream",
          "text": []
        },
        {
          "name": "stdout",
          "output_type": "stream",
          "text": [
            "\n",
            "Batch 360/802 | Loss: 1.384969 | Avg Loss: 1.367739 | Field Shape: torch.Size([32, 96, 96]) | Path Shape: torch.Size([32, 8, 2])\n"
          ]
        },
        {
          "name": "stderr",
          "output_type": "stream",
          "text": []
        },
        {
          "name": "stdout",
          "output_type": "stream",
          "text": [
            "\n",
            "Batch 380/802 | Loss: 1.187173 | Avg Loss: 1.369129 | Field Shape: torch.Size([32, 96, 96]) | Path Shape: torch.Size([32, 8, 2])\n"
          ]
        },
        {
          "name": "stderr",
          "output_type": "stream",
          "text": []
        },
        {
          "name": "stdout",
          "output_type": "stream",
          "text": [
            "\n",
            "Batch 400/802 | Loss: 1.324022 | Avg Loss: 1.369837 | Field Shape: torch.Size([32, 96, 96]) | Path Shape: torch.Size([32, 8, 2])\n"
          ]
        },
        {
          "name": "stderr",
          "output_type": "stream",
          "text": []
        },
        {
          "name": "stdout",
          "output_type": "stream",
          "text": [
            "\n",
            "Batch 420/802 | Loss: 1.454073 | Avg Loss: 1.369538 | Field Shape: torch.Size([32, 96, 96]) | Path Shape: torch.Size([32, 8, 2])\n"
          ]
        },
        {
          "name": "stderr",
          "output_type": "stream",
          "text": []
        },
        {
          "name": "stdout",
          "output_type": "stream",
          "text": [
            "\n",
            "Batch 440/802 | Loss: 1.442573 | Avg Loss: 1.371136 | Field Shape: torch.Size([32, 96, 96]) | Path Shape: torch.Size([32, 8, 2])\n"
          ]
        },
        {
          "name": "stderr",
          "output_type": "stream",
          "text": []
        },
        {
          "name": "stdout",
          "output_type": "stream",
          "text": [
            "\n",
            "Batch 460/802 | Loss: 1.321055 | Avg Loss: 1.371027 | Field Shape: torch.Size([32, 96, 96]) | Path Shape: torch.Size([32, 8, 2])\n"
          ]
        },
        {
          "name": "stderr",
          "output_type": "stream",
          "text": []
        },
        {
          "name": "stdout",
          "output_type": "stream",
          "text": [
            "\n",
            "Batch 480/802 | Loss: 1.365732 | Avg Loss: 1.370772 | Field Shape: torch.Size([32, 96, 96]) | Path Shape: torch.Size([32, 8, 2])\n"
          ]
        },
        {
          "name": "stderr",
          "output_type": "stream",
          "text": []
        },
        {
          "name": "stdout",
          "output_type": "stream",
          "text": [
            "\n",
            "Batch 500/802 | Loss: 1.413503 | Avg Loss: 1.370005 | Field Shape: torch.Size([32, 96, 96]) | Path Shape: torch.Size([32, 8, 2])\n"
          ]
        },
        {
          "name": "stderr",
          "output_type": "stream",
          "text": []
        },
        {
          "name": "stdout",
          "output_type": "stream",
          "text": [
            "\n",
            "Batch 520/802 | Loss: 1.400601 | Avg Loss: 1.370492 | Field Shape: torch.Size([32, 96, 96]) | Path Shape: torch.Size([32, 8, 2])\n"
          ]
        },
        {
          "name": "stderr",
          "output_type": "stream",
          "text": []
        },
        {
          "name": "stdout",
          "output_type": "stream",
          "text": [
            "\n",
            "Batch 540/802 | Loss: 1.268209 | Avg Loss: 1.369855 | Field Shape: torch.Size([32, 96, 96]) | Path Shape: torch.Size([32, 8, 2])\n"
          ]
        },
        {
          "name": "stderr",
          "output_type": "stream",
          "text": []
        },
        {
          "name": "stdout",
          "output_type": "stream",
          "text": [
            "\n",
            "Batch 560/802 | Loss: 1.412834 | Avg Loss: 1.368457 | Field Shape: torch.Size([32, 96, 96]) | Path Shape: torch.Size([32, 8, 2])\n"
          ]
        },
        {
          "name": "stderr",
          "output_type": "stream",
          "text": []
        },
        {
          "name": "stdout",
          "output_type": "stream",
          "text": [
            "\n",
            "Batch 580/802 | Loss: 1.339345 | Avg Loss: 1.368462 | Field Shape: torch.Size([32, 96, 96]) | Path Shape: torch.Size([32, 8, 2])\n"
          ]
        },
        {
          "name": "stderr",
          "output_type": "stream",
          "text": []
        },
        {
          "name": "stdout",
          "output_type": "stream",
          "text": [
            "\n",
            "Batch 600/802 | Loss: 1.191214 | Avg Loss: 1.366740 | Field Shape: torch.Size([32, 96, 96]) | Path Shape: torch.Size([32, 8, 2])\n"
          ]
        },
        {
          "name": "stderr",
          "output_type": "stream",
          "text": []
        },
        {
          "name": "stdout",
          "output_type": "stream",
          "text": [
            "\n",
            "Batch 620/802 | Loss: 1.324149 | Avg Loss: 1.366176 | Field Shape: torch.Size([32, 96, 96]) | Path Shape: torch.Size([32, 8, 2])\n"
          ]
        },
        {
          "name": "stderr",
          "output_type": "stream",
          "text": []
        },
        {
          "name": "stdout",
          "output_type": "stream",
          "text": [
            "\n",
            "Batch 640/802 | Loss: 1.335883 | Avg Loss: 1.366253 | Field Shape: torch.Size([32, 96, 96]) | Path Shape: torch.Size([32, 8, 2])\n"
          ]
        },
        {
          "name": "stderr",
          "output_type": "stream",
          "text": []
        },
        {
          "name": "stdout",
          "output_type": "stream",
          "text": [
            "\n",
            "Batch 660/802 | Loss: 1.265672 | Avg Loss: 1.366618 | Field Shape: torch.Size([32, 96, 96]) | Path Shape: torch.Size([32, 8, 2])\n"
          ]
        },
        {
          "name": "stderr",
          "output_type": "stream",
          "text": []
        },
        {
          "name": "stdout",
          "output_type": "stream",
          "text": [
            "\n",
            "Batch 680/802 | Loss: 1.361205 | Avg Loss: 1.366925 | Field Shape: torch.Size([32, 96, 96]) | Path Shape: torch.Size([32, 8, 2])\n"
          ]
        },
        {
          "name": "stderr",
          "output_type": "stream",
          "text": []
        },
        {
          "name": "stdout",
          "output_type": "stream",
          "text": [
            "\n",
            "Batch 700/802 | Loss: 1.147187 | Avg Loss: 1.365872 | Field Shape: torch.Size([32, 96, 96]) | Path Shape: torch.Size([32, 8, 2])\n"
          ]
        },
        {
          "name": "stderr",
          "output_type": "stream",
          "text": []
        },
        {
          "name": "stdout",
          "output_type": "stream",
          "text": [
            "\n",
            "Batch 720/802 | Loss: 1.468407 | Avg Loss: 1.367316 | Field Shape: torch.Size([32, 96, 96]) | Path Shape: torch.Size([32, 8, 2])\n"
          ]
        },
        {
          "name": "stderr",
          "output_type": "stream",
          "text": []
        },
        {
          "name": "stdout",
          "output_type": "stream",
          "text": [
            "\n",
            "Batch 740/802 | Loss: 1.241564 | Avg Loss: 1.365751 | Field Shape: torch.Size([32, 96, 96]) | Path Shape: torch.Size([32, 8, 2])\n"
          ]
        },
        {
          "name": "stderr",
          "output_type": "stream",
          "text": []
        },
        {
          "name": "stdout",
          "output_type": "stream",
          "text": [
            "\n",
            "Batch 760/802 | Loss: 1.338039 | Avg Loss: 1.365431 | Field Shape: torch.Size([32, 96, 96]) | Path Shape: torch.Size([32, 8, 2])\n"
          ]
        },
        {
          "name": "stderr",
          "output_type": "stream",
          "text": []
        },
        {
          "name": "stdout",
          "output_type": "stream",
          "text": [
            "\n",
            "Batch 780/802 | Loss: 1.248630 | Avg Loss: 1.366031 | Field Shape: torch.Size([32, 96, 96]) | Path Shape: torch.Size([32, 8, 2])\n"
          ]
        },
        {
          "name": "stderr",
          "output_type": "stream",
          "text": []
        },
        {
          "name": "stdout",
          "output_type": "stream",
          "text": [
            "\n",
            "Batch 800/802 | Loss: 1.500770 | Avg Loss: 1.365913 | Field Shape: torch.Size([32, 96, 96]) | Path Shape: torch.Size([32, 8, 2])\n"
          ]
        },
        {
          "name": "stderr",
          "output_type": "stream",
          "text": [
            "Epoch:  10%|█         | 3/30 [12:44<2:00:03, 266.81s/it, epoch_loss=1.365933, best_loss=0.608634, batches=802]"
          ]
        },
        {
          "name": "stdout",
          "output_type": "stream",
          "text": [
            "\n",
            "Batch 20/802 | Loss: 1.332771 | Avg Loss: 1.358795 | Field Shape: torch.Size([32, 96, 96]) | Path Shape: torch.Size([32, 8, 2])\n"
          ]
        },
        {
          "name": "stderr",
          "output_type": "stream",
          "text": []
        },
        {
          "name": "stdout",
          "output_type": "stream",
          "text": [
            "\n",
            "Batch 40/802 | Loss: 1.343263 | Avg Loss: 1.369401 | Field Shape: torch.Size([32, 96, 96]) | Path Shape: torch.Size([32, 8, 2])\n"
          ]
        },
        {
          "name": "stderr",
          "output_type": "stream",
          "text": []
        },
        {
          "name": "stdout",
          "output_type": "stream",
          "text": [
            "\n",
            "Batch 60/802 | Loss: 1.342473 | Avg Loss: 1.364364 | Field Shape: torch.Size([32, 96, 96]) | Path Shape: torch.Size([32, 8, 2])\n"
          ]
        },
        {
          "name": "stderr",
          "output_type": "stream",
          "text": []
        },
        {
          "name": "stdout",
          "output_type": "stream",
          "text": [
            "\n",
            "Batch 80/802 | Loss: 1.448154 | Avg Loss: 1.362390 | Field Shape: torch.Size([32, 96, 96]) | Path Shape: torch.Size([32, 8, 2])\n"
          ]
        },
        {
          "name": "stderr",
          "output_type": "stream",
          "text": []
        },
        {
          "name": "stdout",
          "output_type": "stream",
          "text": [
            "\n",
            "Batch 100/802 | Loss: 1.301805 | Avg Loss: 1.368782 | Field Shape: torch.Size([32, 96, 96]) | Path Shape: torch.Size([32, 8, 2])\n"
          ]
        },
        {
          "name": "stderr",
          "output_type": "stream",
          "text": []
        },
        {
          "name": "stdout",
          "output_type": "stream",
          "text": [
            "\n",
            "Batch 120/802 | Loss: 1.421135 | Avg Loss: 1.371070 | Field Shape: torch.Size([32, 96, 96]) | Path Shape: torch.Size([32, 8, 2])\n"
          ]
        },
        {
          "name": "stderr",
          "output_type": "stream",
          "text": []
        },
        {
          "name": "stdout",
          "output_type": "stream",
          "text": [
            "\n",
            "Batch 140/802 | Loss: 1.394486 | Avg Loss: 1.372495 | Field Shape: torch.Size([32, 96, 96]) | Path Shape: torch.Size([32, 8, 2])\n"
          ]
        },
        {
          "name": "stderr",
          "output_type": "stream",
          "text": []
        },
        {
          "name": "stdout",
          "output_type": "stream",
          "text": [
            "\n",
            "Batch 160/802 | Loss: 1.444103 | Avg Loss: 1.377917 | Field Shape: torch.Size([32, 96, 96]) | Path Shape: torch.Size([32, 8, 2])\n"
          ]
        },
        {
          "name": "stderr",
          "output_type": "stream",
          "text": []
        },
        {
          "name": "stdout",
          "output_type": "stream",
          "text": [
            "\n",
            "Batch 180/802 | Loss: 1.383004 | Avg Loss: 1.373077 | Field Shape: torch.Size([32, 96, 96]) | Path Shape: torch.Size([32, 8, 2])\n"
          ]
        },
        {
          "name": "stderr",
          "output_type": "stream",
          "text": []
        },
        {
          "name": "stdout",
          "output_type": "stream",
          "text": [
            "\n",
            "Batch 200/802 | Loss: 1.588835 | Avg Loss: 1.373686 | Field Shape: torch.Size([32, 96, 96]) | Path Shape: torch.Size([32, 8, 2])\n"
          ]
        },
        {
          "name": "stderr",
          "output_type": "stream",
          "text": []
        },
        {
          "name": "stdout",
          "output_type": "stream",
          "text": [
            "\n",
            "Batch 220/802 | Loss: 1.291030 | Avg Loss: 1.372518 | Field Shape: torch.Size([32, 96, 96]) | Path Shape: torch.Size([32, 8, 2])\n"
          ]
        },
        {
          "name": "stderr",
          "output_type": "stream",
          "text": []
        },
        {
          "name": "stdout",
          "output_type": "stream",
          "text": [
            "\n",
            "Batch 240/802 | Loss: 1.238286 | Avg Loss: 1.370572 | Field Shape: torch.Size([32, 96, 96]) | Path Shape: torch.Size([32, 8, 2])\n"
          ]
        },
        {
          "name": "stderr",
          "output_type": "stream",
          "text": []
        },
        {
          "name": "stdout",
          "output_type": "stream",
          "text": [
            "\n",
            "Batch 260/802 | Loss: 1.460681 | Avg Loss: 1.370244 | Field Shape: torch.Size([32, 96, 96]) | Path Shape: torch.Size([32, 8, 2])\n"
          ]
        },
        {
          "name": "stderr",
          "output_type": "stream",
          "text": []
        },
        {
          "name": "stdout",
          "output_type": "stream",
          "text": [
            "\n",
            "Batch 280/802 | Loss: 1.164383 | Avg Loss: 1.371220 | Field Shape: torch.Size([32, 96, 96]) | Path Shape: torch.Size([32, 8, 2])\n"
          ]
        },
        {
          "name": "stderr",
          "output_type": "stream",
          "text": []
        },
        {
          "name": "stdout",
          "output_type": "stream",
          "text": [
            "\n",
            "Batch 300/802 | Loss: 1.485396 | Avg Loss: 1.369952 | Field Shape: torch.Size([32, 96, 96]) | Path Shape: torch.Size([32, 8, 2])\n"
          ]
        },
        {
          "name": "stderr",
          "output_type": "stream",
          "text": []
        },
        {
          "name": "stdout",
          "output_type": "stream",
          "text": [
            "\n",
            "Batch 320/802 | Loss: 1.331254 | Avg Loss: 1.368029 | Field Shape: torch.Size([32, 96, 96]) | Path Shape: torch.Size([32, 8, 2])\n"
          ]
        },
        {
          "name": "stderr",
          "output_type": "stream",
          "text": []
        },
        {
          "name": "stdout",
          "output_type": "stream",
          "text": [
            "\n",
            "Batch 340/802 | Loss: 1.523229 | Avg Loss: 1.367679 | Field Shape: torch.Size([32, 96, 96]) | Path Shape: torch.Size([32, 8, 2])\n"
          ]
        },
        {
          "name": "stderr",
          "output_type": "stream",
          "text": []
        },
        {
          "name": "stdout",
          "output_type": "stream",
          "text": [
            "\n",
            "Batch 360/802 | Loss: 1.379559 | Avg Loss: 1.368663 | Field Shape: torch.Size([32, 96, 96]) | Path Shape: torch.Size([32, 8, 2])\n"
          ]
        },
        {
          "name": "stderr",
          "output_type": "stream",
          "text": []
        },
        {
          "name": "stdout",
          "output_type": "stream",
          "text": [
            "\n",
            "Batch 380/802 | Loss: 1.312060 | Avg Loss: 1.369503 | Field Shape: torch.Size([32, 96, 96]) | Path Shape: torch.Size([32, 8, 2])\n"
          ]
        },
        {
          "name": "stderr",
          "output_type": "stream",
          "text": []
        },
        {
          "name": "stdout",
          "output_type": "stream",
          "text": [
            "\n",
            "Batch 400/802 | Loss: 1.254816 | Avg Loss: 1.370184 | Field Shape: torch.Size([32, 96, 96]) | Path Shape: torch.Size([32, 8, 2])\n"
          ]
        },
        {
          "name": "stderr",
          "output_type": "stream",
          "text": []
        },
        {
          "name": "stdout",
          "output_type": "stream",
          "text": [
            "\n",
            "Batch 420/802 | Loss: 1.252317 | Avg Loss: 1.369108 | Field Shape: torch.Size([32, 96, 96]) | Path Shape: torch.Size([32, 8, 2])\n"
          ]
        },
        {
          "name": "stderr",
          "output_type": "stream",
          "text": []
        },
        {
          "name": "stdout",
          "output_type": "stream",
          "text": [
            "\n",
            "Batch 440/802 | Loss: 1.307106 | Avg Loss: 1.367972 | Field Shape: torch.Size([32, 96, 96]) | Path Shape: torch.Size([32, 8, 2])\n"
          ]
        },
        {
          "name": "stderr",
          "output_type": "stream",
          "text": []
        },
        {
          "name": "stdout",
          "output_type": "stream",
          "text": [
            "\n",
            "Batch 460/802 | Loss: 1.348188 | Avg Loss: 1.367065 | Field Shape: torch.Size([32, 96, 96]) | Path Shape: torch.Size([32, 8, 2])\n"
          ]
        },
        {
          "name": "stderr",
          "output_type": "stream",
          "text": []
        },
        {
          "name": "stdout",
          "output_type": "stream",
          "text": [
            "\n",
            "Batch 480/802 | Loss: 1.302052 | Avg Loss: 1.366346 | Field Shape: torch.Size([32, 96, 96]) | Path Shape: torch.Size([32, 8, 2])\n"
          ]
        },
        {
          "name": "stderr",
          "output_type": "stream",
          "text": []
        },
        {
          "name": "stdout",
          "output_type": "stream",
          "text": [
            "\n",
            "Batch 500/802 | Loss: 1.396358 | Avg Loss: 1.366646 | Field Shape: torch.Size([32, 96, 96]) | Path Shape: torch.Size([32, 8, 2])\n"
          ]
        },
        {
          "name": "stderr",
          "output_type": "stream",
          "text": []
        },
        {
          "name": "stdout",
          "output_type": "stream",
          "text": [
            "\n",
            "Batch 520/802 | Loss: 1.292418 | Avg Loss: 1.365839 | Field Shape: torch.Size([32, 96, 96]) | Path Shape: torch.Size([32, 8, 2])\n"
          ]
        },
        {
          "name": "stderr",
          "output_type": "stream",
          "text": []
        },
        {
          "name": "stdout",
          "output_type": "stream",
          "text": [
            "\n",
            "Batch 540/802 | Loss: 1.242507 | Avg Loss: 1.366782 | Field Shape: torch.Size([32, 96, 96]) | Path Shape: torch.Size([32, 8, 2])\n"
          ]
        },
        {
          "name": "stderr",
          "output_type": "stream",
          "text": []
        },
        {
          "name": "stdout",
          "output_type": "stream",
          "text": [
            "\n",
            "Batch 560/802 | Loss: 1.586451 | Avg Loss: 1.366296 | Field Shape: torch.Size([32, 96, 96]) | Path Shape: torch.Size([32, 8, 2])\n"
          ]
        },
        {
          "name": "stderr",
          "output_type": "stream",
          "text": []
        },
        {
          "name": "stdout",
          "output_type": "stream",
          "text": [
            "\n",
            "Batch 580/802 | Loss: 1.235495 | Avg Loss: 1.368007 | Field Shape: torch.Size([32, 96, 96]) | Path Shape: torch.Size([32, 8, 2])\n"
          ]
        },
        {
          "name": "stderr",
          "output_type": "stream",
          "text": []
        },
        {
          "name": "stdout",
          "output_type": "stream",
          "text": [
            "\n",
            "Batch 600/802 | Loss: 1.256133 | Avg Loss: 1.367599 | Field Shape: torch.Size([32, 96, 96]) | Path Shape: torch.Size([32, 8, 2])\n"
          ]
        },
        {
          "name": "stderr",
          "output_type": "stream",
          "text": []
        },
        {
          "name": "stdout",
          "output_type": "stream",
          "text": [
            "\n",
            "Batch 620/802 | Loss: 1.330848 | Avg Loss: 1.368743 | Field Shape: torch.Size([32, 96, 96]) | Path Shape: torch.Size([32, 8, 2])\n"
          ]
        },
        {
          "name": "stderr",
          "output_type": "stream",
          "text": []
        },
        {
          "name": "stdout",
          "output_type": "stream",
          "text": [
            "\n",
            "Batch 640/802 | Loss: 1.244790 | Avg Loss: 1.368824 | Field Shape: torch.Size([32, 96, 96]) | Path Shape: torch.Size([32, 8, 2])\n"
          ]
        },
        {
          "name": "stderr",
          "output_type": "stream",
          "text": []
        },
        {
          "name": "stdout",
          "output_type": "stream",
          "text": [
            "\n",
            "Batch 660/802 | Loss: 1.532374 | Avg Loss: 1.369232 | Field Shape: torch.Size([32, 96, 96]) | Path Shape: torch.Size([32, 8, 2])\n"
          ]
        },
        {
          "name": "stderr",
          "output_type": "stream",
          "text": []
        },
        {
          "name": "stdout",
          "output_type": "stream",
          "text": [
            "\n",
            "Batch 680/802 | Loss: 1.433589 | Avg Loss: 1.369796 | Field Shape: torch.Size([32, 96, 96]) | Path Shape: torch.Size([32, 8, 2])\n"
          ]
        },
        {
          "name": "stderr",
          "output_type": "stream",
          "text": []
        },
        {
          "name": "stdout",
          "output_type": "stream",
          "text": [
            "\n",
            "Batch 700/802 | Loss: 1.419050 | Avg Loss: 1.369276 | Field Shape: torch.Size([32, 96, 96]) | Path Shape: torch.Size([32, 8, 2])\n"
          ]
        },
        {
          "name": "stderr",
          "output_type": "stream",
          "text": []
        },
        {
          "name": "stdout",
          "output_type": "stream",
          "text": [
            "\n",
            "Batch 720/802 | Loss: 1.055248 | Avg Loss: 1.368284 | Field Shape: torch.Size([32, 96, 96]) | Path Shape: torch.Size([32, 8, 2])\n"
          ]
        },
        {
          "name": "stderr",
          "output_type": "stream",
          "text": []
        },
        {
          "name": "stdout",
          "output_type": "stream",
          "text": [
            "\n",
            "Batch 740/802 | Loss: 1.270555 | Avg Loss: 1.367691 | Field Shape: torch.Size([32, 96, 96]) | Path Shape: torch.Size([32, 8, 2])\n"
          ]
        },
        {
          "name": "stderr",
          "output_type": "stream",
          "text": []
        },
        {
          "name": "stdout",
          "output_type": "stream",
          "text": [
            "\n",
            "Batch 760/802 | Loss: 1.168746 | Avg Loss: 1.367168 | Field Shape: torch.Size([32, 96, 96]) | Path Shape: torch.Size([32, 8, 2])\n"
          ]
        },
        {
          "name": "stderr",
          "output_type": "stream",
          "text": []
        },
        {
          "name": "stdout",
          "output_type": "stream",
          "text": [
            "\n",
            "Batch 780/802 | Loss: 1.260293 | Avg Loss: 1.366359 | Field Shape: torch.Size([32, 96, 96]) | Path Shape: torch.Size([32, 8, 2])\n"
          ]
        },
        {
          "name": "stderr",
          "output_type": "stream",
          "text": []
        },
        {
          "name": "stdout",
          "output_type": "stream",
          "text": [
            "\n",
            "Batch 800/802 | Loss: 1.320768 | Avg Loss: 1.366333 | Field Shape: torch.Size([32, 96, 96]) | Path Shape: torch.Size([32, 8, 2])\n"
          ]
        },
        {
          "name": "stderr",
          "output_type": "stream",
          "text": [
            "Epoch:  13%|█▎        | 4/30 [17:45<2:01:28, 280.31s/it, epoch_loss=1.365850, best_loss=0.608634, batches=802]"
          ]
        },
        {
          "name": "stdout",
          "output_type": "stream",
          "text": [
            "\n",
            "Batch 20/802 | Loss: 1.337064 | Avg Loss: 1.364879 | Field Shape: torch.Size([32, 96, 96]) | Path Shape: torch.Size([32, 8, 2])\n"
          ]
        },
        {
          "name": "stderr",
          "output_type": "stream",
          "text": []
        },
        {
          "name": "stdout",
          "output_type": "stream",
          "text": [
            "\n",
            "Batch 40/802 | Loss: 1.366432 | Avg Loss: 1.358406 | Field Shape: torch.Size([32, 96, 96]) | Path Shape: torch.Size([32, 8, 2])\n"
          ]
        },
        {
          "name": "stderr",
          "output_type": "stream",
          "text": []
        },
        {
          "name": "stdout",
          "output_type": "stream",
          "text": [
            "\n",
            "Batch 60/802 | Loss: 1.346766 | Avg Loss: 1.359180 | Field Shape: torch.Size([32, 96, 96]) | Path Shape: torch.Size([32, 8, 2])\n"
          ]
        },
        {
          "name": "stderr",
          "output_type": "stream",
          "text": []
        },
        {
          "name": "stdout",
          "output_type": "stream",
          "text": [
            "\n",
            "Batch 80/802 | Loss: 1.379515 | Avg Loss: 1.359079 | Field Shape: torch.Size([32, 96, 96]) | Path Shape: torch.Size([32, 8, 2])\n"
          ]
        },
        {
          "name": "stderr",
          "output_type": "stream",
          "text": []
        },
        {
          "name": "stdout",
          "output_type": "stream",
          "text": [
            "\n",
            "Batch 100/802 | Loss: 1.295108 | Avg Loss: 1.356078 | Field Shape: torch.Size([32, 96, 96]) | Path Shape: torch.Size([32, 8, 2])\n"
          ]
        },
        {
          "name": "stderr",
          "output_type": "stream",
          "text": []
        },
        {
          "name": "stdout",
          "output_type": "stream",
          "text": [
            "\n",
            "Batch 120/802 | Loss: 1.268922 | Avg Loss: 1.360242 | Field Shape: torch.Size([32, 96, 96]) | Path Shape: torch.Size([32, 8, 2])\n"
          ]
        },
        {
          "name": "stderr",
          "output_type": "stream",
          "text": []
        },
        {
          "name": "stdout",
          "output_type": "stream",
          "text": [
            "\n",
            "Batch 140/802 | Loss: 1.329926 | Avg Loss: 1.357042 | Field Shape: torch.Size([32, 96, 96]) | Path Shape: torch.Size([32, 8, 2])\n"
          ]
        },
        {
          "name": "stderr",
          "output_type": "stream",
          "text": []
        },
        {
          "name": "stdout",
          "output_type": "stream",
          "text": [
            "\n",
            "Batch 160/802 | Loss: 1.324764 | Avg Loss: 1.353711 | Field Shape: torch.Size([32, 96, 96]) | Path Shape: torch.Size([32, 8, 2])\n"
          ]
        },
        {
          "name": "stderr",
          "output_type": "stream",
          "text": []
        },
        {
          "name": "stdout",
          "output_type": "stream",
          "text": [
            "\n",
            "Batch 180/802 | Loss: 1.365802 | Avg Loss: 1.353600 | Field Shape: torch.Size([32, 96, 96]) | Path Shape: torch.Size([32, 8, 2])\n"
          ]
        },
        {
          "name": "stderr",
          "output_type": "stream",
          "text": []
        },
        {
          "name": "stdout",
          "output_type": "stream",
          "text": [
            "\n",
            "Batch 200/802 | Loss: 1.317194 | Avg Loss: 1.358330 | Field Shape: torch.Size([32, 96, 96]) | Path Shape: torch.Size([32, 8, 2])\n"
          ]
        },
        {
          "name": "stderr",
          "output_type": "stream",
          "text": []
        },
        {
          "name": "stdout",
          "output_type": "stream",
          "text": [
            "\n",
            "Batch 220/802 | Loss: 1.515398 | Avg Loss: 1.360650 | Field Shape: torch.Size([32, 96, 96]) | Path Shape: torch.Size([32, 8, 2])\n"
          ]
        },
        {
          "name": "stderr",
          "output_type": "stream",
          "text": []
        },
        {
          "name": "stdout",
          "output_type": "stream",
          "text": [
            "\n",
            "Batch 240/802 | Loss: 1.339432 | Avg Loss: 1.361474 | Field Shape: torch.Size([32, 96, 96]) | Path Shape: torch.Size([32, 8, 2])\n"
          ]
        },
        {
          "name": "stderr",
          "output_type": "stream",
          "text": []
        },
        {
          "name": "stdout",
          "output_type": "stream",
          "text": [
            "\n",
            "Batch 260/802 | Loss: 1.404346 | Avg Loss: 1.359981 | Field Shape: torch.Size([32, 96, 96]) | Path Shape: torch.Size([32, 8, 2])\n"
          ]
        },
        {
          "name": "stderr",
          "output_type": "stream",
          "text": []
        },
        {
          "name": "stdout",
          "output_type": "stream",
          "text": [
            "\n",
            "Batch 280/802 | Loss: 1.251914 | Avg Loss: 1.360536 | Field Shape: torch.Size([32, 96, 96]) | Path Shape: torch.Size([32, 8, 2])\n"
          ]
        },
        {
          "name": "stderr",
          "output_type": "stream",
          "text": []
        },
        {
          "name": "stdout",
          "output_type": "stream",
          "text": [
            "\n",
            "Batch 300/802 | Loss: 1.353393 | Avg Loss: 1.361157 | Field Shape: torch.Size([32, 96, 96]) | Path Shape: torch.Size([32, 8, 2])\n"
          ]
        },
        {
          "name": "stderr",
          "output_type": "stream",
          "text": []
        },
        {
          "name": "stdout",
          "output_type": "stream",
          "text": [
            "\n",
            "Batch 320/802 | Loss: 1.603944 | Avg Loss: 1.358810 | Field Shape: torch.Size([32, 96, 96]) | Path Shape: torch.Size([32, 8, 2])\n"
          ]
        },
        {
          "name": "stderr",
          "output_type": "stream",
          "text": []
        },
        {
          "name": "stdout",
          "output_type": "stream",
          "text": [
            "\n",
            "Batch 340/802 | Loss: 1.160027 | Avg Loss: 1.361773 | Field Shape: torch.Size([32, 96, 96]) | Path Shape: torch.Size([32, 8, 2])\n"
          ]
        },
        {
          "name": "stderr",
          "output_type": "stream",
          "text": []
        },
        {
          "name": "stdout",
          "output_type": "stream",
          "text": [
            "\n",
            "Batch 360/802 | Loss: 1.354922 | Avg Loss: 1.360685 | Field Shape: torch.Size([32, 96, 96]) | Path Shape: torch.Size([32, 8, 2])\n"
          ]
        },
        {
          "name": "stderr",
          "output_type": "stream",
          "text": []
        },
        {
          "name": "stdout",
          "output_type": "stream",
          "text": [
            "\n",
            "Batch 380/802 | Loss: 1.246618 | Avg Loss: 1.360631 | Field Shape: torch.Size([32, 96, 96]) | Path Shape: torch.Size([32, 8, 2])\n"
          ]
        },
        {
          "name": "stderr",
          "output_type": "stream",
          "text": []
        },
        {
          "name": "stdout",
          "output_type": "stream",
          "text": [
            "\n",
            "Batch 400/802 | Loss: 1.339454 | Avg Loss: 1.361009 | Field Shape: torch.Size([32, 96, 96]) | Path Shape: torch.Size([32, 8, 2])\n"
          ]
        },
        {
          "name": "stderr",
          "output_type": "stream",
          "text": []
        },
        {
          "name": "stdout",
          "output_type": "stream",
          "text": [
            "\n",
            "Batch 420/802 | Loss: 1.319709 | Avg Loss: 1.360815 | Field Shape: torch.Size([32, 96, 96]) | Path Shape: torch.Size([32, 8, 2])\n"
          ]
        },
        {
          "name": "stderr",
          "output_type": "stream",
          "text": []
        },
        {
          "name": "stdout",
          "output_type": "stream",
          "text": [
            "\n",
            "Batch 440/802 | Loss: 1.511380 | Avg Loss: 1.362770 | Field Shape: torch.Size([32, 96, 96]) | Path Shape: torch.Size([32, 8, 2])\n"
          ]
        },
        {
          "name": "stderr",
          "output_type": "stream",
          "text": []
        },
        {
          "name": "stdout",
          "output_type": "stream",
          "text": [
            "\n",
            "Batch 460/802 | Loss: 1.356385 | Avg Loss: 1.363451 | Field Shape: torch.Size([32, 96, 96]) | Path Shape: torch.Size([32, 8, 2])\n"
          ]
        },
        {
          "name": "stderr",
          "output_type": "stream",
          "text": []
        },
        {
          "name": "stdout",
          "output_type": "stream",
          "text": [
            "\n",
            "Batch 480/802 | Loss: 1.363045 | Avg Loss: 1.363117 | Field Shape: torch.Size([32, 96, 96]) | Path Shape: torch.Size([32, 8, 2])\n"
          ]
        },
        {
          "name": "stderr",
          "output_type": "stream",
          "text": []
        },
        {
          "name": "stdout",
          "output_type": "stream",
          "text": [
            "\n",
            "Batch 500/802 | Loss: 1.441435 | Avg Loss: 1.363786 | Field Shape: torch.Size([32, 96, 96]) | Path Shape: torch.Size([32, 8, 2])\n"
          ]
        },
        {
          "name": "stderr",
          "output_type": "stream",
          "text": []
        },
        {
          "name": "stdout",
          "output_type": "stream",
          "text": [
            "\n",
            "Batch 520/802 | Loss: 1.399062 | Avg Loss: 1.364982 | Field Shape: torch.Size([32, 96, 96]) | Path Shape: torch.Size([32, 8, 2])\n"
          ]
        },
        {
          "name": "stderr",
          "output_type": "stream",
          "text": []
        },
        {
          "name": "stdout",
          "output_type": "stream",
          "text": [
            "\n",
            "Batch 540/802 | Loss: 1.394416 | Avg Loss: 1.365569 | Field Shape: torch.Size([32, 96, 96]) | Path Shape: torch.Size([32, 8, 2])\n"
          ]
        },
        {
          "name": "stderr",
          "output_type": "stream",
          "text": []
        },
        {
          "name": "stdout",
          "output_type": "stream",
          "text": [
            "\n",
            "Batch 560/802 | Loss: 1.379884 | Avg Loss: 1.366159 | Field Shape: torch.Size([32, 96, 96]) | Path Shape: torch.Size([32, 8, 2])\n"
          ]
        },
        {
          "name": "stderr",
          "output_type": "stream",
          "text": []
        },
        {
          "name": "stdout",
          "output_type": "stream",
          "text": [
            "\n",
            "Batch 580/802 | Loss: 1.343356 | Avg Loss: 1.366535 | Field Shape: torch.Size([32, 96, 96]) | Path Shape: torch.Size([32, 8, 2])\n"
          ]
        },
        {
          "name": "stderr",
          "output_type": "stream",
          "text": []
        },
        {
          "name": "stdout",
          "output_type": "stream",
          "text": [
            "\n",
            "Batch 600/802 | Loss: 1.381045 | Avg Loss: 1.368259 | Field Shape: torch.Size([32, 96, 96]) | Path Shape: torch.Size([32, 8, 2])\n"
          ]
        },
        {
          "name": "stderr",
          "output_type": "stream",
          "text": []
        },
        {
          "name": "stdout",
          "output_type": "stream",
          "text": [
            "\n",
            "Batch 620/802 | Loss: 1.382764 | Avg Loss: 1.368455 | Field Shape: torch.Size([32, 96, 96]) | Path Shape: torch.Size([32, 8, 2])\n"
          ]
        },
        {
          "name": "stderr",
          "output_type": "stream",
          "text": []
        },
        {
          "name": "stdout",
          "output_type": "stream",
          "text": [
            "\n",
            "Batch 640/802 | Loss: 1.470136 | Avg Loss: 1.367767 | Field Shape: torch.Size([32, 96, 96]) | Path Shape: torch.Size([32, 8, 2])\n"
          ]
        },
        {
          "name": "stderr",
          "output_type": "stream",
          "text": []
        },
        {
          "name": "stdout",
          "output_type": "stream",
          "text": [
            "\n",
            "Batch 660/802 | Loss: 1.367772 | Avg Loss: 1.367263 | Field Shape: torch.Size([32, 96, 96]) | Path Shape: torch.Size([32, 8, 2])\n"
          ]
        },
        {
          "name": "stderr",
          "output_type": "stream",
          "text": []
        },
        {
          "name": "stdout",
          "output_type": "stream",
          "text": [
            "\n",
            "Batch 680/802 | Loss: 1.453496 | Avg Loss: 1.366538 | Field Shape: torch.Size([32, 96, 96]) | Path Shape: torch.Size([32, 8, 2])\n"
          ]
        },
        {
          "name": "stderr",
          "output_type": "stream",
          "text": []
        },
        {
          "name": "stdout",
          "output_type": "stream",
          "text": [
            "\n",
            "Batch 700/802 | Loss: 1.525326 | Avg Loss: 1.366204 | Field Shape: torch.Size([32, 96, 96]) | Path Shape: torch.Size([32, 8, 2])\n"
          ]
        },
        {
          "name": "stderr",
          "output_type": "stream",
          "text": []
        },
        {
          "name": "stdout",
          "output_type": "stream",
          "text": [
            "\n",
            "Batch 720/802 | Loss: 1.369173 | Avg Loss: 1.365668 | Field Shape: torch.Size([32, 96, 96]) | Path Shape: torch.Size([32, 8, 2])\n"
          ]
        },
        {
          "name": "stderr",
          "output_type": "stream",
          "text": []
        },
        {
          "name": "stdout",
          "output_type": "stream",
          "text": [
            "\n",
            "Batch 740/802 | Loss: 1.408435 | Avg Loss: 1.365660 | Field Shape: torch.Size([32, 96, 96]) | Path Shape: torch.Size([32, 8, 2])\n"
          ]
        },
        {
          "name": "stderr",
          "output_type": "stream",
          "text": []
        },
        {
          "name": "stdout",
          "output_type": "stream",
          "text": [
            "\n",
            "Batch 760/802 | Loss: 1.324453 | Avg Loss: 1.365505 | Field Shape: torch.Size([32, 96, 96]) | Path Shape: torch.Size([32, 8, 2])\n"
          ]
        },
        {
          "name": "stderr",
          "output_type": "stream",
          "text": []
        },
        {
          "name": "stdout",
          "output_type": "stream",
          "text": [
            "\n",
            "Batch 780/802 | Loss: 1.226526 | Avg Loss: 1.366213 | Field Shape: torch.Size([32, 96, 96]) | Path Shape: torch.Size([32, 8, 2])\n"
          ]
        },
        {
          "name": "stderr",
          "output_type": "stream",
          "text": []
        },
        {
          "name": "stdout",
          "output_type": "stream",
          "text": [
            "\n",
            "Batch 800/802 | Loss: 1.613083 | Avg Loss: 1.365742 | Field Shape: torch.Size([32, 96, 96]) | Path Shape: torch.Size([32, 8, 2])\n"
          ]
        },
        {
          "name": "stderr",
          "output_type": "stream",
          "text": [
            "Epoch:  17%|█▋        | 5/30 [22:47<1:59:59, 287.98s/it, epoch_loss=1.365935, best_loss=0.608634, batches=802]"
          ]
        },
        {
          "name": "stdout",
          "output_type": "stream",
          "text": [
            "\n",
            "Batch 20/802 | Loss: 1.251314 | Avg Loss: 1.372674 | Field Shape: torch.Size([32, 96, 96]) | Path Shape: torch.Size([32, 8, 2])\n"
          ]
        },
        {
          "name": "stderr",
          "output_type": "stream",
          "text": []
        },
        {
          "name": "stdout",
          "output_type": "stream",
          "text": [
            "\n",
            "Batch 40/802 | Loss: 1.464332 | Avg Loss: 1.351812 | Field Shape: torch.Size([32, 96, 96]) | Path Shape: torch.Size([32, 8, 2])\n"
          ]
        },
        {
          "name": "stderr",
          "output_type": "stream",
          "text": []
        },
        {
          "name": "stdout",
          "output_type": "stream",
          "text": [
            "\n",
            "Batch 60/802 | Loss: 1.341715 | Avg Loss: 1.353498 | Field Shape: torch.Size([32, 96, 96]) | Path Shape: torch.Size([32, 8, 2])\n"
          ]
        },
        {
          "name": "stderr",
          "output_type": "stream",
          "text": []
        },
        {
          "name": "stdout",
          "output_type": "stream",
          "text": [
            "\n",
            "Batch 80/802 | Loss: 1.438183 | Avg Loss: 1.357893 | Field Shape: torch.Size([32, 96, 96]) | Path Shape: torch.Size([32, 8, 2])\n"
          ]
        },
        {
          "name": "stderr",
          "output_type": "stream",
          "text": []
        },
        {
          "name": "stdout",
          "output_type": "stream",
          "text": [
            "\n",
            "Batch 100/802 | Loss: 1.365314 | Avg Loss: 1.358867 | Field Shape: torch.Size([32, 96, 96]) | Path Shape: torch.Size([32, 8, 2])\n"
          ]
        },
        {
          "name": "stderr",
          "output_type": "stream",
          "text": []
        },
        {
          "name": "stdout",
          "output_type": "stream",
          "text": [
            "\n",
            "Batch 120/802 | Loss: 1.438013 | Avg Loss: 1.355461 | Field Shape: torch.Size([32, 96, 96]) | Path Shape: torch.Size([32, 8, 2])\n"
          ]
        },
        {
          "name": "stderr",
          "output_type": "stream",
          "text": []
        },
        {
          "name": "stdout",
          "output_type": "stream",
          "text": [
            "\n",
            "Batch 140/802 | Loss: 1.460002 | Avg Loss: 1.356364 | Field Shape: torch.Size([32, 96, 96]) | Path Shape: torch.Size([32, 8, 2])\n"
          ]
        },
        {
          "name": "stderr",
          "output_type": "stream",
          "text": []
        },
        {
          "name": "stdout",
          "output_type": "stream",
          "text": [
            "\n",
            "Batch 160/802 | Loss: 1.357270 | Avg Loss: 1.359092 | Field Shape: torch.Size([32, 96, 96]) | Path Shape: torch.Size([32, 8, 2])\n"
          ]
        },
        {
          "name": "stderr",
          "output_type": "stream",
          "text": []
        },
        {
          "name": "stdout",
          "output_type": "stream",
          "text": [
            "\n",
            "Batch 180/802 | Loss: 1.371486 | Avg Loss: 1.356788 | Field Shape: torch.Size([32, 96, 96]) | Path Shape: torch.Size([32, 8, 2])\n"
          ]
        },
        {
          "name": "stderr",
          "output_type": "stream",
          "text": []
        },
        {
          "name": "stdout",
          "output_type": "stream",
          "text": [
            "\n",
            "Batch 200/802 | Loss: 1.421995 | Avg Loss: 1.359717 | Field Shape: torch.Size([32, 96, 96]) | Path Shape: torch.Size([32, 8, 2])\n"
          ]
        },
        {
          "name": "stderr",
          "output_type": "stream",
          "text": []
        },
        {
          "name": "stdout",
          "output_type": "stream",
          "text": [
            "\n",
            "Batch 220/802 | Loss: 1.628123 | Avg Loss: 1.359451 | Field Shape: torch.Size([32, 96, 96]) | Path Shape: torch.Size([32, 8, 2])\n"
          ]
        },
        {
          "name": "stderr",
          "output_type": "stream",
          "text": []
        },
        {
          "name": "stdout",
          "output_type": "stream",
          "text": [
            "\n",
            "Batch 240/802 | Loss: 1.556743 | Avg Loss: 1.357989 | Field Shape: torch.Size([32, 96, 96]) | Path Shape: torch.Size([32, 8, 2])\n"
          ]
        },
        {
          "name": "stderr",
          "output_type": "stream",
          "text": []
        },
        {
          "name": "stdout",
          "output_type": "stream",
          "text": [
            "\n",
            "Batch 260/802 | Loss: 1.461094 | Avg Loss: 1.360643 | Field Shape: torch.Size([32, 96, 96]) | Path Shape: torch.Size([32, 8, 2])\n"
          ]
        },
        {
          "name": "stderr",
          "output_type": "stream",
          "text": []
        },
        {
          "name": "stdout",
          "output_type": "stream",
          "text": [
            "\n",
            "Batch 280/802 | Loss: 1.545888 | Avg Loss: 1.359459 | Field Shape: torch.Size([32, 96, 96]) | Path Shape: torch.Size([32, 8, 2])\n"
          ]
        },
        {
          "name": "stderr",
          "output_type": "stream",
          "text": []
        },
        {
          "name": "stdout",
          "output_type": "stream",
          "text": [
            "\n",
            "Batch 300/802 | Loss: 1.475539 | Avg Loss: 1.358704 | Field Shape: torch.Size([32, 96, 96]) | Path Shape: torch.Size([32, 8, 2])\n"
          ]
        },
        {
          "name": "stderr",
          "output_type": "stream",
          "text": []
        },
        {
          "name": "stdout",
          "output_type": "stream",
          "text": [
            "\n",
            "Batch 320/802 | Loss: 1.315338 | Avg Loss: 1.362272 | Field Shape: torch.Size([32, 96, 96]) | Path Shape: torch.Size([32, 8, 2])\n"
          ]
        },
        {
          "name": "stderr",
          "output_type": "stream",
          "text": []
        },
        {
          "name": "stdout",
          "output_type": "stream",
          "text": [
            "\n",
            "Batch 340/802 | Loss: 1.303137 | Avg Loss: 1.364083 | Field Shape: torch.Size([32, 96, 96]) | Path Shape: torch.Size([32, 8, 2])\n"
          ]
        },
        {
          "name": "stderr",
          "output_type": "stream",
          "text": []
        },
        {
          "name": "stdout",
          "output_type": "stream",
          "text": [
            "\n",
            "Batch 360/802 | Loss: 1.453633 | Avg Loss: 1.363417 | Field Shape: torch.Size([32, 96, 96]) | Path Shape: torch.Size([32, 8, 2])\n"
          ]
        },
        {
          "name": "stderr",
          "output_type": "stream",
          "text": []
        },
        {
          "name": "stdout",
          "output_type": "stream",
          "text": [
            "\n",
            "Batch 380/802 | Loss: 1.306260 | Avg Loss: 1.361226 | Field Shape: torch.Size([32, 96, 96]) | Path Shape: torch.Size([32, 8, 2])\n"
          ]
        },
        {
          "name": "stderr",
          "output_type": "stream",
          "text": []
        },
        {
          "name": "stdout",
          "output_type": "stream",
          "text": [
            "\n",
            "Batch 400/802 | Loss: 1.448723 | Avg Loss: 1.360783 | Field Shape: torch.Size([32, 96, 96]) | Path Shape: torch.Size([32, 8, 2])\n"
          ]
        },
        {
          "name": "stderr",
          "output_type": "stream",
          "text": []
        },
        {
          "name": "stdout",
          "output_type": "stream",
          "text": [
            "\n",
            "Batch 420/802 | Loss: 1.380110 | Avg Loss: 1.361210 | Field Shape: torch.Size([32, 96, 96]) | Path Shape: torch.Size([32, 8, 2])\n"
          ]
        },
        {
          "name": "stderr",
          "output_type": "stream",
          "text": []
        },
        {
          "name": "stdout",
          "output_type": "stream",
          "text": [
            "\n",
            "Batch 440/802 | Loss: 1.406619 | Avg Loss: 1.360626 | Field Shape: torch.Size([32, 96, 96]) | Path Shape: torch.Size([32, 8, 2])\n"
          ]
        },
        {
          "name": "stderr",
          "output_type": "stream",
          "text": []
        },
        {
          "name": "stdout",
          "output_type": "stream",
          "text": [
            "\n",
            "Batch 460/802 | Loss: 1.480291 | Avg Loss: 1.360955 | Field Shape: torch.Size([32, 96, 96]) | Path Shape: torch.Size([32, 8, 2])\n"
          ]
        },
        {
          "name": "stderr",
          "output_type": "stream",
          "text": []
        },
        {
          "name": "stdout",
          "output_type": "stream",
          "text": [
            "\n",
            "Batch 480/802 | Loss: 1.361089 | Avg Loss: 1.361029 | Field Shape: torch.Size([32, 96, 96]) | Path Shape: torch.Size([32, 8, 2])\n"
          ]
        },
        {
          "name": "stderr",
          "output_type": "stream",
          "text": []
        },
        {
          "name": "stdout",
          "output_type": "stream",
          "text": [
            "\n",
            "Batch 500/802 | Loss: 1.469974 | Avg Loss: 1.361084 | Field Shape: torch.Size([32, 96, 96]) | Path Shape: torch.Size([32, 8, 2])\n"
          ]
        },
        {
          "name": "stderr",
          "output_type": "stream",
          "text": []
        },
        {
          "name": "stdout",
          "output_type": "stream",
          "text": [
            "\n",
            "Batch 520/802 | Loss: 1.410595 | Avg Loss: 1.360897 | Field Shape: torch.Size([32, 96, 96]) | Path Shape: torch.Size([32, 8, 2])\n"
          ]
        },
        {
          "name": "stderr",
          "output_type": "stream",
          "text": []
        },
        {
          "name": "stdout",
          "output_type": "stream",
          "text": [
            "\n",
            "Batch 540/802 | Loss: 1.655366 | Avg Loss: 1.361107 | Field Shape: torch.Size([32, 96, 96]) | Path Shape: torch.Size([32, 8, 2])\n"
          ]
        },
        {
          "name": "stderr",
          "output_type": "stream",
          "text": []
        },
        {
          "name": "stdout",
          "output_type": "stream",
          "text": [
            "\n",
            "Batch 560/802 | Loss: 1.271186 | Avg Loss: 1.361766 | Field Shape: torch.Size([32, 96, 96]) | Path Shape: torch.Size([32, 8, 2])\n"
          ]
        },
        {
          "name": "stderr",
          "output_type": "stream",
          "text": []
        },
        {
          "name": "stdout",
          "output_type": "stream",
          "text": [
            "\n",
            "Batch 580/802 | Loss: 1.327528 | Avg Loss: 1.361967 | Field Shape: torch.Size([32, 96, 96]) | Path Shape: torch.Size([32, 8, 2])\n"
          ]
        },
        {
          "name": "stderr",
          "output_type": "stream",
          "text": []
        },
        {
          "name": "stdout",
          "output_type": "stream",
          "text": [
            "\n",
            "Batch 600/802 | Loss: 1.411964 | Avg Loss: 1.362554 | Field Shape: torch.Size([32, 96, 96]) | Path Shape: torch.Size([32, 8, 2])\n"
          ]
        },
        {
          "name": "stderr",
          "output_type": "stream",
          "text": []
        },
        {
          "name": "stdout",
          "output_type": "stream",
          "text": [
            "\n",
            "Batch 620/802 | Loss: 1.070272 | Avg Loss: 1.362425 | Field Shape: torch.Size([32, 96, 96]) | Path Shape: torch.Size([32, 8, 2])\n"
          ]
        },
        {
          "name": "stderr",
          "output_type": "stream",
          "text": []
        },
        {
          "name": "stdout",
          "output_type": "stream",
          "text": [
            "\n",
            "Batch 640/802 | Loss: 1.398132 | Avg Loss: 1.363422 | Field Shape: torch.Size([32, 96, 96]) | Path Shape: torch.Size([32, 8, 2])\n"
          ]
        },
        {
          "name": "stderr",
          "output_type": "stream",
          "text": []
        },
        {
          "name": "stdout",
          "output_type": "stream",
          "text": [
            "\n",
            "Batch 660/802 | Loss: 1.555165 | Avg Loss: 1.363488 | Field Shape: torch.Size([32, 96, 96]) | Path Shape: torch.Size([32, 8, 2])\n"
          ]
        },
        {
          "name": "stderr",
          "output_type": "stream",
          "text": []
        },
        {
          "name": "stdout",
          "output_type": "stream",
          "text": [
            "\n",
            "Batch 680/802 | Loss: 1.288216 | Avg Loss: 1.362097 | Field Shape: torch.Size([32, 96, 96]) | Path Shape: torch.Size([32, 8, 2])\n"
          ]
        },
        {
          "name": "stderr",
          "output_type": "stream",
          "text": []
        },
        {
          "name": "stdout",
          "output_type": "stream",
          "text": [
            "\n",
            "Batch 700/802 | Loss: 1.346919 | Avg Loss: 1.362653 | Field Shape: torch.Size([32, 96, 96]) | Path Shape: torch.Size([32, 8, 2])\n"
          ]
        },
        {
          "name": "stderr",
          "output_type": "stream",
          "text": []
        },
        {
          "name": "stdout",
          "output_type": "stream",
          "text": [
            "\n",
            "Batch 720/802 | Loss: 1.487878 | Avg Loss: 1.363387 | Field Shape: torch.Size([32, 96, 96]) | Path Shape: torch.Size([32, 8, 2])\n"
          ]
        },
        {
          "name": "stderr",
          "output_type": "stream",
          "text": []
        },
        {
          "name": "stdout",
          "output_type": "stream",
          "text": [
            "\n",
            "Batch 740/802 | Loss: 1.420847 | Avg Loss: 1.364009 | Field Shape: torch.Size([32, 96, 96]) | Path Shape: torch.Size([32, 8, 2])\n"
          ]
        },
        {
          "name": "stderr",
          "output_type": "stream",
          "text": []
        },
        {
          "name": "stdout",
          "output_type": "stream",
          "text": [
            "\n",
            "Batch 760/802 | Loss: 1.431632 | Avg Loss: 1.364653 | Field Shape: torch.Size([32, 96, 96]) | Path Shape: torch.Size([32, 8, 2])\n"
          ]
        },
        {
          "name": "stderr",
          "output_type": "stream",
          "text": []
        },
        {
          "name": "stdout",
          "output_type": "stream",
          "text": [
            "\n",
            "Batch 780/802 | Loss: 1.232164 | Avg Loss: 1.364729 | Field Shape: torch.Size([32, 96, 96]) | Path Shape: torch.Size([32, 8, 2])\n"
          ]
        },
        {
          "name": "stderr",
          "output_type": "stream",
          "text": []
        },
        {
          "name": "stdout",
          "output_type": "stream",
          "text": [
            "\n",
            "Batch 800/802 | Loss: 1.406024 | Avg Loss: 1.365686 | Field Shape: torch.Size([32, 96, 96]) | Path Shape: torch.Size([32, 8, 2])\n"
          ]
        },
        {
          "name": "stderr",
          "output_type": "stream",
          "text": [
            "Epoch:  20%|██        | 6/30 [27:48<1:56:56, 292.37s/it, epoch_loss=1.365878, best_loss=0.608634, batches=802]"
          ]
        },
        {
          "name": "stdout",
          "output_type": "stream",
          "text": [
            "\n",
            "Batch 20/802 | Loss: 1.340834 | Avg Loss: 1.351384 | Field Shape: torch.Size([32, 96, 96]) | Path Shape: torch.Size([32, 8, 2])\n"
          ]
        },
        {
          "name": "stderr",
          "output_type": "stream",
          "text": []
        },
        {
          "name": "stdout",
          "output_type": "stream",
          "text": [
            "\n",
            "Batch 40/802 | Loss: 1.570557 | Avg Loss: 1.341494 | Field Shape: torch.Size([32, 96, 96]) | Path Shape: torch.Size([32, 8, 2])\n"
          ]
        },
        {
          "name": "stderr",
          "output_type": "stream",
          "text": []
        },
        {
          "name": "stdout",
          "output_type": "stream",
          "text": [
            "\n",
            "Batch 60/802 | Loss: 1.179552 | Avg Loss: 1.337352 | Field Shape: torch.Size([32, 96, 96]) | Path Shape: torch.Size([32, 8, 2])\n"
          ]
        },
        {
          "name": "stderr",
          "output_type": "stream",
          "text": []
        },
        {
          "name": "stdout",
          "output_type": "stream",
          "text": [
            "\n",
            "Batch 80/802 | Loss: 1.256272 | Avg Loss: 1.360015 | Field Shape: torch.Size([32, 96, 96]) | Path Shape: torch.Size([32, 8, 2])\n"
          ]
        },
        {
          "name": "stderr",
          "output_type": "stream",
          "text": []
        },
        {
          "name": "stdout",
          "output_type": "stream",
          "text": [
            "\n",
            "Batch 100/802 | Loss: 1.348654 | Avg Loss: 1.360328 | Field Shape: torch.Size([32, 96, 96]) | Path Shape: torch.Size([32, 8, 2])\n"
          ]
        },
        {
          "name": "stderr",
          "output_type": "stream",
          "text": []
        },
        {
          "name": "stdout",
          "output_type": "stream",
          "text": [
            "\n",
            "Batch 120/802 | Loss: 1.438115 | Avg Loss: 1.357363 | Field Shape: torch.Size([32, 96, 96]) | Path Shape: torch.Size([32, 8, 2])\n"
          ]
        },
        {
          "name": "stderr",
          "output_type": "stream",
          "text": []
        },
        {
          "name": "stdout",
          "output_type": "stream",
          "text": [
            "\n",
            "Batch 140/802 | Loss: 1.516220 | Avg Loss: 1.356406 | Field Shape: torch.Size([32, 96, 96]) | Path Shape: torch.Size([32, 8, 2])\n"
          ]
        },
        {
          "name": "stderr",
          "output_type": "stream",
          "text": []
        },
        {
          "name": "stdout",
          "output_type": "stream",
          "text": [
            "\n",
            "Batch 160/802 | Loss: 1.458093 | Avg Loss: 1.359805 | Field Shape: torch.Size([32, 96, 96]) | Path Shape: torch.Size([32, 8, 2])\n"
          ]
        },
        {
          "name": "stderr",
          "output_type": "stream",
          "text": []
        },
        {
          "name": "stdout",
          "output_type": "stream",
          "text": [
            "\n",
            "Batch 180/802 | Loss: 1.249001 | Avg Loss: 1.358716 | Field Shape: torch.Size([32, 96, 96]) | Path Shape: torch.Size([32, 8, 2])\n"
          ]
        },
        {
          "name": "stderr",
          "output_type": "stream",
          "text": []
        },
        {
          "name": "stdout",
          "output_type": "stream",
          "text": [
            "\n",
            "Batch 200/802 | Loss: 1.449229 | Avg Loss: 1.362563 | Field Shape: torch.Size([32, 96, 96]) | Path Shape: torch.Size([32, 8, 2])\n"
          ]
        },
        {
          "name": "stderr",
          "output_type": "stream",
          "text": []
        },
        {
          "name": "stdout",
          "output_type": "stream",
          "text": [
            "\n",
            "Batch 220/802 | Loss: 1.322163 | Avg Loss: 1.361728 | Field Shape: torch.Size([32, 96, 96]) | Path Shape: torch.Size([32, 8, 2])\n"
          ]
        },
        {
          "name": "stderr",
          "output_type": "stream",
          "text": []
        },
        {
          "name": "stdout",
          "output_type": "stream",
          "text": [
            "\n",
            "Batch 240/802 | Loss: 1.418818 | Avg Loss: 1.360097 | Field Shape: torch.Size([32, 96, 96]) | Path Shape: torch.Size([32, 8, 2])\n"
          ]
        },
        {
          "name": "stderr",
          "output_type": "stream",
          "text": []
        },
        {
          "name": "stdout",
          "output_type": "stream",
          "text": [
            "\n",
            "Batch 260/802 | Loss: 1.317649 | Avg Loss: 1.360869 | Field Shape: torch.Size([32, 96, 96]) | Path Shape: torch.Size([32, 8, 2])\n"
          ]
        },
        {
          "name": "stderr",
          "output_type": "stream",
          "text": []
        },
        {
          "name": "stdout",
          "output_type": "stream",
          "text": [
            "\n",
            "Batch 280/802 | Loss: 1.216597 | Avg Loss: 1.359929 | Field Shape: torch.Size([32, 96, 96]) | Path Shape: torch.Size([32, 8, 2])\n"
          ]
        },
        {
          "name": "stderr",
          "output_type": "stream",
          "text": []
        },
        {
          "name": "stdout",
          "output_type": "stream",
          "text": [
            "\n",
            "Batch 300/802 | Loss: 1.438201 | Avg Loss: 1.359748 | Field Shape: torch.Size([32, 96, 96]) | Path Shape: torch.Size([32, 8, 2])\n"
          ]
        },
        {
          "name": "stderr",
          "output_type": "stream",
          "text": []
        },
        {
          "name": "stdout",
          "output_type": "stream",
          "text": [
            "\n",
            "Batch 320/802 | Loss: 1.550083 | Avg Loss: 1.359106 | Field Shape: torch.Size([32, 96, 96]) | Path Shape: torch.Size([32, 8, 2])\n"
          ]
        },
        {
          "name": "stderr",
          "output_type": "stream",
          "text": []
        },
        {
          "name": "stdout",
          "output_type": "stream",
          "text": [
            "\n",
            "Batch 340/802 | Loss: 1.623917 | Avg Loss: 1.359415 | Field Shape: torch.Size([32, 96, 96]) | Path Shape: torch.Size([32, 8, 2])\n"
          ]
        },
        {
          "name": "stderr",
          "output_type": "stream",
          "text": []
        },
        {
          "name": "stdout",
          "output_type": "stream",
          "text": [
            "\n",
            "Batch 360/802 | Loss: 1.318180 | Avg Loss: 1.358646 | Field Shape: torch.Size([32, 96, 96]) | Path Shape: torch.Size([32, 8, 2])\n"
          ]
        },
        {
          "name": "stderr",
          "output_type": "stream",
          "text": []
        },
        {
          "name": "stdout",
          "output_type": "stream",
          "text": [
            "\n",
            "Batch 380/802 | Loss: 1.123769 | Avg Loss: 1.358981 | Field Shape: torch.Size([32, 96, 96]) | Path Shape: torch.Size([32, 8, 2])\n"
          ]
        },
        {
          "name": "stderr",
          "output_type": "stream",
          "text": []
        },
        {
          "name": "stdout",
          "output_type": "stream",
          "text": [
            "\n",
            "Batch 400/802 | Loss: 1.227463 | Avg Loss: 1.358997 | Field Shape: torch.Size([32, 96, 96]) | Path Shape: torch.Size([32, 8, 2])\n"
          ]
        },
        {
          "name": "stderr",
          "output_type": "stream",
          "text": []
        },
        {
          "name": "stdout",
          "output_type": "stream",
          "text": [
            "\n",
            "Batch 420/802 | Loss: 1.341895 | Avg Loss: 1.358571 | Field Shape: torch.Size([32, 96, 96]) | Path Shape: torch.Size([32, 8, 2])\n"
          ]
        },
        {
          "name": "stderr",
          "output_type": "stream",
          "text": []
        },
        {
          "name": "stdout",
          "output_type": "stream",
          "text": [
            "\n",
            "Batch 440/802 | Loss: 1.552564 | Avg Loss: 1.358056 | Field Shape: torch.Size([32, 96, 96]) | Path Shape: torch.Size([32, 8, 2])\n"
          ]
        },
        {
          "name": "stderr",
          "output_type": "stream",
          "text": []
        },
        {
          "name": "stdout",
          "output_type": "stream",
          "text": [
            "\n",
            "Batch 460/802 | Loss: 1.437574 | Avg Loss: 1.359045 | Field Shape: torch.Size([32, 96, 96]) | Path Shape: torch.Size([32, 8, 2])\n"
          ]
        },
        {
          "name": "stderr",
          "output_type": "stream",
          "text": []
        },
        {
          "name": "stdout",
          "output_type": "stream",
          "text": [
            "\n",
            "Batch 480/802 | Loss: 1.208274 | Avg Loss: 1.358447 | Field Shape: torch.Size([32, 96, 96]) | Path Shape: torch.Size([32, 8, 2])\n"
          ]
        },
        {
          "name": "stderr",
          "output_type": "stream",
          "text": []
        },
        {
          "name": "stdout",
          "output_type": "stream",
          "text": [
            "\n",
            "Batch 500/802 | Loss: 1.418380 | Avg Loss: 1.359035 | Field Shape: torch.Size([32, 96, 96]) | Path Shape: torch.Size([32, 8, 2])\n"
          ]
        },
        {
          "name": "stderr",
          "output_type": "stream",
          "text": []
        },
        {
          "name": "stdout",
          "output_type": "stream",
          "text": [
            "\n",
            "Batch 520/802 | Loss: 1.534825 | Avg Loss: 1.360003 | Field Shape: torch.Size([32, 96, 96]) | Path Shape: torch.Size([32, 8, 2])\n"
          ]
        },
        {
          "name": "stderr",
          "output_type": "stream",
          "text": []
        },
        {
          "name": "stdout",
          "output_type": "stream",
          "text": [
            "\n",
            "Batch 540/802 | Loss: 1.291035 | Avg Loss: 1.360430 | Field Shape: torch.Size([32, 96, 96]) | Path Shape: torch.Size([32, 8, 2])\n"
          ]
        },
        {
          "name": "stderr",
          "output_type": "stream",
          "text": []
        },
        {
          "name": "stdout",
          "output_type": "stream",
          "text": [
            "\n",
            "Batch 560/802 | Loss: 1.538388 | Avg Loss: 1.361716 | Field Shape: torch.Size([32, 96, 96]) | Path Shape: torch.Size([32, 8, 2])\n"
          ]
        },
        {
          "name": "stderr",
          "output_type": "stream",
          "text": []
        },
        {
          "name": "stdout",
          "output_type": "stream",
          "text": [
            "\n",
            "Batch 580/802 | Loss: 1.453310 | Avg Loss: 1.363156 | Field Shape: torch.Size([32, 96, 96]) | Path Shape: torch.Size([32, 8, 2])\n"
          ]
        },
        {
          "name": "stderr",
          "output_type": "stream",
          "text": []
        },
        {
          "name": "stdout",
          "output_type": "stream",
          "text": [
            "\n",
            "Batch 600/802 | Loss: 1.359503 | Avg Loss: 1.362260 | Field Shape: torch.Size([32, 96, 96]) | Path Shape: torch.Size([32, 8, 2])\n"
          ]
        },
        {
          "name": "stderr",
          "output_type": "stream",
          "text": []
        },
        {
          "name": "stdout",
          "output_type": "stream",
          "text": [
            "\n",
            "Batch 620/802 | Loss: 1.296522 | Avg Loss: 1.362950 | Field Shape: torch.Size([32, 96, 96]) | Path Shape: torch.Size([32, 8, 2])\n"
          ]
        },
        {
          "name": "stderr",
          "output_type": "stream",
          "text": []
        },
        {
          "name": "stdout",
          "output_type": "stream",
          "text": [
            "\n",
            "Batch 640/802 | Loss: 1.531050 | Avg Loss: 1.363882 | Field Shape: torch.Size([32, 96, 96]) | Path Shape: torch.Size([32, 8, 2])\n"
          ]
        },
        {
          "name": "stderr",
          "output_type": "stream",
          "text": []
        },
        {
          "name": "stdout",
          "output_type": "stream",
          "text": [
            "\n",
            "Batch 660/802 | Loss: 1.327564 | Avg Loss: 1.364362 | Field Shape: torch.Size([32, 96, 96]) | Path Shape: torch.Size([32, 8, 2])\n"
          ]
        },
        {
          "name": "stderr",
          "output_type": "stream",
          "text": []
        },
        {
          "name": "stdout",
          "output_type": "stream",
          "text": [
            "\n",
            "Batch 680/802 | Loss: 1.474087 | Avg Loss: 1.364025 | Field Shape: torch.Size([32, 96, 96]) | Path Shape: torch.Size([32, 8, 2])\n"
          ]
        },
        {
          "name": "stderr",
          "output_type": "stream",
          "text": []
        },
        {
          "name": "stdout",
          "output_type": "stream",
          "text": [
            "\n",
            "Batch 700/802 | Loss: 1.216528 | Avg Loss: 1.363890 | Field Shape: torch.Size([32, 96, 96]) | Path Shape: torch.Size([32, 8, 2])\n"
          ]
        },
        {
          "name": "stderr",
          "output_type": "stream",
          "text": []
        },
        {
          "name": "stdout",
          "output_type": "stream",
          "text": [
            "\n",
            "Batch 720/802 | Loss: 1.407002 | Avg Loss: 1.365478 | Field Shape: torch.Size([32, 96, 96]) | Path Shape: torch.Size([32, 8, 2])\n"
          ]
        },
        {
          "name": "stderr",
          "output_type": "stream",
          "text": []
        },
        {
          "name": "stdout",
          "output_type": "stream",
          "text": [
            "\n",
            "Batch 740/802 | Loss: 1.164376 | Avg Loss: 1.364697 | Field Shape: torch.Size([32, 96, 96]) | Path Shape: torch.Size([32, 8, 2])\n"
          ]
        },
        {
          "name": "stderr",
          "output_type": "stream",
          "text": []
        },
        {
          "name": "stdout",
          "output_type": "stream",
          "text": [
            "\n",
            "Batch 760/802 | Loss: 1.149812 | Avg Loss: 1.365592 | Field Shape: torch.Size([32, 96, 96]) | Path Shape: torch.Size([32, 8, 2])\n"
          ]
        },
        {
          "name": "stderr",
          "output_type": "stream",
          "text": []
        },
        {
          "name": "stdout",
          "output_type": "stream",
          "text": [
            "\n",
            "Batch 780/802 | Loss: 1.397279 | Avg Loss: 1.365321 | Field Shape: torch.Size([32, 96, 96]) | Path Shape: torch.Size([32, 8, 2])\n"
          ]
        },
        {
          "name": "stderr",
          "output_type": "stream",
          "text": []
        },
        {
          "name": "stdout",
          "output_type": "stream",
          "text": [
            "\n",
            "Batch 800/802 | Loss: 1.454371 | Avg Loss: 1.365911 | Field Shape: torch.Size([32, 96, 96]) | Path Shape: torch.Size([32, 8, 2])\n"
          ]
        },
        {
          "name": "stderr",
          "output_type": "stream",
          "text": [
            "Epoch:  23%|██▎       | 7/30 [32:49<1:53:10, 295.23s/it, epoch_loss=1.366007, best_loss=0.608634, batches=802]"
          ]
        },
        {
          "name": "stdout",
          "output_type": "stream",
          "text": [
            "\n",
            "Batch 20/802 | Loss: 1.333288 | Avg Loss: 1.382883 | Field Shape: torch.Size([32, 96, 96]) | Path Shape: torch.Size([32, 8, 2])\n"
          ]
        },
        {
          "name": "stderr",
          "output_type": "stream",
          "text": []
        },
        {
          "name": "stdout",
          "output_type": "stream",
          "text": [
            "\n",
            "Batch 40/802 | Loss: 1.543653 | Avg Loss: 1.387049 | Field Shape: torch.Size([32, 96, 96]) | Path Shape: torch.Size([32, 8, 2])\n"
          ]
        },
        {
          "name": "stderr",
          "output_type": "stream",
          "text": []
        },
        {
          "name": "stdout",
          "output_type": "stream",
          "text": [
            "\n",
            "Batch 60/802 | Loss: 1.385045 | Avg Loss: 1.382343 | Field Shape: torch.Size([32, 96, 96]) | Path Shape: torch.Size([32, 8, 2])\n"
          ]
        },
        {
          "name": "stderr",
          "output_type": "stream",
          "text": []
        },
        {
          "name": "stdout",
          "output_type": "stream",
          "text": [
            "\n",
            "Batch 80/802 | Loss: 1.104728 | Avg Loss: 1.375985 | Field Shape: torch.Size([32, 96, 96]) | Path Shape: torch.Size([32, 8, 2])\n"
          ]
        },
        {
          "name": "stderr",
          "output_type": "stream",
          "text": []
        },
        {
          "name": "stdout",
          "output_type": "stream",
          "text": [
            "\n",
            "Batch 100/802 | Loss: 1.250648 | Avg Loss: 1.374854 | Field Shape: torch.Size([32, 96, 96]) | Path Shape: torch.Size([32, 8, 2])\n"
          ]
        },
        {
          "name": "stderr",
          "output_type": "stream",
          "text": []
        },
        {
          "name": "stdout",
          "output_type": "stream",
          "text": [
            "\n",
            "Batch 120/802 | Loss: 1.447311 | Avg Loss: 1.387750 | Field Shape: torch.Size([32, 96, 96]) | Path Shape: torch.Size([32, 8, 2])\n"
          ]
        },
        {
          "name": "stderr",
          "output_type": "stream",
          "text": []
        },
        {
          "name": "stdout",
          "output_type": "stream",
          "text": [
            "\n",
            "Batch 140/802 | Loss: 1.395215 | Avg Loss: 1.385056 | Field Shape: torch.Size([32, 96, 96]) | Path Shape: torch.Size([32, 8, 2])\n"
          ]
        },
        {
          "name": "stderr",
          "output_type": "stream",
          "text": []
        },
        {
          "name": "stdout",
          "output_type": "stream",
          "text": [
            "\n",
            "Batch 160/802 | Loss: 1.326295 | Avg Loss: 1.381723 | Field Shape: torch.Size([32, 96, 96]) | Path Shape: torch.Size([32, 8, 2])\n"
          ]
        },
        {
          "name": "stderr",
          "output_type": "stream",
          "text": []
        },
        {
          "name": "stdout",
          "output_type": "stream",
          "text": [
            "\n",
            "Batch 180/802 | Loss: 1.323610 | Avg Loss: 1.381731 | Field Shape: torch.Size([32, 96, 96]) | Path Shape: torch.Size([32, 8, 2])\n"
          ]
        },
        {
          "name": "stderr",
          "output_type": "stream",
          "text": []
        },
        {
          "name": "stdout",
          "output_type": "stream",
          "text": [
            "\n",
            "Batch 200/802 | Loss: 1.448988 | Avg Loss: 1.382830 | Field Shape: torch.Size([32, 96, 96]) | Path Shape: torch.Size([32, 8, 2])\n"
          ]
        },
        {
          "name": "stderr",
          "output_type": "stream",
          "text": []
        },
        {
          "name": "stdout",
          "output_type": "stream",
          "text": [
            "\n",
            "Batch 220/802 | Loss: 1.472986 | Avg Loss: 1.379369 | Field Shape: torch.Size([32, 96, 96]) | Path Shape: torch.Size([32, 8, 2])\n"
          ]
        },
        {
          "name": "stderr",
          "output_type": "stream",
          "text": []
        },
        {
          "name": "stdout",
          "output_type": "stream",
          "text": [
            "\n",
            "Batch 240/802 | Loss: 1.282513 | Avg Loss: 1.373881 | Field Shape: torch.Size([32, 96, 96]) | Path Shape: torch.Size([32, 8, 2])\n"
          ]
        },
        {
          "name": "stderr",
          "output_type": "stream",
          "text": []
        },
        {
          "name": "stdout",
          "output_type": "stream",
          "text": [
            "\n",
            "Batch 260/802 | Loss: 1.282000 | Avg Loss: 1.370869 | Field Shape: torch.Size([32, 96, 96]) | Path Shape: torch.Size([32, 8, 2])\n"
          ]
        },
        {
          "name": "stderr",
          "output_type": "stream",
          "text": []
        },
        {
          "name": "stdout",
          "output_type": "stream",
          "text": [
            "\n",
            "Batch 280/802 | Loss: 1.468919 | Avg Loss: 1.367017 | Field Shape: torch.Size([32, 96, 96]) | Path Shape: torch.Size([32, 8, 2])\n"
          ]
        },
        {
          "name": "stderr",
          "output_type": "stream",
          "text": []
        },
        {
          "name": "stdout",
          "output_type": "stream",
          "text": [
            "\n",
            "Batch 300/802 | Loss: 1.268322 | Avg Loss: 1.367967 | Field Shape: torch.Size([32, 96, 96]) | Path Shape: torch.Size([32, 8, 2])\n"
          ]
        },
        {
          "name": "stderr",
          "output_type": "stream",
          "text": []
        },
        {
          "name": "stdout",
          "output_type": "stream",
          "text": [
            "\n",
            "Batch 320/802 | Loss: 1.436458 | Avg Loss: 1.368777 | Field Shape: torch.Size([32, 96, 96]) | Path Shape: torch.Size([32, 8, 2])\n"
          ]
        },
        {
          "name": "stderr",
          "output_type": "stream",
          "text": []
        },
        {
          "name": "stdout",
          "output_type": "stream",
          "text": [
            "\n",
            "Batch 340/802 | Loss: 1.169754 | Avg Loss: 1.367935 | Field Shape: torch.Size([32, 96, 96]) | Path Shape: torch.Size([32, 8, 2])\n"
          ]
        },
        {
          "name": "stderr",
          "output_type": "stream",
          "text": []
        },
        {
          "name": "stdout",
          "output_type": "stream",
          "text": [
            "\n",
            "Batch 360/802 | Loss: 1.415570 | Avg Loss: 1.367530 | Field Shape: torch.Size([32, 96, 96]) | Path Shape: torch.Size([32, 8, 2])\n"
          ]
        },
        {
          "name": "stderr",
          "output_type": "stream",
          "text": []
        },
        {
          "name": "stdout",
          "output_type": "stream",
          "text": [
            "\n",
            "Batch 380/802 | Loss: 1.429157 | Avg Loss: 1.367964 | Field Shape: torch.Size([32, 96, 96]) | Path Shape: torch.Size([32, 8, 2])\n"
          ]
        },
        {
          "name": "stderr",
          "output_type": "stream",
          "text": []
        },
        {
          "name": "stdout",
          "output_type": "stream",
          "text": [
            "\n",
            "Batch 400/802 | Loss: 1.304953 | Avg Loss: 1.367462 | Field Shape: torch.Size([32, 96, 96]) | Path Shape: torch.Size([32, 8, 2])\n"
          ]
        },
        {
          "name": "stderr",
          "output_type": "stream",
          "text": []
        },
        {
          "name": "stdout",
          "output_type": "stream",
          "text": [
            "\n",
            "Batch 420/802 | Loss: 1.477560 | Avg Loss: 1.368819 | Field Shape: torch.Size([32, 96, 96]) | Path Shape: torch.Size([32, 8, 2])\n"
          ]
        },
        {
          "name": "stderr",
          "output_type": "stream",
          "text": []
        },
        {
          "name": "stdout",
          "output_type": "stream",
          "text": [
            "\n",
            "Batch 440/802 | Loss: 1.269282 | Avg Loss: 1.369565 | Field Shape: torch.Size([32, 96, 96]) | Path Shape: torch.Size([32, 8, 2])\n"
          ]
        },
        {
          "name": "stderr",
          "output_type": "stream",
          "text": []
        },
        {
          "name": "stdout",
          "output_type": "stream",
          "text": [
            "\n",
            "Batch 460/802 | Loss: 1.401880 | Avg Loss: 1.369673 | Field Shape: torch.Size([32, 96, 96]) | Path Shape: torch.Size([32, 8, 2])\n"
          ]
        },
        {
          "name": "stderr",
          "output_type": "stream",
          "text": []
        },
        {
          "name": "stdout",
          "output_type": "stream",
          "text": [
            "\n",
            "Batch 480/802 | Loss: 1.340683 | Avg Loss: 1.370104 | Field Shape: torch.Size([32, 96, 96]) | Path Shape: torch.Size([32, 8, 2])\n"
          ]
        },
        {
          "name": "stderr",
          "output_type": "stream",
          "text": []
        },
        {
          "name": "stdout",
          "output_type": "stream",
          "text": [
            "\n",
            "Batch 500/802 | Loss: 1.279822 | Avg Loss: 1.368231 | Field Shape: torch.Size([32, 96, 96]) | Path Shape: torch.Size([32, 8, 2])\n"
          ]
        },
        {
          "name": "stderr",
          "output_type": "stream",
          "text": []
        },
        {
          "name": "stdout",
          "output_type": "stream",
          "text": [
            "\n",
            "Batch 520/802 | Loss: 1.390968 | Avg Loss: 1.368929 | Field Shape: torch.Size([32, 96, 96]) | Path Shape: torch.Size([32, 8, 2])\n"
          ]
        },
        {
          "name": "stderr",
          "output_type": "stream",
          "text": []
        },
        {
          "name": "stdout",
          "output_type": "stream",
          "text": [
            "\n",
            "Batch 540/802 | Loss: 1.211915 | Avg Loss: 1.367200 | Field Shape: torch.Size([32, 96, 96]) | Path Shape: torch.Size([32, 8, 2])\n"
          ]
        },
        {
          "name": "stderr",
          "output_type": "stream",
          "text": []
        },
        {
          "name": "stdout",
          "output_type": "stream",
          "text": [
            "\n",
            "Batch 560/802 | Loss: 1.310326 | Avg Loss: 1.366923 | Field Shape: torch.Size([32, 96, 96]) | Path Shape: torch.Size([32, 8, 2])\n"
          ]
        },
        {
          "name": "stderr",
          "output_type": "stream",
          "text": []
        },
        {
          "name": "stdout",
          "output_type": "stream",
          "text": [
            "\n",
            "Batch 580/802 | Loss: 1.356747 | Avg Loss: 1.366832 | Field Shape: torch.Size([32, 96, 96]) | Path Shape: torch.Size([32, 8, 2])\n"
          ]
        },
        {
          "name": "stderr",
          "output_type": "stream",
          "text": []
        },
        {
          "name": "stdout",
          "output_type": "stream",
          "text": [
            "\n",
            "Batch 600/802 | Loss: 1.343652 | Avg Loss: 1.366599 | Field Shape: torch.Size([32, 96, 96]) | Path Shape: torch.Size([32, 8, 2])\n"
          ]
        },
        {
          "name": "stderr",
          "output_type": "stream",
          "text": []
        },
        {
          "name": "stdout",
          "output_type": "stream",
          "text": [
            "\n",
            "Batch 620/802 | Loss: 1.269109 | Avg Loss: 1.366140 | Field Shape: torch.Size([32, 96, 96]) | Path Shape: torch.Size([32, 8, 2])\n"
          ]
        },
        {
          "name": "stderr",
          "output_type": "stream",
          "text": []
        },
        {
          "name": "stdout",
          "output_type": "stream",
          "text": [
            "\n",
            "Batch 640/802 | Loss: 1.294410 | Avg Loss: 1.365436 | Field Shape: torch.Size([32, 96, 96]) | Path Shape: torch.Size([32, 8, 2])\n"
          ]
        },
        {
          "name": "stderr",
          "output_type": "stream",
          "text": []
        },
        {
          "name": "stdout",
          "output_type": "stream",
          "text": [
            "\n",
            "Batch 660/802 | Loss: 1.315322 | Avg Loss: 1.365553 | Field Shape: torch.Size([32, 96, 96]) | Path Shape: torch.Size([32, 8, 2])\n"
          ]
        },
        {
          "name": "stderr",
          "output_type": "stream",
          "text": []
        },
        {
          "name": "stdout",
          "output_type": "stream",
          "text": [
            "\n",
            "Batch 680/802 | Loss: 1.262615 | Avg Loss: 1.366662 | Field Shape: torch.Size([32, 96, 96]) | Path Shape: torch.Size([32, 8, 2])\n"
          ]
        },
        {
          "name": "stderr",
          "output_type": "stream",
          "text": []
        },
        {
          "name": "stdout",
          "output_type": "stream",
          "text": [
            "\n",
            "Batch 700/802 | Loss: 1.345387 | Avg Loss: 1.366120 | Field Shape: torch.Size([32, 96, 96]) | Path Shape: torch.Size([32, 8, 2])\n"
          ]
        },
        {
          "name": "stderr",
          "output_type": "stream",
          "text": []
        },
        {
          "name": "stdout",
          "output_type": "stream",
          "text": [
            "\n",
            "Batch 720/802 | Loss: 1.300455 | Avg Loss: 1.366516 | Field Shape: torch.Size([32, 96, 96]) | Path Shape: torch.Size([32, 8, 2])\n"
          ]
        },
        {
          "name": "stderr",
          "output_type": "stream",
          "text": []
        },
        {
          "name": "stdout",
          "output_type": "stream",
          "text": [
            "\n",
            "Batch 740/802 | Loss: 1.476547 | Avg Loss: 1.366641 | Field Shape: torch.Size([32, 96, 96]) | Path Shape: torch.Size([32, 8, 2])\n"
          ]
        },
        {
          "name": "stderr",
          "output_type": "stream",
          "text": []
        },
        {
          "name": "stdout",
          "output_type": "stream",
          "text": [
            "\n",
            "Batch 760/802 | Loss: 1.299059 | Avg Loss: 1.366218 | Field Shape: torch.Size([32, 96, 96]) | Path Shape: torch.Size([32, 8, 2])\n"
          ]
        },
        {
          "name": "stderr",
          "output_type": "stream",
          "text": []
        },
        {
          "name": "stdout",
          "output_type": "stream",
          "text": [
            "\n",
            "Batch 780/802 | Loss: 1.516197 | Avg Loss: 1.366400 | Field Shape: torch.Size([32, 96, 96]) | Path Shape: torch.Size([32, 8, 2])\n"
          ]
        },
        {
          "name": "stderr",
          "output_type": "stream",
          "text": []
        },
        {
          "name": "stdout",
          "output_type": "stream",
          "text": [
            "\n",
            "Batch 800/802 | Loss: 1.144650 | Avg Loss: 1.365995 | Field Shape: torch.Size([32, 96, 96]) | Path Shape: torch.Size([32, 8, 2])\n"
          ]
        },
        {
          "name": "stderr",
          "output_type": "stream",
          "text": [
            "Epoch:  27%|██▋       | 8/30 [37:50<1:48:57, 297.15s/it, epoch_loss=1.365838, best_loss=0.608634, batches=802]"
          ]
        },
        {
          "name": "stdout",
          "output_type": "stream",
          "text": [
            "\n",
            "Batch 20/802 | Loss: 1.435043 | Avg Loss: 1.419699 | Field Shape: torch.Size([32, 96, 96]) | Path Shape: torch.Size([32, 8, 2])\n"
          ]
        },
        {
          "name": "stderr",
          "output_type": "stream",
          "text": []
        },
        {
          "name": "stdout",
          "output_type": "stream",
          "text": [
            "\n",
            "Batch 40/802 | Loss: 1.448235 | Avg Loss: 1.389818 | Field Shape: torch.Size([32, 96, 96]) | Path Shape: torch.Size([32, 8, 2])\n"
          ]
        },
        {
          "name": "stderr",
          "output_type": "stream",
          "text": []
        },
        {
          "name": "stdout",
          "output_type": "stream",
          "text": [
            "\n",
            "Batch 60/802 | Loss: 1.316180 | Avg Loss: 1.369126 | Field Shape: torch.Size([32, 96, 96]) | Path Shape: torch.Size([32, 8, 2])\n"
          ]
        },
        {
          "name": "stderr",
          "output_type": "stream",
          "text": []
        },
        {
          "name": "stdout",
          "output_type": "stream",
          "text": [
            "\n",
            "Batch 80/802 | Loss: 1.240264 | Avg Loss: 1.369407 | Field Shape: torch.Size([32, 96, 96]) | Path Shape: torch.Size([32, 8, 2])\n"
          ]
        },
        {
          "name": "stderr",
          "output_type": "stream",
          "text": []
        },
        {
          "name": "stdout",
          "output_type": "stream",
          "text": [
            "\n",
            "Batch 100/802 | Loss: 1.307702 | Avg Loss: 1.372993 | Field Shape: torch.Size([32, 96, 96]) | Path Shape: torch.Size([32, 8, 2])\n"
          ]
        },
        {
          "name": "stderr",
          "output_type": "stream",
          "text": []
        },
        {
          "name": "stdout",
          "output_type": "stream",
          "text": [
            "\n",
            "Batch 120/802 | Loss: 1.304625 | Avg Loss: 1.363374 | Field Shape: torch.Size([32, 96, 96]) | Path Shape: torch.Size([32, 8, 2])\n"
          ]
        },
        {
          "name": "stderr",
          "output_type": "stream",
          "text": []
        },
        {
          "name": "stdout",
          "output_type": "stream",
          "text": [
            "\n",
            "Batch 140/802 | Loss: 1.153451 | Avg Loss: 1.360258 | Field Shape: torch.Size([32, 96, 96]) | Path Shape: torch.Size([32, 8, 2])\n"
          ]
        },
        {
          "name": "stderr",
          "output_type": "stream",
          "text": []
        },
        {
          "name": "stdout",
          "output_type": "stream",
          "text": [
            "\n",
            "Batch 160/802 | Loss: 1.492824 | Avg Loss: 1.360207 | Field Shape: torch.Size([32, 96, 96]) | Path Shape: torch.Size([32, 8, 2])\n"
          ]
        },
        {
          "name": "stderr",
          "output_type": "stream",
          "text": []
        },
        {
          "name": "stdout",
          "output_type": "stream",
          "text": [
            "\n",
            "Batch 180/802 | Loss: 1.288094 | Avg Loss: 1.359599 | Field Shape: torch.Size([32, 96, 96]) | Path Shape: torch.Size([32, 8, 2])\n"
          ]
        },
        {
          "name": "stderr",
          "output_type": "stream",
          "text": []
        },
        {
          "name": "stdout",
          "output_type": "stream",
          "text": [
            "\n",
            "Batch 200/802 | Loss: 1.600796 | Avg Loss: 1.361831 | Field Shape: torch.Size([32, 96, 96]) | Path Shape: torch.Size([32, 8, 2])\n"
          ]
        },
        {
          "name": "stderr",
          "output_type": "stream",
          "text": []
        },
        {
          "name": "stdout",
          "output_type": "stream",
          "text": [
            "\n",
            "Batch 220/802 | Loss: 1.306265 | Avg Loss: 1.364566 | Field Shape: torch.Size([32, 96, 96]) | Path Shape: torch.Size([32, 8, 2])\n"
          ]
        },
        {
          "name": "stderr",
          "output_type": "stream",
          "text": []
        },
        {
          "name": "stdout",
          "output_type": "stream",
          "text": [
            "\n",
            "Batch 240/802 | Loss: 1.518619 | Avg Loss: 1.365183 | Field Shape: torch.Size([32, 96, 96]) | Path Shape: torch.Size([32, 8, 2])\n"
          ]
        },
        {
          "name": "stderr",
          "output_type": "stream",
          "text": []
        },
        {
          "name": "stdout",
          "output_type": "stream",
          "text": [
            "\n",
            "Batch 260/802 | Loss: 1.398551 | Avg Loss: 1.363756 | Field Shape: torch.Size([32, 96, 96]) | Path Shape: torch.Size([32, 8, 2])\n"
          ]
        },
        {
          "name": "stderr",
          "output_type": "stream",
          "text": []
        },
        {
          "name": "stdout",
          "output_type": "stream",
          "text": [
            "\n",
            "Batch 280/802 | Loss: 1.180806 | Avg Loss: 1.363949 | Field Shape: torch.Size([32, 96, 96]) | Path Shape: torch.Size([32, 8, 2])\n"
          ]
        },
        {
          "name": "stderr",
          "output_type": "stream",
          "text": []
        },
        {
          "name": "stdout",
          "output_type": "stream",
          "text": [
            "\n",
            "Batch 300/802 | Loss: 1.228848 | Avg Loss: 1.360933 | Field Shape: torch.Size([32, 96, 96]) | Path Shape: torch.Size([32, 8, 2])\n"
          ]
        },
        {
          "name": "stderr",
          "output_type": "stream",
          "text": []
        },
        {
          "name": "stdout",
          "output_type": "stream",
          "text": [
            "\n",
            "Batch 320/802 | Loss: 1.248221 | Avg Loss: 1.361942 | Field Shape: torch.Size([32, 96, 96]) | Path Shape: torch.Size([32, 8, 2])\n"
          ]
        },
        {
          "name": "stderr",
          "output_type": "stream",
          "text": []
        },
        {
          "name": "stdout",
          "output_type": "stream",
          "text": [
            "\n",
            "Batch 340/802 | Loss: 1.264889 | Avg Loss: 1.360398 | Field Shape: torch.Size([32, 96, 96]) | Path Shape: torch.Size([32, 8, 2])\n"
          ]
        },
        {
          "name": "stderr",
          "output_type": "stream",
          "text": []
        },
        {
          "name": "stdout",
          "output_type": "stream",
          "text": [
            "\n",
            "Batch 360/802 | Loss: 1.257039 | Avg Loss: 1.361175 | Field Shape: torch.Size([32, 96, 96]) | Path Shape: torch.Size([32, 8, 2])\n"
          ]
        },
        {
          "name": "stderr",
          "output_type": "stream",
          "text": []
        },
        {
          "name": "stdout",
          "output_type": "stream",
          "text": [
            "\n",
            "Batch 380/802 | Loss: 1.333596 | Avg Loss: 1.361618 | Field Shape: torch.Size([32, 96, 96]) | Path Shape: torch.Size([32, 8, 2])\n"
          ]
        },
        {
          "name": "stderr",
          "output_type": "stream",
          "text": []
        },
        {
          "name": "stdout",
          "output_type": "stream",
          "text": [
            "\n",
            "Batch 400/802 | Loss: 1.339541 | Avg Loss: 1.362532 | Field Shape: torch.Size([32, 96, 96]) | Path Shape: torch.Size([32, 8, 2])\n"
          ]
        },
        {
          "name": "stderr",
          "output_type": "stream",
          "text": []
        },
        {
          "name": "stdout",
          "output_type": "stream",
          "text": [
            "\n",
            "Batch 420/802 | Loss: 1.244629 | Avg Loss: 1.363016 | Field Shape: torch.Size([32, 96, 96]) | Path Shape: torch.Size([32, 8, 2])\n"
          ]
        },
        {
          "name": "stderr",
          "output_type": "stream",
          "text": []
        },
        {
          "name": "stdout",
          "output_type": "stream",
          "text": [
            "\n",
            "Batch 440/802 | Loss: 1.459195 | Avg Loss: 1.362843 | Field Shape: torch.Size([32, 96, 96]) | Path Shape: torch.Size([32, 8, 2])\n"
          ]
        },
        {
          "name": "stderr",
          "output_type": "stream",
          "text": []
        },
        {
          "name": "stdout",
          "output_type": "stream",
          "text": [
            "\n",
            "Batch 460/802 | Loss: 1.404738 | Avg Loss: 1.363533 | Field Shape: torch.Size([32, 96, 96]) | Path Shape: torch.Size([32, 8, 2])\n"
          ]
        },
        {
          "name": "stderr",
          "output_type": "stream",
          "text": []
        },
        {
          "name": "stdout",
          "output_type": "stream",
          "text": [
            "\n",
            "Batch 480/802 | Loss: 1.296839 | Avg Loss: 1.363221 | Field Shape: torch.Size([32, 96, 96]) | Path Shape: torch.Size([32, 8, 2])\n"
          ]
        },
        {
          "name": "stderr",
          "output_type": "stream",
          "text": []
        },
        {
          "name": "stdout",
          "output_type": "stream",
          "text": [
            "\n",
            "Batch 500/802 | Loss: 1.318635 | Avg Loss: 1.361971 | Field Shape: torch.Size([32, 96, 96]) | Path Shape: torch.Size([32, 8, 2])\n"
          ]
        },
        {
          "name": "stderr",
          "output_type": "stream",
          "text": []
        },
        {
          "name": "stdout",
          "output_type": "stream",
          "text": [
            "\n",
            "Batch 520/802 | Loss: 1.495289 | Avg Loss: 1.363083 | Field Shape: torch.Size([32, 96, 96]) | Path Shape: torch.Size([32, 8, 2])\n"
          ]
        },
        {
          "name": "stderr",
          "output_type": "stream",
          "text": []
        },
        {
          "name": "stdout",
          "output_type": "stream",
          "text": [
            "\n",
            "Batch 540/802 | Loss: 1.350607 | Avg Loss: 1.362833 | Field Shape: torch.Size([32, 96, 96]) | Path Shape: torch.Size([32, 8, 2])\n"
          ]
        },
        {
          "name": "stderr",
          "output_type": "stream",
          "text": []
        },
        {
          "name": "stdout",
          "output_type": "stream",
          "text": [
            "\n",
            "Batch 560/802 | Loss: 1.232352 | Avg Loss: 1.363057 | Field Shape: torch.Size([32, 96, 96]) | Path Shape: torch.Size([32, 8, 2])\n"
          ]
        },
        {
          "name": "stderr",
          "output_type": "stream",
          "text": []
        },
        {
          "name": "stdout",
          "output_type": "stream",
          "text": [
            "\n",
            "Batch 580/802 | Loss: 1.367901 | Avg Loss: 1.363202 | Field Shape: torch.Size([32, 96, 96]) | Path Shape: torch.Size([32, 8, 2])\n"
          ]
        },
        {
          "name": "stderr",
          "output_type": "stream",
          "text": []
        },
        {
          "name": "stdout",
          "output_type": "stream",
          "text": [
            "\n",
            "Batch 600/802 | Loss: 1.348752 | Avg Loss: 1.363262 | Field Shape: torch.Size([32, 96, 96]) | Path Shape: torch.Size([32, 8, 2])\n"
          ]
        },
        {
          "name": "stderr",
          "output_type": "stream",
          "text": []
        },
        {
          "name": "stdout",
          "output_type": "stream",
          "text": [
            "\n",
            "Batch 620/802 | Loss: 1.366966 | Avg Loss: 1.363296 | Field Shape: torch.Size([32, 96, 96]) | Path Shape: torch.Size([32, 8, 2])\n"
          ]
        },
        {
          "name": "stderr",
          "output_type": "stream",
          "text": []
        },
        {
          "name": "stdout",
          "output_type": "stream",
          "text": [
            "\n",
            "Batch 640/802 | Loss: 1.239318 | Avg Loss: 1.363327 | Field Shape: torch.Size([32, 96, 96]) | Path Shape: torch.Size([32, 8, 2])\n"
          ]
        },
        {
          "name": "stderr",
          "output_type": "stream",
          "text": []
        },
        {
          "name": "stdout",
          "output_type": "stream",
          "text": [
            "\n",
            "Batch 660/802 | Loss: 1.357534 | Avg Loss: 1.363644 | Field Shape: torch.Size([32, 96, 96]) | Path Shape: torch.Size([32, 8, 2])\n"
          ]
        },
        {
          "name": "stderr",
          "output_type": "stream",
          "text": []
        },
        {
          "name": "stdout",
          "output_type": "stream",
          "text": [
            "\n",
            "Batch 680/802 | Loss: 1.484482 | Avg Loss: 1.364064 | Field Shape: torch.Size([32, 96, 96]) | Path Shape: torch.Size([32, 8, 2])\n"
          ]
        },
        {
          "name": "stderr",
          "output_type": "stream",
          "text": []
        },
        {
          "name": "stdout",
          "output_type": "stream",
          "text": [
            "\n",
            "Batch 700/802 | Loss: 1.331629 | Avg Loss: 1.364113 | Field Shape: torch.Size([32, 96, 96]) | Path Shape: torch.Size([32, 8, 2])\n"
          ]
        },
        {
          "name": "stderr",
          "output_type": "stream",
          "text": []
        },
        {
          "name": "stdout",
          "output_type": "stream",
          "text": [
            "\n",
            "Batch 720/802 | Loss: 1.446372 | Avg Loss: 1.364846 | Field Shape: torch.Size([32, 96, 96]) | Path Shape: torch.Size([32, 8, 2])\n"
          ]
        },
        {
          "name": "stderr",
          "output_type": "stream",
          "text": []
        },
        {
          "name": "stdout",
          "output_type": "stream",
          "text": [
            "\n",
            "Batch 740/802 | Loss: 1.330610 | Avg Loss: 1.365186 | Field Shape: torch.Size([32, 96, 96]) | Path Shape: torch.Size([32, 8, 2])\n"
          ]
        },
        {
          "name": "stderr",
          "output_type": "stream",
          "text": []
        },
        {
          "name": "stdout",
          "output_type": "stream",
          "text": [
            "\n",
            "Batch 760/802 | Loss: 1.352648 | Avg Loss: 1.365566 | Field Shape: torch.Size([32, 96, 96]) | Path Shape: torch.Size([32, 8, 2])\n"
          ]
        },
        {
          "name": "stderr",
          "output_type": "stream",
          "text": []
        },
        {
          "name": "stdout",
          "output_type": "stream",
          "text": [
            "\n",
            "Batch 780/802 | Loss: 1.337925 | Avg Loss: 1.365702 | Field Shape: torch.Size([32, 96, 96]) | Path Shape: torch.Size([32, 8, 2])\n"
          ]
        },
        {
          "name": "stderr",
          "output_type": "stream",
          "text": []
        },
        {
          "name": "stdout",
          "output_type": "stream",
          "text": [
            "\n",
            "Batch 800/802 | Loss: 1.161305 | Avg Loss: 1.365680 | Field Shape: torch.Size([32, 96, 96]) | Path Shape: torch.Size([32, 8, 2])\n"
          ]
        },
        {
          "name": "stderr",
          "output_type": "stream",
          "text": [
            "Epoch:  30%|███       | 9/30 [42:52<1:44:32, 298.69s/it, epoch_loss=1.366057, best_loss=0.608634, batches=802]"
          ]
        },
        {
          "name": "stdout",
          "output_type": "stream",
          "text": [
            "\n",
            "Batch 20/802 | Loss: 1.316678 | Avg Loss: 1.352308 | Field Shape: torch.Size([32, 96, 96]) | Path Shape: torch.Size([32, 8, 2])\n"
          ]
        },
        {
          "name": "stderr",
          "output_type": "stream",
          "text": []
        },
        {
          "name": "stdout",
          "output_type": "stream",
          "text": [
            "\n",
            "Batch 40/802 | Loss: 1.309725 | Avg Loss: 1.344780 | Field Shape: torch.Size([32, 96, 96]) | Path Shape: torch.Size([32, 8, 2])\n"
          ]
        },
        {
          "name": "stderr",
          "output_type": "stream",
          "text": []
        },
        {
          "name": "stdout",
          "output_type": "stream",
          "text": [
            "\n",
            "Batch 60/802 | Loss: 1.338534 | Avg Loss: 1.352589 | Field Shape: torch.Size([32, 96, 96]) | Path Shape: torch.Size([32, 8, 2])\n"
          ]
        },
        {
          "name": "stderr",
          "output_type": "stream",
          "text": []
        },
        {
          "name": "stdout",
          "output_type": "stream",
          "text": [
            "\n",
            "Batch 80/802 | Loss: 1.314954 | Avg Loss: 1.362756 | Field Shape: torch.Size([32, 96, 96]) | Path Shape: torch.Size([32, 8, 2])\n"
          ]
        },
        {
          "name": "stderr",
          "output_type": "stream",
          "text": []
        },
        {
          "name": "stdout",
          "output_type": "stream",
          "text": [
            "\n",
            "Batch 100/802 | Loss: 1.537582 | Avg Loss: 1.375960 | Field Shape: torch.Size([32, 96, 96]) | Path Shape: torch.Size([32, 8, 2])\n"
          ]
        },
        {
          "name": "stderr",
          "output_type": "stream",
          "text": []
        },
        {
          "name": "stdout",
          "output_type": "stream",
          "text": [
            "\n",
            "Batch 120/802 | Loss: 1.226813 | Avg Loss: 1.379160 | Field Shape: torch.Size([32, 96, 96]) | Path Shape: torch.Size([32, 8, 2])\n"
          ]
        },
        {
          "name": "stderr",
          "output_type": "stream",
          "text": []
        },
        {
          "name": "stdout",
          "output_type": "stream",
          "text": [
            "\n",
            "Batch 140/802 | Loss: 1.451720 | Avg Loss: 1.383156 | Field Shape: torch.Size([32, 96, 96]) | Path Shape: torch.Size([32, 8, 2])\n"
          ]
        },
        {
          "name": "stderr",
          "output_type": "stream",
          "text": []
        },
        {
          "name": "stdout",
          "output_type": "stream",
          "text": [
            "\n",
            "Batch 160/802 | Loss: 1.426197 | Avg Loss: 1.380827 | Field Shape: torch.Size([32, 96, 96]) | Path Shape: torch.Size([32, 8, 2])\n"
          ]
        },
        {
          "name": "stderr",
          "output_type": "stream",
          "text": []
        },
        {
          "name": "stdout",
          "output_type": "stream",
          "text": [
            "\n",
            "Batch 180/802 | Loss: 1.293812 | Avg Loss: 1.380209 | Field Shape: torch.Size([32, 96, 96]) | Path Shape: torch.Size([32, 8, 2])\n"
          ]
        },
        {
          "name": "stderr",
          "output_type": "stream",
          "text": []
        },
        {
          "name": "stdout",
          "output_type": "stream",
          "text": [
            "\n",
            "Batch 200/802 | Loss: 1.252684 | Avg Loss: 1.378074 | Field Shape: torch.Size([32, 96, 96]) | Path Shape: torch.Size([32, 8, 2])\n"
          ]
        },
        {
          "name": "stderr",
          "output_type": "stream",
          "text": []
        },
        {
          "name": "stdout",
          "output_type": "stream",
          "text": [
            "\n",
            "Batch 220/802 | Loss: 1.489627 | Avg Loss: 1.378803 | Field Shape: torch.Size([32, 96, 96]) | Path Shape: torch.Size([32, 8, 2])\n"
          ]
        },
        {
          "name": "stderr",
          "output_type": "stream",
          "text": []
        },
        {
          "name": "stdout",
          "output_type": "stream",
          "text": [
            "\n",
            "Batch 240/802 | Loss: 1.163507 | Avg Loss: 1.376292 | Field Shape: torch.Size([32, 96, 96]) | Path Shape: torch.Size([32, 8, 2])\n"
          ]
        },
        {
          "name": "stderr",
          "output_type": "stream",
          "text": []
        },
        {
          "name": "stdout",
          "output_type": "stream",
          "text": [
            "\n",
            "Batch 260/802 | Loss: 1.363022 | Avg Loss: 1.374435 | Field Shape: torch.Size([32, 96, 96]) | Path Shape: torch.Size([32, 8, 2])\n"
          ]
        },
        {
          "name": "stderr",
          "output_type": "stream",
          "text": []
        },
        {
          "name": "stdout",
          "output_type": "stream",
          "text": [
            "\n",
            "Batch 280/802 | Loss: 1.256696 | Avg Loss: 1.374287 | Field Shape: torch.Size([32, 96, 96]) | Path Shape: torch.Size([32, 8, 2])\n"
          ]
        },
        {
          "name": "stderr",
          "output_type": "stream",
          "text": []
        },
        {
          "name": "stdout",
          "output_type": "stream",
          "text": [
            "\n",
            "Batch 300/802 | Loss: 1.340786 | Avg Loss: 1.375079 | Field Shape: torch.Size([32, 96, 96]) | Path Shape: torch.Size([32, 8, 2])\n"
          ]
        },
        {
          "name": "stderr",
          "output_type": "stream",
          "text": []
        },
        {
          "name": "stdout",
          "output_type": "stream",
          "text": [
            "\n",
            "Batch 320/802 | Loss: 1.369541 | Avg Loss: 1.375085 | Field Shape: torch.Size([32, 96, 96]) | Path Shape: torch.Size([32, 8, 2])\n"
          ]
        },
        {
          "name": "stderr",
          "output_type": "stream",
          "text": []
        },
        {
          "name": "stdout",
          "output_type": "stream",
          "text": [
            "\n",
            "Batch 340/802 | Loss: 1.591034 | Avg Loss: 1.374270 | Field Shape: torch.Size([32, 96, 96]) | Path Shape: torch.Size([32, 8, 2])\n"
          ]
        },
        {
          "name": "stderr",
          "output_type": "stream",
          "text": []
        },
        {
          "name": "stdout",
          "output_type": "stream",
          "text": [
            "\n",
            "Batch 360/802 | Loss: 1.337727 | Avg Loss: 1.372244 | Field Shape: torch.Size([32, 96, 96]) | Path Shape: torch.Size([32, 8, 2])\n"
          ]
        },
        {
          "name": "stderr",
          "output_type": "stream",
          "text": []
        },
        {
          "name": "stdout",
          "output_type": "stream",
          "text": [
            "\n",
            "Batch 380/802 | Loss: 1.453859 | Avg Loss: 1.372322 | Field Shape: torch.Size([32, 96, 96]) | Path Shape: torch.Size([32, 8, 2])\n"
          ]
        },
        {
          "name": "stderr",
          "output_type": "stream",
          "text": []
        },
        {
          "name": "stdout",
          "output_type": "stream",
          "text": [
            "\n",
            "Batch 400/802 | Loss: 1.378533 | Avg Loss: 1.371146 | Field Shape: torch.Size([32, 96, 96]) | Path Shape: torch.Size([32, 8, 2])\n"
          ]
        },
        {
          "name": "stderr",
          "output_type": "stream",
          "text": []
        },
        {
          "name": "stdout",
          "output_type": "stream",
          "text": [
            "\n",
            "Batch 420/802 | Loss: 1.225804 | Avg Loss: 1.370100 | Field Shape: torch.Size([32, 96, 96]) | Path Shape: torch.Size([32, 8, 2])\n"
          ]
        },
        {
          "name": "stderr",
          "output_type": "stream",
          "text": []
        },
        {
          "name": "stdout",
          "output_type": "stream",
          "text": [
            "\n",
            "Batch 440/802 | Loss: 1.385014 | Avg Loss: 1.370997 | Field Shape: torch.Size([32, 96, 96]) | Path Shape: torch.Size([32, 8, 2])\n"
          ]
        },
        {
          "name": "stderr",
          "output_type": "stream",
          "text": []
        },
        {
          "name": "stdout",
          "output_type": "stream",
          "text": [
            "\n",
            "Batch 460/802 | Loss: 1.537313 | Avg Loss: 1.371484 | Field Shape: torch.Size([32, 96, 96]) | Path Shape: torch.Size([32, 8, 2])\n"
          ]
        },
        {
          "name": "stderr",
          "output_type": "stream",
          "text": []
        },
        {
          "name": "stdout",
          "output_type": "stream",
          "text": [
            "\n",
            "Batch 480/802 | Loss: 1.283535 | Avg Loss: 1.369442 | Field Shape: torch.Size([32, 96, 96]) | Path Shape: torch.Size([32, 8, 2])\n"
          ]
        },
        {
          "name": "stderr",
          "output_type": "stream",
          "text": []
        },
        {
          "name": "stdout",
          "output_type": "stream",
          "text": [
            "\n",
            "Batch 500/802 | Loss: 1.517047 | Avg Loss: 1.370093 | Field Shape: torch.Size([32, 96, 96]) | Path Shape: torch.Size([32, 8, 2])\n"
          ]
        },
        {
          "name": "stderr",
          "output_type": "stream",
          "text": []
        },
        {
          "name": "stdout",
          "output_type": "stream",
          "text": [
            "\n",
            "Batch 520/802 | Loss: 1.278048 | Avg Loss: 1.369166 | Field Shape: torch.Size([32, 96, 96]) | Path Shape: torch.Size([32, 8, 2])\n"
          ]
        },
        {
          "name": "stderr",
          "output_type": "stream",
          "text": []
        },
        {
          "name": "stdout",
          "output_type": "stream",
          "text": [
            "\n",
            "Batch 540/802 | Loss: 1.477786 | Avg Loss: 1.367976 | Field Shape: torch.Size([32, 96, 96]) | Path Shape: torch.Size([32, 8, 2])\n"
          ]
        },
        {
          "name": "stderr",
          "output_type": "stream",
          "text": []
        },
        {
          "name": "stdout",
          "output_type": "stream",
          "text": [
            "\n",
            "Batch 560/802 | Loss: 1.447562 | Avg Loss: 1.368004 | Field Shape: torch.Size([32, 96, 96]) | Path Shape: torch.Size([32, 8, 2])\n"
          ]
        },
        {
          "name": "stderr",
          "output_type": "stream",
          "text": []
        },
        {
          "name": "stdout",
          "output_type": "stream",
          "text": [
            "\n",
            "Batch 580/802 | Loss: 1.656132 | Avg Loss: 1.366709 | Field Shape: torch.Size([32, 96, 96]) | Path Shape: torch.Size([32, 8, 2])\n"
          ]
        },
        {
          "name": "stderr",
          "output_type": "stream",
          "text": []
        },
        {
          "name": "stdout",
          "output_type": "stream",
          "text": [
            "\n",
            "Batch 600/802 | Loss: 1.088738 | Avg Loss: 1.366998 | Field Shape: torch.Size([32, 96, 96]) | Path Shape: torch.Size([32, 8, 2])\n"
          ]
        },
        {
          "name": "stderr",
          "output_type": "stream",
          "text": []
        },
        {
          "name": "stdout",
          "output_type": "stream",
          "text": [
            "\n",
            "Batch 620/802 | Loss: 1.288676 | Avg Loss: 1.366548 | Field Shape: torch.Size([32, 96, 96]) | Path Shape: torch.Size([32, 8, 2])\n"
          ]
        },
        {
          "name": "stderr",
          "output_type": "stream",
          "text": []
        },
        {
          "name": "stdout",
          "output_type": "stream",
          "text": [
            "\n",
            "Batch 640/802 | Loss: 1.175946 | Avg Loss: 1.365641 | Field Shape: torch.Size([32, 96, 96]) | Path Shape: torch.Size([32, 8, 2])\n"
          ]
        },
        {
          "name": "stderr",
          "output_type": "stream",
          "text": []
        },
        {
          "name": "stdout",
          "output_type": "stream",
          "text": [
            "\n",
            "Batch 660/802 | Loss: 1.163179 | Avg Loss: 1.365096 | Field Shape: torch.Size([32, 96, 96]) | Path Shape: torch.Size([32, 8, 2])\n"
          ]
        },
        {
          "name": "stderr",
          "output_type": "stream",
          "text": []
        },
        {
          "name": "stdout",
          "output_type": "stream",
          "text": [
            "\n",
            "Batch 680/802 | Loss: 1.351546 | Avg Loss: 1.365582 | Field Shape: torch.Size([32, 96, 96]) | Path Shape: torch.Size([32, 8, 2])\n"
          ]
        },
        {
          "name": "stderr",
          "output_type": "stream",
          "text": []
        },
        {
          "name": "stdout",
          "output_type": "stream",
          "text": [
            "\n",
            "Batch 700/802 | Loss: 1.494431 | Avg Loss: 1.365687 | Field Shape: torch.Size([32, 96, 96]) | Path Shape: torch.Size([32, 8, 2])\n"
          ]
        },
        {
          "name": "stderr",
          "output_type": "stream",
          "text": []
        },
        {
          "name": "stdout",
          "output_type": "stream",
          "text": [
            "\n",
            "Batch 720/802 | Loss: 1.387066 | Avg Loss: 1.365475 | Field Shape: torch.Size([32, 96, 96]) | Path Shape: torch.Size([32, 8, 2])\n"
          ]
        },
        {
          "name": "stderr",
          "output_type": "stream",
          "text": []
        },
        {
          "name": "stdout",
          "output_type": "stream",
          "text": [
            "\n",
            "Batch 740/802 | Loss: 1.459120 | Avg Loss: 1.365354 | Field Shape: torch.Size([32, 96, 96]) | Path Shape: torch.Size([32, 8, 2])\n"
          ]
        },
        {
          "name": "stderr",
          "output_type": "stream",
          "text": []
        },
        {
          "name": "stdout",
          "output_type": "stream",
          "text": [
            "\n",
            "Batch 760/802 | Loss: 1.218796 | Avg Loss: 1.365848 | Field Shape: torch.Size([32, 96, 96]) | Path Shape: torch.Size([32, 8, 2])\n"
          ]
        },
        {
          "name": "stderr",
          "output_type": "stream",
          "text": []
        },
        {
          "name": "stdout",
          "output_type": "stream",
          "text": [
            "\n",
            "Batch 780/802 | Loss: 1.229078 | Avg Loss: 1.365801 | Field Shape: torch.Size([32, 96, 96]) | Path Shape: torch.Size([32, 8, 2])\n"
          ]
        },
        {
          "name": "stderr",
          "output_type": "stream",
          "text": []
        },
        {
          "name": "stdout",
          "output_type": "stream",
          "text": [
            "\n",
            "Batch 800/802 | Loss: 1.527328 | Avg Loss: 1.365822 | Field Shape: torch.Size([32, 96, 96]) | Path Shape: torch.Size([32, 8, 2])\n"
          ]
        },
        {
          "name": "stderr",
          "output_type": "stream",
          "text": [
            "Epoch:  33%|███▎      | 10/30 [47:55<1:39:56, 299.82s/it, epoch_loss=1.365881, best_loss=0.608634, batches=802]"
          ]
        },
        {
          "name": "stdout",
          "output_type": "stream",
          "text": [
            "\n",
            "Batch 20/802 | Loss: 1.236020 | Avg Loss: 1.345294 | Field Shape: torch.Size([32, 96, 96]) | Path Shape: torch.Size([32, 8, 2])\n"
          ]
        },
        {
          "name": "stderr",
          "output_type": "stream",
          "text": []
        },
        {
          "name": "stdout",
          "output_type": "stream",
          "text": [
            "\n",
            "Batch 40/802 | Loss: 1.311183 | Avg Loss: 1.339927 | Field Shape: torch.Size([32, 96, 96]) | Path Shape: torch.Size([32, 8, 2])\n"
          ]
        },
        {
          "name": "stderr",
          "output_type": "stream",
          "text": []
        },
        {
          "name": "stdout",
          "output_type": "stream",
          "text": [
            "\n",
            "Batch 60/802 | Loss: 1.305727 | Avg Loss: 1.372951 | Field Shape: torch.Size([32, 96, 96]) | Path Shape: torch.Size([32, 8, 2])\n"
          ]
        },
        {
          "name": "stderr",
          "output_type": "stream",
          "text": []
        },
        {
          "name": "stdout",
          "output_type": "stream",
          "text": [
            "\n",
            "Batch 80/802 | Loss: 1.485468 | Avg Loss: 1.372429 | Field Shape: torch.Size([32, 96, 96]) | Path Shape: torch.Size([32, 8, 2])\n"
          ]
        },
        {
          "name": "stderr",
          "output_type": "stream",
          "text": []
        },
        {
          "name": "stdout",
          "output_type": "stream",
          "text": [
            "\n",
            "Batch 100/802 | Loss: 1.431764 | Avg Loss: 1.373048 | Field Shape: torch.Size([32, 96, 96]) | Path Shape: torch.Size([32, 8, 2])\n"
          ]
        },
        {
          "name": "stderr",
          "output_type": "stream",
          "text": []
        },
        {
          "name": "stdout",
          "output_type": "stream",
          "text": [
            "\n",
            "Batch 120/802 | Loss: 1.301341 | Avg Loss: 1.373225 | Field Shape: torch.Size([32, 96, 96]) | Path Shape: torch.Size([32, 8, 2])\n"
          ]
        },
        {
          "name": "stderr",
          "output_type": "stream",
          "text": []
        },
        {
          "name": "stdout",
          "output_type": "stream",
          "text": [
            "\n",
            "Batch 140/802 | Loss: 1.287422 | Avg Loss: 1.371505 | Field Shape: torch.Size([32, 96, 96]) | Path Shape: torch.Size([32, 8, 2])\n"
          ]
        },
        {
          "name": "stderr",
          "output_type": "stream",
          "text": []
        },
        {
          "name": "stdout",
          "output_type": "stream",
          "text": [
            "\n",
            "Batch 160/802 | Loss: 1.274733 | Avg Loss: 1.366694 | Field Shape: torch.Size([32, 96, 96]) | Path Shape: torch.Size([32, 8, 2])\n"
          ]
        },
        {
          "name": "stderr",
          "output_type": "stream",
          "text": []
        },
        {
          "name": "stdout",
          "output_type": "stream",
          "text": [
            "\n",
            "Batch 180/802 | Loss: 1.239717 | Avg Loss: 1.361522 | Field Shape: torch.Size([32, 96, 96]) | Path Shape: torch.Size([32, 8, 2])\n"
          ]
        },
        {
          "name": "stderr",
          "output_type": "stream",
          "text": []
        },
        {
          "name": "stdout",
          "output_type": "stream",
          "text": [
            "\n",
            "Batch 200/802 | Loss: 1.314736 | Avg Loss: 1.365376 | Field Shape: torch.Size([32, 96, 96]) | Path Shape: torch.Size([32, 8, 2])\n"
          ]
        },
        {
          "name": "stderr",
          "output_type": "stream",
          "text": []
        },
        {
          "name": "stdout",
          "output_type": "stream",
          "text": [
            "\n",
            "Batch 220/802 | Loss: 1.413767 | Avg Loss: 1.368499 | Field Shape: torch.Size([32, 96, 96]) | Path Shape: torch.Size([32, 8, 2])\n"
          ]
        },
        {
          "name": "stderr",
          "output_type": "stream",
          "text": []
        },
        {
          "name": "stdout",
          "output_type": "stream",
          "text": [
            "\n",
            "Batch 240/802 | Loss: 1.269496 | Avg Loss: 1.366568 | Field Shape: torch.Size([32, 96, 96]) | Path Shape: torch.Size([32, 8, 2])\n"
          ]
        },
        {
          "name": "stderr",
          "output_type": "stream",
          "text": []
        },
        {
          "name": "stdout",
          "output_type": "stream",
          "text": [
            "\n",
            "Batch 260/802 | Loss: 1.334257 | Avg Loss: 1.367650 | Field Shape: torch.Size([32, 96, 96]) | Path Shape: torch.Size([32, 8, 2])\n"
          ]
        },
        {
          "name": "stderr",
          "output_type": "stream",
          "text": []
        },
        {
          "name": "stdout",
          "output_type": "stream",
          "text": [
            "\n",
            "Batch 280/802 | Loss: 1.282381 | Avg Loss: 1.368566 | Field Shape: torch.Size([32, 96, 96]) | Path Shape: torch.Size([32, 8, 2])\n"
          ]
        },
        {
          "name": "stderr",
          "output_type": "stream",
          "text": []
        },
        {
          "name": "stdout",
          "output_type": "stream",
          "text": [
            "\n",
            "Batch 300/802 | Loss: 1.449608 | Avg Loss: 1.371028 | Field Shape: torch.Size([32, 96, 96]) | Path Shape: torch.Size([32, 8, 2])\n"
          ]
        },
        {
          "name": "stderr",
          "output_type": "stream",
          "text": []
        },
        {
          "name": "stdout",
          "output_type": "stream",
          "text": [
            "\n",
            "Batch 320/802 | Loss: 1.291061 | Avg Loss: 1.370536 | Field Shape: torch.Size([32, 96, 96]) | Path Shape: torch.Size([32, 8, 2])\n"
          ]
        },
        {
          "name": "stderr",
          "output_type": "stream",
          "text": []
        },
        {
          "name": "stdout",
          "output_type": "stream",
          "text": [
            "\n",
            "Batch 340/802 | Loss: 1.362169 | Avg Loss: 1.371098 | Field Shape: torch.Size([32, 96, 96]) | Path Shape: torch.Size([32, 8, 2])\n"
          ]
        },
        {
          "name": "stderr",
          "output_type": "stream",
          "text": []
        },
        {
          "name": "stdout",
          "output_type": "stream",
          "text": [
            "\n",
            "Batch 360/802 | Loss: 1.356918 | Avg Loss: 1.372522 | Field Shape: torch.Size([32, 96, 96]) | Path Shape: torch.Size([32, 8, 2])\n"
          ]
        },
        {
          "name": "stderr",
          "output_type": "stream",
          "text": []
        },
        {
          "name": "stdout",
          "output_type": "stream",
          "text": [
            "\n",
            "Batch 380/802 | Loss: 1.395250 | Avg Loss: 1.371995 | Field Shape: torch.Size([32, 96, 96]) | Path Shape: torch.Size([32, 8, 2])\n"
          ]
        },
        {
          "name": "stderr",
          "output_type": "stream",
          "text": []
        },
        {
          "name": "stdout",
          "output_type": "stream",
          "text": [
            "\n",
            "Batch 400/802 | Loss: 1.301446 | Avg Loss: 1.370527 | Field Shape: torch.Size([32, 96, 96]) | Path Shape: torch.Size([32, 8, 2])\n"
          ]
        },
        {
          "name": "stderr",
          "output_type": "stream",
          "text": []
        },
        {
          "name": "stdout",
          "output_type": "stream",
          "text": [
            "\n",
            "Batch 420/802 | Loss: 1.462229 | Avg Loss: 1.370032 | Field Shape: torch.Size([32, 96, 96]) | Path Shape: torch.Size([32, 8, 2])\n"
          ]
        },
        {
          "name": "stderr",
          "output_type": "stream",
          "text": []
        },
        {
          "name": "stdout",
          "output_type": "stream",
          "text": [
            "\n",
            "Batch 440/802 | Loss: 1.422024 | Avg Loss: 1.370473 | Field Shape: torch.Size([32, 96, 96]) | Path Shape: torch.Size([32, 8, 2])\n"
          ]
        },
        {
          "name": "stderr",
          "output_type": "stream",
          "text": []
        },
        {
          "name": "stdout",
          "output_type": "stream",
          "text": [
            "\n",
            "Batch 460/802 | Loss: 1.370413 | Avg Loss: 1.369477 | Field Shape: torch.Size([32, 96, 96]) | Path Shape: torch.Size([32, 8, 2])\n"
          ]
        },
        {
          "name": "stderr",
          "output_type": "stream",
          "text": []
        },
        {
          "name": "stdout",
          "output_type": "stream",
          "text": [
            "\n",
            "Batch 480/802 | Loss: 1.407892 | Avg Loss: 1.371362 | Field Shape: torch.Size([32, 96, 96]) | Path Shape: torch.Size([32, 8, 2])\n"
          ]
        },
        {
          "name": "stderr",
          "output_type": "stream",
          "text": []
        },
        {
          "name": "stdout",
          "output_type": "stream",
          "text": [
            "\n",
            "Batch 500/802 | Loss: 1.463485 | Avg Loss: 1.370977 | Field Shape: torch.Size([32, 96, 96]) | Path Shape: torch.Size([32, 8, 2])\n"
          ]
        },
        {
          "name": "stderr",
          "output_type": "stream",
          "text": []
        },
        {
          "name": "stdout",
          "output_type": "stream",
          "text": [
            "\n",
            "Batch 520/802 | Loss: 1.321935 | Avg Loss: 1.370372 | Field Shape: torch.Size([32, 96, 96]) | Path Shape: torch.Size([32, 8, 2])\n"
          ]
        },
        {
          "name": "stderr",
          "output_type": "stream",
          "text": []
        },
        {
          "name": "stdout",
          "output_type": "stream",
          "text": [
            "\n",
            "Batch 540/802 | Loss: 1.495728 | Avg Loss: 1.371961 | Field Shape: torch.Size([32, 96, 96]) | Path Shape: torch.Size([32, 8, 2])\n"
          ]
        },
        {
          "name": "stderr",
          "output_type": "stream",
          "text": []
        },
        {
          "name": "stdout",
          "output_type": "stream",
          "text": [
            "\n",
            "Batch 560/802 | Loss: 1.418446 | Avg Loss: 1.371539 | Field Shape: torch.Size([32, 96, 96]) | Path Shape: torch.Size([32, 8, 2])\n"
          ]
        },
        {
          "name": "stderr",
          "output_type": "stream",
          "text": []
        },
        {
          "name": "stdout",
          "output_type": "stream",
          "text": [
            "\n",
            "Batch 580/802 | Loss: 1.271354 | Avg Loss: 1.370225 | Field Shape: torch.Size([32, 96, 96]) | Path Shape: torch.Size([32, 8, 2])\n"
          ]
        },
        {
          "name": "stderr",
          "output_type": "stream",
          "text": []
        },
        {
          "name": "stdout",
          "output_type": "stream",
          "text": [
            "\n",
            "Batch 600/802 | Loss: 1.345423 | Avg Loss: 1.371496 | Field Shape: torch.Size([32, 96, 96]) | Path Shape: torch.Size([32, 8, 2])\n"
          ]
        },
        {
          "name": "stderr",
          "output_type": "stream",
          "text": []
        },
        {
          "name": "stdout",
          "output_type": "stream",
          "text": [
            "\n",
            "Batch 620/802 | Loss: 1.334440 | Avg Loss: 1.371258 | Field Shape: torch.Size([32, 96, 96]) | Path Shape: torch.Size([32, 8, 2])\n"
          ]
        },
        {
          "name": "stderr",
          "output_type": "stream",
          "text": []
        },
        {
          "name": "stdout",
          "output_type": "stream",
          "text": [
            "\n",
            "Batch 640/802 | Loss: 1.002134 | Avg Loss: 1.369233 | Field Shape: torch.Size([32, 96, 96]) | Path Shape: torch.Size([32, 8, 2])\n"
          ]
        },
        {
          "name": "stderr",
          "output_type": "stream",
          "text": []
        },
        {
          "name": "stdout",
          "output_type": "stream",
          "text": [
            "\n",
            "Batch 660/802 | Loss: 1.500548 | Avg Loss: 1.369629 | Field Shape: torch.Size([32, 96, 96]) | Path Shape: torch.Size([32, 8, 2])\n"
          ]
        },
        {
          "name": "stderr",
          "output_type": "stream",
          "text": []
        },
        {
          "name": "stdout",
          "output_type": "stream",
          "text": [
            "\n",
            "Batch 680/802 | Loss: 1.425904 | Avg Loss: 1.368627 | Field Shape: torch.Size([32, 96, 96]) | Path Shape: torch.Size([32, 8, 2])\n"
          ]
        },
        {
          "name": "stderr",
          "output_type": "stream",
          "text": []
        },
        {
          "name": "stdout",
          "output_type": "stream",
          "text": [
            "\n",
            "Batch 700/802 | Loss: 1.354166 | Avg Loss: 1.367348 | Field Shape: torch.Size([32, 96, 96]) | Path Shape: torch.Size([32, 8, 2])\n"
          ]
        },
        {
          "name": "stderr",
          "output_type": "stream",
          "text": []
        },
        {
          "name": "stdout",
          "output_type": "stream",
          "text": [
            "\n",
            "Batch 720/802 | Loss: 1.556460 | Avg Loss: 1.367187 | Field Shape: torch.Size([32, 96, 96]) | Path Shape: torch.Size([32, 8, 2])\n"
          ]
        },
        {
          "name": "stderr",
          "output_type": "stream",
          "text": []
        },
        {
          "name": "stdout",
          "output_type": "stream",
          "text": [
            "\n",
            "Batch 740/802 | Loss: 1.270162 | Avg Loss: 1.367690 | Field Shape: torch.Size([32, 96, 96]) | Path Shape: torch.Size([32, 8, 2])\n"
          ]
        },
        {
          "name": "stderr",
          "output_type": "stream",
          "text": []
        },
        {
          "name": "stdout",
          "output_type": "stream",
          "text": [
            "\n",
            "Batch 760/802 | Loss: 1.351671 | Avg Loss: 1.366303 | Field Shape: torch.Size([32, 96, 96]) | Path Shape: torch.Size([32, 8, 2])\n"
          ]
        },
        {
          "name": "stderr",
          "output_type": "stream",
          "text": []
        },
        {
          "name": "stdout",
          "output_type": "stream",
          "text": [
            "\n",
            "Batch 780/802 | Loss: 1.281934 | Avg Loss: 1.367460 | Field Shape: torch.Size([32, 96, 96]) | Path Shape: torch.Size([32, 8, 2])\n"
          ]
        },
        {
          "name": "stderr",
          "output_type": "stream",
          "text": []
        },
        {
          "name": "stdout",
          "output_type": "stream",
          "text": [
            "\n",
            "Batch 800/802 | Loss: 1.547743 | Avg Loss: 1.366129 | Field Shape: torch.Size([32, 96, 96]) | Path Shape: torch.Size([32, 8, 2])\n"
          ]
        },
        {
          "name": "stderr",
          "output_type": "stream",
          "text": [
            "Epoch:  37%|███▋      | 11/30 [53:02<1:35:37, 301.99s/it, epoch_loss=1.365833, best_loss=0.608634, batches=802]"
          ]
        },
        {
          "name": "stdout",
          "output_type": "stream",
          "text": [
            "\n",
            "Batch 20/802 | Loss: 1.349160 | Avg Loss: 1.360904 | Field Shape: torch.Size([32, 96, 96]) | Path Shape: torch.Size([32, 8, 2])\n"
          ]
        },
        {
          "name": "stderr",
          "output_type": "stream",
          "text": []
        },
        {
          "name": "stdout",
          "output_type": "stream",
          "text": [
            "\n",
            "Batch 40/802 | Loss: 1.434670 | Avg Loss: 1.370623 | Field Shape: torch.Size([32, 96, 96]) | Path Shape: torch.Size([32, 8, 2])\n"
          ]
        },
        {
          "name": "stderr",
          "output_type": "stream",
          "text": []
        },
        {
          "name": "stdout",
          "output_type": "stream",
          "text": [
            "\n",
            "Batch 60/802 | Loss: 1.374538 | Avg Loss: 1.363948 | Field Shape: torch.Size([32, 96, 96]) | Path Shape: torch.Size([32, 8, 2])\n"
          ]
        },
        {
          "name": "stderr",
          "output_type": "stream",
          "text": []
        },
        {
          "name": "stdout",
          "output_type": "stream",
          "text": [
            "\n",
            "Batch 80/802 | Loss: 1.395782 | Avg Loss: 1.372347 | Field Shape: torch.Size([32, 96, 96]) | Path Shape: torch.Size([32, 8, 2])\n"
          ]
        },
        {
          "name": "stderr",
          "output_type": "stream",
          "text": []
        },
        {
          "name": "stdout",
          "output_type": "stream",
          "text": [
            "\n",
            "Batch 100/802 | Loss: 1.469575 | Avg Loss: 1.364154 | Field Shape: torch.Size([32, 96, 96]) | Path Shape: torch.Size([32, 8, 2])\n"
          ]
        },
        {
          "name": "stderr",
          "output_type": "stream",
          "text": []
        },
        {
          "name": "stdout",
          "output_type": "stream",
          "text": [
            "\n",
            "Batch 120/802 | Loss: 1.359512 | Avg Loss: 1.366611 | Field Shape: torch.Size([32, 96, 96]) | Path Shape: torch.Size([32, 8, 2])\n"
          ]
        },
        {
          "name": "stderr",
          "output_type": "stream",
          "text": []
        },
        {
          "name": "stdout",
          "output_type": "stream",
          "text": [
            "\n",
            "Batch 140/802 | Loss: 1.137129 | Avg Loss: 1.365535 | Field Shape: torch.Size([32, 96, 96]) | Path Shape: torch.Size([32, 8, 2])\n"
          ]
        },
        {
          "name": "stderr",
          "output_type": "stream",
          "text": []
        },
        {
          "name": "stdout",
          "output_type": "stream",
          "text": [
            "\n",
            "Batch 160/802 | Loss: 1.532499 | Avg Loss: 1.366720 | Field Shape: torch.Size([32, 96, 96]) | Path Shape: torch.Size([32, 8, 2])\n"
          ]
        },
        {
          "name": "stderr",
          "output_type": "stream",
          "text": []
        },
        {
          "name": "stdout",
          "output_type": "stream",
          "text": [
            "\n",
            "Batch 180/802 | Loss: 1.578404 | Avg Loss: 1.368243 | Field Shape: torch.Size([32, 96, 96]) | Path Shape: torch.Size([32, 8, 2])\n"
          ]
        },
        {
          "name": "stderr",
          "output_type": "stream",
          "text": []
        },
        {
          "name": "stdout",
          "output_type": "stream",
          "text": [
            "\n",
            "Batch 200/802 | Loss: 1.503469 | Avg Loss: 1.369162 | Field Shape: torch.Size([32, 96, 96]) | Path Shape: torch.Size([32, 8, 2])\n"
          ]
        },
        {
          "name": "stderr",
          "output_type": "stream",
          "text": []
        },
        {
          "name": "stdout",
          "output_type": "stream",
          "text": [
            "\n",
            "Batch 220/802 | Loss: 1.268501 | Avg Loss: 1.368603 | Field Shape: torch.Size([32, 96, 96]) | Path Shape: torch.Size([32, 8, 2])\n"
          ]
        },
        {
          "name": "stderr",
          "output_type": "stream",
          "text": []
        },
        {
          "name": "stdout",
          "output_type": "stream",
          "text": [
            "\n",
            "Batch 240/802 | Loss: 1.368101 | Avg Loss: 1.369192 | Field Shape: torch.Size([32, 96, 96]) | Path Shape: torch.Size([32, 8, 2])\n"
          ]
        },
        {
          "name": "stderr",
          "output_type": "stream",
          "text": []
        },
        {
          "name": "stdout",
          "output_type": "stream",
          "text": [
            "\n",
            "Batch 260/802 | Loss: 1.408097 | Avg Loss: 1.368407 | Field Shape: torch.Size([32, 96, 96]) | Path Shape: torch.Size([32, 8, 2])\n"
          ]
        },
        {
          "name": "stderr",
          "output_type": "stream",
          "text": []
        },
        {
          "name": "stdout",
          "output_type": "stream",
          "text": [
            "\n",
            "Batch 280/802 | Loss: 1.399958 | Avg Loss: 1.368181 | Field Shape: torch.Size([32, 96, 96]) | Path Shape: torch.Size([32, 8, 2])\n"
          ]
        },
        {
          "name": "stderr",
          "output_type": "stream",
          "text": []
        },
        {
          "name": "stdout",
          "output_type": "stream",
          "text": [
            "\n",
            "Batch 300/802 | Loss: 1.322743 | Avg Loss: 1.366160 | Field Shape: torch.Size([32, 96, 96]) | Path Shape: torch.Size([32, 8, 2])\n"
          ]
        },
        {
          "name": "stderr",
          "output_type": "stream",
          "text": []
        },
        {
          "name": "stdout",
          "output_type": "stream",
          "text": [
            "\n",
            "Batch 320/802 | Loss: 1.117352 | Avg Loss: 1.366570 | Field Shape: torch.Size([32, 96, 96]) | Path Shape: torch.Size([32, 8, 2])\n"
          ]
        },
        {
          "name": "stderr",
          "output_type": "stream",
          "text": []
        },
        {
          "name": "stdout",
          "output_type": "stream",
          "text": [
            "\n",
            "Batch 340/802 | Loss: 1.409963 | Avg Loss: 1.365734 | Field Shape: torch.Size([32, 96, 96]) | Path Shape: torch.Size([32, 8, 2])\n"
          ]
        },
        {
          "name": "stderr",
          "output_type": "stream",
          "text": []
        },
        {
          "name": "stdout",
          "output_type": "stream",
          "text": [
            "\n",
            "Batch 360/802 | Loss: 1.334734 | Avg Loss: 1.366951 | Field Shape: torch.Size([32, 96, 96]) | Path Shape: torch.Size([32, 8, 2])\n"
          ]
        },
        {
          "name": "stderr",
          "output_type": "stream",
          "text": []
        },
        {
          "name": "stdout",
          "output_type": "stream",
          "text": [
            "\n",
            "Batch 380/802 | Loss: 1.150941 | Avg Loss: 1.367479 | Field Shape: torch.Size([32, 96, 96]) | Path Shape: torch.Size([32, 8, 2])\n"
          ]
        },
        {
          "name": "stderr",
          "output_type": "stream",
          "text": []
        },
        {
          "name": "stdout",
          "output_type": "stream",
          "text": [
            "\n",
            "Batch 400/802 | Loss: 1.302334 | Avg Loss: 1.367872 | Field Shape: torch.Size([32, 96, 96]) | Path Shape: torch.Size([32, 8, 2])\n"
          ]
        },
        {
          "name": "stderr",
          "output_type": "stream",
          "text": []
        },
        {
          "name": "stdout",
          "output_type": "stream",
          "text": [
            "\n",
            "Batch 420/802 | Loss: 1.595875 | Avg Loss: 1.369138 | Field Shape: torch.Size([32, 96, 96]) | Path Shape: torch.Size([32, 8, 2])\n"
          ]
        },
        {
          "name": "stderr",
          "output_type": "stream",
          "text": []
        },
        {
          "name": "stdout",
          "output_type": "stream",
          "text": [
            "\n",
            "Batch 440/802 | Loss: 1.144783 | Avg Loss: 1.368681 | Field Shape: torch.Size([32, 96, 96]) | Path Shape: torch.Size([32, 8, 2])\n"
          ]
        },
        {
          "name": "stderr",
          "output_type": "stream",
          "text": []
        },
        {
          "name": "stdout",
          "output_type": "stream",
          "text": [
            "\n",
            "Batch 460/802 | Loss: 1.364649 | Avg Loss: 1.368823 | Field Shape: torch.Size([32, 96, 96]) | Path Shape: torch.Size([32, 8, 2])\n"
          ]
        },
        {
          "name": "stderr",
          "output_type": "stream",
          "text": []
        },
        {
          "name": "stdout",
          "output_type": "stream",
          "text": [
            "\n",
            "Batch 480/802 | Loss: 1.460590 | Avg Loss: 1.368452 | Field Shape: torch.Size([32, 96, 96]) | Path Shape: torch.Size([32, 8, 2])\n"
          ]
        },
        {
          "name": "stderr",
          "output_type": "stream",
          "text": []
        },
        {
          "name": "stdout",
          "output_type": "stream",
          "text": [
            "\n",
            "Batch 500/802 | Loss: 1.439599 | Avg Loss: 1.368444 | Field Shape: torch.Size([32, 96, 96]) | Path Shape: torch.Size([32, 8, 2])\n"
          ]
        },
        {
          "name": "stderr",
          "output_type": "stream",
          "text": []
        },
        {
          "name": "stdout",
          "output_type": "stream",
          "text": [
            "\n",
            "Batch 520/802 | Loss: 1.264805 | Avg Loss: 1.367102 | Field Shape: torch.Size([32, 96, 96]) | Path Shape: torch.Size([32, 8, 2])\n"
          ]
        },
        {
          "name": "stderr",
          "output_type": "stream",
          "text": []
        },
        {
          "name": "stdout",
          "output_type": "stream",
          "text": [
            "\n",
            "Batch 540/802 | Loss: 1.458588 | Avg Loss: 1.368589 | Field Shape: torch.Size([32, 96, 96]) | Path Shape: torch.Size([32, 8, 2])\n"
          ]
        },
        {
          "name": "stderr",
          "output_type": "stream",
          "text": []
        },
        {
          "name": "stdout",
          "output_type": "stream",
          "text": [
            "\n",
            "Batch 560/802 | Loss: 1.272224 | Avg Loss: 1.368561 | Field Shape: torch.Size([32, 96, 96]) | Path Shape: torch.Size([32, 8, 2])\n"
          ]
        },
        {
          "name": "stderr",
          "output_type": "stream",
          "text": []
        },
        {
          "name": "stdout",
          "output_type": "stream",
          "text": [
            "\n",
            "Batch 580/802 | Loss: 1.332599 | Avg Loss: 1.366720 | Field Shape: torch.Size([32, 96, 96]) | Path Shape: torch.Size([32, 8, 2])\n"
          ]
        },
        {
          "name": "stderr",
          "output_type": "stream",
          "text": []
        },
        {
          "name": "stdout",
          "output_type": "stream",
          "text": [
            "\n",
            "Batch 600/802 | Loss: 1.445250 | Avg Loss: 1.366486 | Field Shape: torch.Size([32, 96, 96]) | Path Shape: torch.Size([32, 8, 2])\n"
          ]
        },
        {
          "name": "stderr",
          "output_type": "stream",
          "text": []
        },
        {
          "name": "stdout",
          "output_type": "stream",
          "text": [
            "\n",
            "Batch 620/802 | Loss: 1.503728 | Avg Loss: 1.365498 | Field Shape: torch.Size([32, 96, 96]) | Path Shape: torch.Size([32, 8, 2])\n"
          ]
        },
        {
          "name": "stderr",
          "output_type": "stream",
          "text": []
        },
        {
          "name": "stdout",
          "output_type": "stream",
          "text": [
            "\n",
            "Batch 640/802 | Loss: 1.484413 | Avg Loss: 1.365405 | Field Shape: torch.Size([32, 96, 96]) | Path Shape: torch.Size([32, 8, 2])\n"
          ]
        },
        {
          "name": "stderr",
          "output_type": "stream",
          "text": []
        },
        {
          "name": "stdout",
          "output_type": "stream",
          "text": [
            "\n",
            "Batch 660/802 | Loss: 1.465970 | Avg Loss: 1.366069 | Field Shape: torch.Size([32, 96, 96]) | Path Shape: torch.Size([32, 8, 2])\n"
          ]
        },
        {
          "name": "stderr",
          "output_type": "stream",
          "text": []
        },
        {
          "name": "stdout",
          "output_type": "stream",
          "text": [
            "\n",
            "Batch 680/802 | Loss: 1.445010 | Avg Loss: 1.366880 | Field Shape: torch.Size([32, 96, 96]) | Path Shape: torch.Size([32, 8, 2])\n"
          ]
        },
        {
          "name": "stderr",
          "output_type": "stream",
          "text": []
        },
        {
          "name": "stdout",
          "output_type": "stream",
          "text": [
            "\n",
            "Batch 700/802 | Loss: 1.365322 | Avg Loss: 1.366903 | Field Shape: torch.Size([32, 96, 96]) | Path Shape: torch.Size([32, 8, 2])\n"
          ]
        },
        {
          "name": "stderr",
          "output_type": "stream",
          "text": []
        },
        {
          "name": "stdout",
          "output_type": "stream",
          "text": [
            "\n",
            "Batch 720/802 | Loss: 1.454026 | Avg Loss: 1.366716 | Field Shape: torch.Size([32, 96, 96]) | Path Shape: torch.Size([32, 8, 2])\n"
          ]
        },
        {
          "name": "stderr",
          "output_type": "stream",
          "text": []
        },
        {
          "name": "stdout",
          "output_type": "stream",
          "text": [
            "\n",
            "Batch 740/802 | Loss: 1.355599 | Avg Loss: 1.366905 | Field Shape: torch.Size([32, 96, 96]) | Path Shape: torch.Size([32, 8, 2])\n"
          ]
        },
        {
          "name": "stderr",
          "output_type": "stream",
          "text": []
        },
        {
          "name": "stdout",
          "output_type": "stream",
          "text": [
            "\n",
            "Batch 760/802 | Loss: 1.419766 | Avg Loss: 1.366371 | Field Shape: torch.Size([32, 96, 96]) | Path Shape: torch.Size([32, 8, 2])\n"
          ]
        },
        {
          "name": "stderr",
          "output_type": "stream",
          "text": []
        },
        {
          "name": "stdout",
          "output_type": "stream",
          "text": [
            "\n",
            "Batch 780/802 | Loss: 1.206501 | Avg Loss: 1.365879 | Field Shape: torch.Size([32, 96, 96]) | Path Shape: torch.Size([32, 8, 2])\n"
          ]
        },
        {
          "name": "stderr",
          "output_type": "stream",
          "text": []
        },
        {
          "name": "stdout",
          "output_type": "stream",
          "text": [
            "\n",
            "Batch 800/802 | Loss: 1.416720 | Avg Loss: 1.366193 | Field Shape: torch.Size([32, 96, 96]) | Path Shape: torch.Size([32, 8, 2])\n"
          ]
        },
        {
          "name": "stderr",
          "output_type": "stream",
          "text": [
            "Epoch:  40%|████      | 12/30 [58:05<1:30:44, 302.47s/it, epoch_loss=1.365920, best_loss=0.608634, batches=802]"
          ]
        },
        {
          "name": "stdout",
          "output_type": "stream",
          "text": [
            "\n",
            "Batch 20/802 | Loss: 1.346591 | Avg Loss: 1.361709 | Field Shape: torch.Size([32, 96, 96]) | Path Shape: torch.Size([32, 8, 2])\n"
          ]
        },
        {
          "name": "stderr",
          "output_type": "stream",
          "text": []
        },
        {
          "name": "stdout",
          "output_type": "stream",
          "text": [
            "\n",
            "Batch 40/802 | Loss: 1.412809 | Avg Loss: 1.362800 | Field Shape: torch.Size([32, 96, 96]) | Path Shape: torch.Size([32, 8, 2])\n"
          ]
        },
        {
          "name": "stderr",
          "output_type": "stream",
          "text": []
        },
        {
          "name": "stdout",
          "output_type": "stream",
          "text": [
            "\n",
            "Batch 60/802 | Loss: 1.371987 | Avg Loss: 1.362607 | Field Shape: torch.Size([32, 96, 96]) | Path Shape: torch.Size([32, 8, 2])\n"
          ]
        },
        {
          "name": "stderr",
          "output_type": "stream",
          "text": []
        },
        {
          "name": "stdout",
          "output_type": "stream",
          "text": [
            "\n",
            "Batch 80/802 | Loss: 1.452440 | Avg Loss: 1.361778 | Field Shape: torch.Size([32, 96, 96]) | Path Shape: torch.Size([32, 8, 2])\n"
          ]
        },
        {
          "name": "stderr",
          "output_type": "stream",
          "text": []
        },
        {
          "name": "stdout",
          "output_type": "stream",
          "text": [
            "\n",
            "Batch 100/802 | Loss: 1.450931 | Avg Loss: 1.360499 | Field Shape: torch.Size([32, 96, 96]) | Path Shape: torch.Size([32, 8, 2])\n"
          ]
        },
        {
          "name": "stderr",
          "output_type": "stream",
          "text": []
        },
        {
          "name": "stdout",
          "output_type": "stream",
          "text": [
            "\n",
            "Batch 120/802 | Loss: 1.405366 | Avg Loss: 1.359037 | Field Shape: torch.Size([32, 96, 96]) | Path Shape: torch.Size([32, 8, 2])\n"
          ]
        },
        {
          "name": "stderr",
          "output_type": "stream",
          "text": []
        },
        {
          "name": "stdout",
          "output_type": "stream",
          "text": [
            "\n",
            "Batch 140/802 | Loss: 1.237107 | Avg Loss: 1.364655 | Field Shape: torch.Size([32, 96, 96]) | Path Shape: torch.Size([32, 8, 2])\n"
          ]
        },
        {
          "name": "stderr",
          "output_type": "stream",
          "text": []
        },
        {
          "name": "stdout",
          "output_type": "stream",
          "text": [
            "\n",
            "Batch 160/802 | Loss: 1.398776 | Avg Loss: 1.368288 | Field Shape: torch.Size([32, 96, 96]) | Path Shape: torch.Size([32, 8, 2])\n"
          ]
        },
        {
          "name": "stderr",
          "output_type": "stream",
          "text": []
        },
        {
          "name": "stdout",
          "output_type": "stream",
          "text": [
            "\n",
            "Batch 180/802 | Loss: 1.386072 | Avg Loss: 1.368524 | Field Shape: torch.Size([32, 96, 96]) | Path Shape: torch.Size([32, 8, 2])\n"
          ]
        },
        {
          "name": "stderr",
          "output_type": "stream",
          "text": []
        },
        {
          "name": "stdout",
          "output_type": "stream",
          "text": [
            "\n",
            "Batch 200/802 | Loss: 1.460121 | Avg Loss: 1.370697 | Field Shape: torch.Size([32, 96, 96]) | Path Shape: torch.Size([32, 8, 2])\n"
          ]
        },
        {
          "name": "stderr",
          "output_type": "stream",
          "text": []
        }
      ],
      "source": [
        "\n",
        "\n",
        "# Training loop\n",
        "import random\n",
        "import numpy as np\n",
        "import torch.nn as nn\n",
        "from tqdm import tqdm\n",
        "\n",
        "def train_model(model, dataloader, device, obs_horizon, action_horizon, num_epochs=10):\n",
        "    \"\"\"Train the neural network model.\"\"\"\n",
        "    optimizer = torch.optim.Adam(\n",
        "        params=model.parameters(),\n",
        "        lr=1e-2, \n",
        "        # weight_decay=1e-6\n",
        "    )\n",
        "    \n",
        "    epoch_losses = []\n",
        "    batch_count = 0\n",
        "    \n",
        "    with tqdm(range(num_epochs), desc='Epoch') as tglobal:\n",
        "        for epoch_idx in tglobal:\n",
        "            epoch_loss = []\n",
        "            \n",
        "            with tqdm(dataloader, desc='Batch', leave=False) as tepoch:\n",
        "                for batch_idx, nbatch in enumerate(tepoch):\n",
        "                    batch_count += 1\n",
        "                    \n",
        "                    # Data transfer to device\n",
        "                    nimage = nbatch['image'][:, :obs_horizon].to(device).squeeze(1)\n",
        "                    nagent_pos = nbatch['agent_pos'][:, :obs_horizon].to(device)\n",
        "                    naction = nbatch['agent_pos'].to(device)\n",
        "                    \n",
        "                    # Forward pass\n",
        "                    field = model(nimage)\n",
        "                    B = nagent_pos.shape[0]\n",
        "                    \n",
        "                    # Process batch fields differentiably\n",
        "                    path = compute_differentiable_path(\n",
        "                        field,\n",
        "                        num_path_points=action_horizon\n",
        "                    ).to(device)\n",
        "                    \n",
        "                    # Normalize path if needed\n",
        "                    normalized_path = normalize_data_torch(path,dataset.stats[\"agent_pos\"])\n",
        "                    \n",
        "                    # Visualization (occasional)\n",
        "                    if batch_idx % 50 == 0:\n",
        "                        try:\n",
        "                            plot_agent_positions(naction, normalized_path)\n",
        "                            viz(field.clone().detach().cpu()[random.randint(0, min(63, B-1))])\n",
        "                        except:\n",
        "                            pass  # Skip visualization if functions not available\n",
        "                    \n",
        "                    # Compute loss\n",
        "                    loss = nn.functional.mse_loss(normalized_path, naction)\n",
        "                    \n",
        "                    # Backward pass and optimization\n",
        "                    optimizer.zero_grad()\n",
        "                    loss.backward()\n",
        "                    optimizer.step()\n",
        "                    \n",
        "                    # Logging\n",
        "                    loss_cpu = loss.item()\n",
        "                    epoch_loss.append(loss_cpu)\n",
        "                    \n",
        "                    batch_avg_loss = np.mean(epoch_loss)\n",
        "                    tepoch.set_postfix({\n",
        "                        'batch_loss': f'{loss_cpu:.6f}',\n",
        "                        'batch_avg': f'{batch_avg_loss:.6f}',\n",
        "                        'batch': f'{batch_idx+1}/{len(dataloader)}'\n",
        "                    })\n",
        "                    \n",
        "                    # # Print detailed batch stats every 20 batches\n",
        "                    if (batch_idx + 1) % 20 == 0:\n",
        "                        print(f\"\\nBatch {batch_idx+1}/{len(dataloader)} | \"\n",
        "                              f\"Loss: {loss_cpu:.6f} | \"\n",
        "                              f\"Avg Loss: {batch_avg_loss:.6f} | \"\n",
        "                              f\"Field Shape: {field.shape} | \"\n",
        "                              f\"Path Shape: {path.shape}\")\n",
        "            \n",
        "            # Epoch statistics\n",
        "            epoch_avg_loss = np.mean(epoch_loss)\n",
        "            epoch_losses.append(epoch_avg_loss)\n",
        "            \n",
        "            tglobal.set_postfix({\n",
        "                'epoch_loss': f'{epoch_avg_loss:.6f}',\n",
        "                'best_loss': f'{min(epoch_losses):.6f}',\n",
        "                'batches': len(dataloader)\n",
        "            })\n",
        "    \n",
        "    return epoch_losses\n",
        "\n",
        "# Usage example:\n",
        "epoch_losses = train_model(model, dataloader, device, obs_horizon, action_horizon, num_epochs=30)"
      ]
    },
    {
      "cell_type": "code",
      "execution_count": null,
      "metadata": {},
      "outputs": [],
      "source": []
    },
    {
      "cell_type": "code",
      "execution_count": null,
      "metadata": {
        "id": "OyLjlNQk5nr9"
      },
      "outputs": [],
      "source": [
        "# #@markdown ### **Inference**\n",
        "\n",
        "# # limit enviornment interaction to 200 steps before termination\n",
        "# max_steps = 200\n",
        "# env = PushTImageEnv()\n",
        "# # use a seed >200 to avoid initial states seen in the training dataset\n",
        "# Batch 20/802 | Loss: 0.639597 | Avg Loss: 0.438793 | Field Shape: torch.Size([32, 96, 96]) | Path Shape: torch.Size([32, 8, 2])\n",
        "env.seed(100000)\n",
        "\n",
        "# # get first observation\n",
        "# obs, info = env.reset()\n",
        "\n",
        "# # keep a queue of last 2 steps of observations\n",
        "# obs_deque = collections.deque(\n",
        "#     [obs] * obs_horizon, maxlen=obs_horizon)\n",
        "# # save visualization and rewards\n",
        "# imgs = [env.render(mode='rgb_array')]\n",
        "# rewards = list()\n",
        "# done = False\n",
        "# step_idx = 0\n",
        "\n",
        "# with tqdm(total=max_steps, desc=\"Eval PushTImageEnv\") as pbar:\n",
        "#     while not done:\n",
        "#         B = 1\n",
        "#         # stack the last obs_horizon number of observations\n",
        "#         images = np.stack([x['image'] for x in obs_deque])\n",
        "#         agent_poses = np.stack([x['agent_pos'] for x in obs_deque])\n",
        "\n",
        "#         # normalize observation\n",
        "#         nagent_poses = normalize_data(agent_poses, stats=stats['agent_pos'])\n",
        "#         # images are already normalized to [0,1]\n",
        "#         nimages = images\n",
        "\n",
        "#         # device transfer\n",
        "#         nimages = torch.from_numpy(nimages).to(device, dtype=torch.float32)\n",
        "#         # (2,3,96,96)\n",
        "#         nagent_poses = torch.from_numpy(nagent_poses).to(device, dtype=torch.float32)\n",
        "#         # (2,2)\n",
        "\n",
        "#         # infer action\n",
        "#         with torch.no_grad():\n",
        "#             # get image features\n",
        "#             image_features = ema_nets['vision_encoder'](nimages)\n",
        "#             # (2,512)\n",
        "\n",
        "#             # concat with low-dim observations\n",
        "#             obs_features = torch.cat([image_features, nagent_poses], dim=-1)\n",
        "\n",
        "#             # reshape observation to (B,obs_horizon*obs_dim)\n",
        "#             obs_cond = obs_features.unsqueeze(0).flatten(start_dim=1)\n",
        "\n",
        "#             # initialize action from Guassian noise\n",
        "#             noisy_action = torch.randn(\n",
        "#                 (B, pred_horizon, action_dim), device=device)\n",
        "#             naction = noisy_action\n",
        "\n",
        "#             # init scheduler\n",
        "#             noise_scheduler.set_timesteps(num_diffusion_iters)\n",
        "\n",
        "#             for k in noise_scheduler.timesteps:\n",
        "#                 # predict noise\n",
        "#                 noise_pred = ema_nets['noise_pred_net'](\n",
        "#                     sample=naction,\n",
        "#                     timestep=k,\n",
        "#                     global_cond=obs_cond\n",
        "#                 )\n",
        "\n",
        "#                 # inverse diffusion step (remove noise)\n",
        "#                 naction = noise_scheduler.step(\n",
        "#                     model_output=noise_pred,\n",
        "#                     timestep=k,\n",
        "#                     sample=naction\n",
        "#                 ).prev_sample\n",
        "\n",
        "#         # unnormalize action\n",
        "#         naction = naction.detach().to('cpu').numpy()\n",
        "#         # (B, pred_horizon, action_dim)\n",
        "#         naction = naction[0]\n",
        "#         action_pred = unnormalize_data(naction, stats=stats['action'])\n",
        "\n",
        "#         # only take action_horizon number of actions\n",
        "#         start = obs_horizon - 1\n",
        "#         end = start + action_horizon\n",
        "#         action = action_pred[start:end,:]\n",
        "#         # (action_horizon, action_dim)\n",
        "\n",
        "#         # execute action_horizon number of steps\n",
        "#         # without replanning\n",
        "#         for i in range(len(action)):\n",
        "#             # stepping env\n",
        "#             obs, reward, done, _, info = env.step(action[i])\n",
        "#             # save observations\n",
        "#             obs_deque.append(obs)\n",
        "#             # and reward/vis\n",
        "#             rewards.append(reward)\n",
        "#             imgs.append(env.render(mode='rgb_array'))\n",
        "\n",
        "#             # update progress bar\n",
        "#             step_idx += 1\n",
        "#             pbar.update(1)\n",
        "#             pbar.set_postfix(reward=reward)\n",
        "#             if step_idx > max_steps:\n",
        "#                 done = True\n",
        "#             if done:\n",
        "#                 break\n",
        "\n",
        "# # print out the maximum target coverage\n",
        "# print('Score: ', max(rewards))\n",
        "\n",
        "# # visualize\n",
        "# from IPython.display import Video\n",
        "# vwrite('vis.mp4', imgs)\n",
        "# Video('vis.mp4', embed=True, width=256, height=256)"
      ]
    }
  ],
  "metadata": {
    "accelerator": "GPU",
    "colab": {
      "provenance": []
    },
    "gpuClass": "standard",
    "kernelspec": {
      "display_name": "cvar-vision-rl",
      "language": "python",
      "name": "python3"
    },
    "language_info": {
      "codemirror_mode": {
        "name": "ipython",
        "version": 3
      },
      "file_extension": ".py",
      "mimetype": "text/x-python",
      "name": "python",
      "nbconvert_exporter": "python",
      "pygments_lexer": "ipython3",
      "version": "3.8.19"
    }
  },
  "nbformat": 4,
  "nbformat_minor": 0
}
